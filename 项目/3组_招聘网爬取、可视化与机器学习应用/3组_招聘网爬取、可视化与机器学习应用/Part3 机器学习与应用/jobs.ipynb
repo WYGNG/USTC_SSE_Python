{
 "cells": [
  {
   "cell_type": "markdown",
   "metadata": {},
   "source": [
    "# 第三部分：机器学习——预测期望的薪资\n",
    "本次项目分为三部分：\n",
    "\n",
    "第一部分：原始数据爬取\n",
    "\n",
    "第二部分：数据可视化展示\n",
    "\n",
    "第三部分：机器学习——预测期望的薪资\n",
    "\n",
    "本人的工作分配为第三部分。"
   ]
  },
  {
   "cell_type": "markdown",
   "metadata": {},
   "source": [
    "## 一、项目概述\n",
    "1. 数据集为爬取的java职位招聘信息，本部分将 salary 属性作为标签，将其他属性作为输入，训练出一个预测期望薪资的模型。\n",
    "\n",
    "2. 本项目主要使用 sklearn 框架\n",
    "\n",
    "3. 本项目以均方根差作为模型预测性能的评价标准。"
   ]
  },
  {
   "cell_type": "markdown",
   "metadata": {},
   "source": [
    "## 二、数据获取并可视化展示\n",
    "本部分由本小组其他两位成员分别完成。"
   ]
  },
  {
   "cell_type": "markdown",
   "metadata": {},
   "source": [
    "## 三、为机器学习算法准备数据\n",
    "1. salary 属性: 处理为数值属性，取区间端点的平均值，单位为（万元/月），并从数据集中分离出来作为标签\n",
    "\n",
    "2. position 属性: 分类为：java资深, java高级, java中级, java开发, java实习\n",
    "\n",
    "3. company_name 属性: 直接删掉\n",
    "\n",
    "4. city 属性: 提取出城市名，分类为：一线、新一线、二线、三线及以下\n",
    "\n",
    "5. education 属性: 将个别不是教育信息的内容，填充为众数：本科\n",
    "\n",
    "6. welfare 属性: 直接删掉\n",
    "\n",
    "7. company_major 属性: 分类为：计算机硬件、计算机软件、其他行业"
   ]
  },
  {
   "cell_type": "markdown",
   "metadata": {},
   "source": [
    "### 1. 加载数据"
   ]
  },
  {
   "cell_type": "code",
   "execution_count": 1,
   "metadata": {},
   "outputs": [],
   "source": [
    "import pandas as pd\n",
    "\n",
    "jobs = pd.read_csv(\"data/info.csv\")"
   ]
  },
  {
   "cell_type": "code",
   "execution_count": 2,
   "metadata": {},
   "outputs": [
    {
     "data": {
      "text/html": [
       "<div>\n",
       "<style scoped>\n",
       "    .dataframe tbody tr th:only-of-type {\n",
       "        vertical-align: middle;\n",
       "    }\n",
       "\n",
       "    .dataframe tbody tr th {\n",
       "        vertical-align: top;\n",
       "    }\n",
       "\n",
       "    .dataframe thead th {\n",
       "        text-align: right;\n",
       "    }\n",
       "</style>\n",
       "<table border=\"1\" class=\"dataframe\">\n",
       "  <thead>\n",
       "    <tr style=\"text-align: right;\">\n",
       "      <th></th>\n",
       "      <th>Unnamed: 0</th>\n",
       "      <th>position</th>\n",
       "      <th>salary</th>\n",
       "      <th>company_name</th>\n",
       "      <th>city</th>\n",
       "      <th>experience</th>\n",
       "      <th>education</th>\n",
       "      <th>welfare</th>\n",
       "      <th>company_type</th>\n",
       "      <th>company_scale</th>\n",
       "      <th>company_major</th>\n",
       "      <th>_id</th>\n",
       "    </tr>\n",
       "  </thead>\n",
       "  <tbody>\n",
       "    <tr>\n",
       "      <th>0</th>\n",
       "      <td>0</td>\n",
       "      <td>高级应用软件开发工程师（java）</td>\n",
       "      <td>1.5-2万/月</td>\n",
       "      <td>杭州海康威视数字技术股份有限公司</td>\n",
       "      <td>南京</td>\n",
       "      <td>无工作经验</td>\n",
       "      <td>招4人</td>\n",
       "      <td>NaN</td>\n",
       "      <td>上市公司</td>\n",
       "      <td>10000人以上</td>\n",
       "      <td>通信/电信/网络设备</td>\n",
       "      <td>5dc8e2615955fa04c54b9674</td>\n",
       "    </tr>\n",
       "    <tr>\n",
       "      <th>1</th>\n",
       "      <td>1</td>\n",
       "      <td>Java开发工程师</td>\n",
       "      <td>1-1.5万/月</td>\n",
       "      <td>中软国际科技服务有限公司</td>\n",
       "      <td>深圳-南山区</td>\n",
       "      <td>2年经验</td>\n",
       "      <td>大专</td>\n",
       "      <td>NaN</td>\n",
       "      <td>合资</td>\n",
       "      <td>10000人以上</td>\n",
       "      <td>计算机软件</td>\n",
       "      <td>5dc8e2625955fa04c54b9675</td>\n",
       "    </tr>\n",
       "    <tr>\n",
       "      <th>2</th>\n",
       "      <td>2</td>\n",
       "      <td>Java开发工程师</td>\n",
       "      <td>1.2-1.5万/月</td>\n",
       "      <td>神州数码通用软件（北京）有限公司</td>\n",
       "      <td>上海</td>\n",
       "      <td>3-4年经验</td>\n",
       "      <td>本科</td>\n",
       "      <td>五险一金,带薪年假,定期体检,定期团建</td>\n",
       "      <td>外资（非欧美）</td>\n",
       "      <td>500-1000人</td>\n",
       "      <td>计算机软件</td>\n",
       "      <td>5dc8e2635955fa04c54b9676</td>\n",
       "    </tr>\n",
       "    <tr>\n",
       "      <th>3</th>\n",
       "      <td>3</td>\n",
       "      <td>Java中级开发工程师</td>\n",
       "      <td>0.8-1.6万/月</td>\n",
       "      <td>苏州玩友时代科技股份有限公司</td>\n",
       "      <td>苏州-工业园区</td>\n",
       "      <td>无工作经验</td>\n",
       "      <td>招2人</td>\n",
       "      <td>五险一金,年终奖金,绩效奖金,专业培训,定期体检,弹性工作</td>\n",
       "      <td>民营公司</td>\n",
       "      <td>1000-5000人</td>\n",
       "      <td>网络游戏</td>\n",
       "      <td>5dc8e2645955fa04c54b9677</td>\n",
       "    </tr>\n",
       "    <tr>\n",
       "      <th>4</th>\n",
       "      <td>4</td>\n",
       "      <td>Java开发工程师</td>\n",
       "      <td>0.8-1万/月</td>\n",
       "      <td>深圳市库袋科技有限公司</td>\n",
       "      <td>深圳-南山区</td>\n",
       "      <td>无工作经验</td>\n",
       "      <td>大专</td>\n",
       "      <td>做五休二,带薪年假,包住宿,五险一金,绩效奖金</td>\n",
       "      <td>民营公司</td>\n",
       "      <td>50-150人</td>\n",
       "      <td>计算机软件</td>\n",
       "      <td>5dc8e2655955fa04c54b9678</td>\n",
       "    </tr>\n",
       "  </tbody>\n",
       "</table>\n",
       "</div>"
      ],
      "text/plain": [
       "   Unnamed: 0           position      salary      company_name     city  \\\n",
       "0           0  高级应用软件开发工程师（java）    1.5-2万/月  杭州海康威视数字技术股份有限公司       南京   \n",
       "1           1          Java开发工程师    1-1.5万/月      中软国际科技服务有限公司   深圳-南山区   \n",
       "2           2          Java开发工程师  1.2-1.5万/月  神州数码通用软件（北京）有限公司       上海   \n",
       "3           3        Java中级开发工程师  0.8-1.6万/月    苏州玩友时代科技股份有限公司  苏州-工业园区   \n",
       "4           4          Java开发工程师    0.8-1万/月       深圳市库袋科技有限公司   深圳-南山区   \n",
       "\n",
       "  experience education                        welfare company_type  \\\n",
       "0      无工作经验       招4人                            NaN         上市公司   \n",
       "1       2年经验        大专                            NaN           合资   \n",
       "2     3-4年经验        本科            五险一金,带薪年假,定期体检,定期团建      外资（非欧美）   \n",
       "3      无工作经验       招2人  五险一金,年终奖金,绩效奖金,专业培训,定期体检,弹性工作         民营公司   \n",
       "4      无工作经验        大专        做五休二,带薪年假,包住宿,五险一金,绩效奖金         民营公司   \n",
       "\n",
       "  company_scale company_major                       _id  \n",
       "0      10000人以上    通信/电信/网络设备  5dc8e2615955fa04c54b9674  \n",
       "1      10000人以上         计算机软件  5dc8e2625955fa04c54b9675  \n",
       "2     500-1000人         计算机软件  5dc8e2635955fa04c54b9676  \n",
       "3    1000-5000人          网络游戏  5dc8e2645955fa04c54b9677  \n",
       "4       50-150人         计算机软件  5dc8e2655955fa04c54b9678  "
      ]
     },
     "execution_count": 2,
     "metadata": {},
     "output_type": "execute_result"
    }
   ],
   "source": [
    "jobs.head()"
   ]
  },
  {
   "cell_type": "code",
   "execution_count": 3,
   "metadata": {},
   "outputs": [
    {
     "name": "stdout",
     "output_type": "stream",
     "text": [
      "<class 'pandas.core.frame.DataFrame'>\n",
      "RangeIndex: 9524 entries, 0 to 9523\n",
      "Data columns (total 12 columns):\n",
      "Unnamed: 0       9524 non-null int64\n",
      "position         9524 non-null object\n",
      "salary           9524 non-null object\n",
      "company_name     9524 non-null object\n",
      "city             9524 non-null object\n",
      "experience       9524 non-null object\n",
      "education        9524 non-null object\n",
      "welfare          8011 non-null object\n",
      "company_type     9524 non-null object\n",
      "company_scale    9431 non-null object\n",
      "company_major    9524 non-null object\n",
      "_id              9524 non-null object\n",
      "dtypes: int64(1), object(11)\n",
      "memory usage: 893.0+ KB\n"
     ]
    }
   ],
   "source": [
    "jobs.info()"
   ]
  },
  {
   "cell_type": "markdown",
   "metadata": {},
   "source": [
    "### 2. 定义数据处理的管道函数"
   ]
  },
  {
   "cell_type": "code",
   "execution_count": 4,
   "metadata": {},
   "outputs": [],
   "source": [
    "import re\n",
    "\n",
    "# salary 属性处理函数\n",
    "def salary_process(data):\n",
    "    unit1 = u'万/年'\n",
    "    unit2 = u'千/月'\n",
    "    unit3 = u'元/天'\n",
    "    unit4 = u'万/月'\n",
    "    column = data['salary'].copy()\n",
    "    \n",
    "    for i in range(0, len(data)):\n",
    "        if unit1 in column[i]:\n",
    "            x = re.findall(r'\\d*\\.?\\d+', column[i])\n",
    "            data.loc[i, 'salary'] = format((float(x[0]) + float(x[1])) / 24, '.2f')\n",
    "        elif unit2 in column[i]:\n",
    "            x = re.findall(r'\\d*\\.?\\d+', column[i])\n",
    "            data.loc[i, 'salary'] = format((float(x[0]) + float(x[1])) * 0.05, '.2f')\n",
    "        elif unit3 in column[i]:\n",
    "            x = re.findall(r'\\d*', column[i])\n",
    "            data.loc[i, 'salary'] = format(float(x[0]) * 20 / 10000, '.2f')\n",
    "        elif unit4 in column[i]:\n",
    "            x = re.findall(r'\\d*\\.?\\d+', column[i])\n",
    "            data.loc[i, 'salary'] = format((float(x[0]) + float(x[1])) * 0.5, '.2f')\n",
    "        else:\n",
    "            x = re.findall(r'\\d*', column[i])\n",
    "            data.loc[i, 'salary'] = format(float(x[0]) * 0.1, '.2f')\n"
   ]
  },
  {
   "cell_type": "code",
   "execution_count": 5,
   "metadata": {},
   "outputs": [],
   "source": [
    "# position 属性处理函数\n",
    "def position_process(data):\n",
    "    top1 = u'架构'\n",
    "    top2 = u'资深'\n",
    "    top3 = u'经理'\n",
    "    high1 = u'高级'\n",
    "    mid1 = u'中级'\n",
    "    prac1 = u'实习'\n",
    "    prac2 = u'培训'\n",
    "    column = data['position']\n",
    "    \n",
    "    for i in range(0, len(data)):\n",
    "        if (prac1 in column[i]) or (prac1 in column[i]):\n",
    "            data.loc[i, \"position\"] = \"java实习\"\n",
    "        elif (top1 in column[i]) or (top2 in column[i]) or (top3 in column[i]):\n",
    "            data.loc[i, \"position\"] = \"java资深\"\n",
    "        elif high1 in column[i]:\n",
    "            data.loc[i, \"position\"] = \"java高级\"\n",
    "        elif mid1 in column[i]:\n",
    "            data.loc[i, \"position\"] = \"java中级\"\n",
    "        else:\n",
    "            data.loc[i, \"position\"] = \"java开发\""
   ]
  },
  {
   "cell_type": "code",
   "execution_count": 6,
   "metadata": {},
   "outputs": [],
   "source": [
    "# city 属性处理函数\n",
    "def city_process(data):\n",
    "    cities1 = (\"上海\", \"广州\", \"深圳\", \"北京\")\n",
    "    cities2 = (\"成都\", \"杭州\", \"重庆\", \"武汉\", \"西安\", \"苏州\", \"天津\", \"南京\", \"长沙\",\"郑州\",\n",
    "               \"东莞\", \"青岛\", \"沈阳\", \"宁波\", \"昆明\")\n",
    "    cities3 = (\"厦门\", \"福州\", \"无锡\", \"合肥\", \"昆明\", \"哈尔滨\", \"济南\", \"佛山\", \"长春\", \"温州\",\n",
    "               \"石家庄\", \"南宁\", \"常州\", \"泉州\", \"南昌\", \"贵阳\", \"太原\", \"烟台\", \"嘉兴\", \"南通\",\n",
    "               \"金华\", \"珠海\", \"惠州\", \"徐州\", \"海口\", \"乌鲁木齐\", \"绍兴\", \"中山\", \"台州\", \"兰州\")\n",
    "    \n",
    "    data['city'] = data['city'].str.split('-', 0)\n",
    "    for i in range(0, len(data)):\n",
    "        data.loc[i, 'city'] = data.loc[i, 'city'][0]\n",
    "        if data.loc[i, 'city'] in cities1:\n",
    "            data.loc[i, 'city'] = \"一线\"\n",
    "        elif data.loc[i, 'city'] in cities2:\n",
    "            data.loc[i, 'city'] = \"新一线\"\n",
    "        elif data.loc[i, 'city'] in cities3:\n",
    "            data.loc[i, 'city'] = \"二线\"\n",
    "        else:\n",
    "            data.loc[i, 'city'] = \"三线及以下\""
   ]
  },
  {
   "cell_type": "code",
   "execution_count": 7,
   "metadata": {},
   "outputs": [],
   "source": [
    "# education 属性处理函数\n",
    "def education_process(data):\n",
    "    degrees = (\"硕士\", \"本科\", \"大专\")\n",
    "    for i in range(0, len(data)):\n",
    "        if \"招\" in data.loc[i, 'education']:\n",
    "            data.loc[i, 'education'] = \"本科\"\n",
    "        elif data.loc[i, 'education'] not in degrees:\n",
    "            data.loc[i, 'education'] = \"大专以下\""
   ]
  },
  {
   "cell_type": "code",
   "execution_count": 8,
   "metadata": {},
   "outputs": [],
   "source": [
    "# company_type 属性处理函数\n",
    "def company_type_process(data):\n",
    "    types = (\"民营公司\", \"上市公司\", \"合资\", \"国企\", \"外资（非欧美）\", \"外资（欧美）\", \"创业公司\")\n",
    "    for i in range(0, len(data)):\n",
    "        if data.loc[i, 'company_type'] not in types:\n",
    "            data.loc[i, 'company_major'] = \"其他\""
   ]
  },
  {
   "cell_type": "code",
   "execution_count": 9,
   "metadata": {},
   "outputs": [],
   "source": [
    "# company_major 属性处理函数\n",
    "def company_major_process(data):\n",
    "    soft = ('计算机软件', '互联网/电子商务', '计算机服务(系统、数据服务、维修)', '网络游戏')\n",
    "    hard = ('电子技术/半导体/集成电路', '通信/电信/网络设备', '通信/电信运营、增值服务', '计算机硬件')\n",
    "    \n",
    "    for i in range(0, len(data)):\n",
    "        if data.loc[i, 'company_major'] in soft:\n",
    "            data.loc[i, 'company_major'] = \"计算机软件\"\n",
    "        elif data.loc[i, 'company_major'] in hard:\n",
    "            data.loc[i, 'company_major'] = \"计算机硬件\"\n",
    "        else:\n",
    "            data.loc[i, 'company_major'] = '其他行业'"
   ]
  },
  {
   "cell_type": "code",
   "execution_count": 10,
   "metadata": {},
   "outputs": [],
   "source": [
    "from sklearn.base import BaseEstimator, TransformerMixin\n",
    "from sklearn.pipeline import Pipeline\n",
    "\n",
    "class data_process(BaseEstimator, TransformerMixin):\n",
    "    \n",
    "    def fit(self, data, y=None):\n",
    "        return self\n",
    "    \n",
    "    def transform(self, data, y=None):\n",
    "        data = data.drop(\"_id\", axis=1)\n",
    "        data = data.drop(\"Unnamed: 0\", axis=1)\n",
    "        data = data.drop(\"company_name\", axis=1)\n",
    "        data = data.drop(\"welfare\", axis=1)\n",
    "        \n",
    "        data['company_scale'].fillna(data['company_scale'].mode()[0], inplace=True)\n",
    "        \n",
    "        salary_process(data)\n",
    "        position_process(data)\n",
    "        city_process(data)\n",
    "        education_process(data)\n",
    "        company_type_process(data)\n",
    "        company_major_process(data)\n",
    "        \n",
    "        # 对离散型变量独热编码函数\n",
    "        data = pd.get_dummies(data, \n",
    "                      columns=['position', 'city', 'experience', 'education',\n",
    "                               'company_type', 'company_scale', 'company_major'],\n",
    "                      drop_first=True)\n",
    "        \n",
    "        return data\n",
    "    \n",
    "# 定义一个来处理数据的管道 pipe_line\n",
    "pipe_line = Pipeline([('dp', data_process())])"
   ]
  },
  {
   "cell_type": "markdown",
   "metadata": {},
   "source": [
    "### 3. 分离出测试集及标签并进行处理"
   ]
  },
  {
   "cell_type": "code",
   "execution_count": 11,
   "metadata": {},
   "outputs": [],
   "source": [
    "jobs = pipe_line.fit_transform(jobs)"
   ]
  },
  {
   "cell_type": "code",
   "execution_count": 12,
   "metadata": {},
   "outputs": [
    {
     "name": "stdout",
     "output_type": "stream",
     "text": [
      "7619  train  +  1905  test\n"
     ]
    }
   ],
   "source": [
    "from sklearn.model_selection import train_test_split\n",
    "\n",
    "train, test = train_test_split(jobs, test_size = 0.2, random_state = 43)\n",
    "print(len(train), \" train  + \", len(test), \" test\")"
   ]
  },
  {
   "cell_type": "code",
   "execution_count": 13,
   "metadata": {},
   "outputs": [],
   "source": [
    "train_y = train[\"salary\"]\n",
    "train_X = train.drop(\"salary\", axis=1)\n",
    "\n",
    "test_y = test[\"salary\"]\n",
    "test_X = test.drop(\"salary\", axis=1)"
   ]
  },
  {
   "cell_type": "code",
   "execution_count": 14,
   "metadata": {},
   "outputs": [
    {
     "data": {
      "text/html": [
       "<div>\n",
       "<style scoped>\n",
       "    .dataframe tbody tr th:only-of-type {\n",
       "        vertical-align: middle;\n",
       "    }\n",
       "\n",
       "    .dataframe tbody tr th {\n",
       "        vertical-align: top;\n",
       "    }\n",
       "\n",
       "    .dataframe thead th {\n",
       "        text-align: right;\n",
       "    }\n",
       "</style>\n",
       "<table border=\"1\" class=\"dataframe\">\n",
       "  <thead>\n",
       "    <tr style=\"text-align: right;\">\n",
       "      <th></th>\n",
       "      <th>position_java实习</th>\n",
       "      <th>position_java开发</th>\n",
       "      <th>position_java资深</th>\n",
       "      <th>position_java高级</th>\n",
       "      <th>city_三线及以下</th>\n",
       "      <th>city_二线</th>\n",
       "      <th>city_新一线</th>\n",
       "      <th>experience_1年经验</th>\n",
       "      <th>experience_2年经验</th>\n",
       "      <th>experience_3-4年经验</th>\n",
       "      <th>...</th>\n",
       "      <th>company_type_民营公司</th>\n",
       "      <th>company_type_非营利组织</th>\n",
       "      <th>company_scale_10000人以上</th>\n",
       "      <th>company_scale_150-500人</th>\n",
       "      <th>company_scale_50-150人</th>\n",
       "      <th>company_scale_500-1000人</th>\n",
       "      <th>company_scale_5000-10000人</th>\n",
       "      <th>company_scale_少于50人</th>\n",
       "      <th>company_major_计算机硬件</th>\n",
       "      <th>company_major_计算机软件</th>\n",
       "    </tr>\n",
       "  </thead>\n",
       "  <tbody>\n",
       "    <tr>\n",
       "      <th>5733</th>\n",
       "      <td>0</td>\n",
       "      <td>1</td>\n",
       "      <td>0</td>\n",
       "      <td>0</td>\n",
       "      <td>0</td>\n",
       "      <td>0</td>\n",
       "      <td>0</td>\n",
       "      <td>0</td>\n",
       "      <td>0</td>\n",
       "      <td>1</td>\n",
       "      <td>...</td>\n",
       "      <td>1</td>\n",
       "      <td>0</td>\n",
       "      <td>0</td>\n",
       "      <td>0</td>\n",
       "      <td>1</td>\n",
       "      <td>0</td>\n",
       "      <td>0</td>\n",
       "      <td>0</td>\n",
       "      <td>0</td>\n",
       "      <td>1</td>\n",
       "    </tr>\n",
       "    <tr>\n",
       "      <th>1942</th>\n",
       "      <td>0</td>\n",
       "      <td>1</td>\n",
       "      <td>0</td>\n",
       "      <td>0</td>\n",
       "      <td>0</td>\n",
       "      <td>0</td>\n",
       "      <td>0</td>\n",
       "      <td>0</td>\n",
       "      <td>0</td>\n",
       "      <td>0</td>\n",
       "      <td>...</td>\n",
       "      <td>1</td>\n",
       "      <td>0</td>\n",
       "      <td>0</td>\n",
       "      <td>1</td>\n",
       "      <td>0</td>\n",
       "      <td>0</td>\n",
       "      <td>0</td>\n",
       "      <td>0</td>\n",
       "      <td>0</td>\n",
       "      <td>1</td>\n",
       "    </tr>\n",
       "    <tr>\n",
       "      <th>3092</th>\n",
       "      <td>0</td>\n",
       "      <td>1</td>\n",
       "      <td>0</td>\n",
       "      <td>0</td>\n",
       "      <td>0</td>\n",
       "      <td>0</td>\n",
       "      <td>0</td>\n",
       "      <td>0</td>\n",
       "      <td>1</td>\n",
       "      <td>0</td>\n",
       "      <td>...</td>\n",
       "      <td>1</td>\n",
       "      <td>0</td>\n",
       "      <td>0</td>\n",
       "      <td>0</td>\n",
       "      <td>1</td>\n",
       "      <td>0</td>\n",
       "      <td>0</td>\n",
       "      <td>0</td>\n",
       "      <td>0</td>\n",
       "      <td>1</td>\n",
       "    </tr>\n",
       "    <tr>\n",
       "      <th>7687</th>\n",
       "      <td>0</td>\n",
       "      <td>1</td>\n",
       "      <td>0</td>\n",
       "      <td>0</td>\n",
       "      <td>0</td>\n",
       "      <td>0</td>\n",
       "      <td>1</td>\n",
       "      <td>0</td>\n",
       "      <td>0</td>\n",
       "      <td>1</td>\n",
       "      <td>...</td>\n",
       "      <td>1</td>\n",
       "      <td>0</td>\n",
       "      <td>0</td>\n",
       "      <td>0</td>\n",
       "      <td>0</td>\n",
       "      <td>0</td>\n",
       "      <td>0</td>\n",
       "      <td>1</td>\n",
       "      <td>0</td>\n",
       "      <td>1</td>\n",
       "    </tr>\n",
       "    <tr>\n",
       "      <th>4498</th>\n",
       "      <td>0</td>\n",
       "      <td>1</td>\n",
       "      <td>0</td>\n",
       "      <td>0</td>\n",
       "      <td>0</td>\n",
       "      <td>1</td>\n",
       "      <td>0</td>\n",
       "      <td>0</td>\n",
       "      <td>1</td>\n",
       "      <td>0</td>\n",
       "      <td>...</td>\n",
       "      <td>1</td>\n",
       "      <td>0</td>\n",
       "      <td>0</td>\n",
       "      <td>0</td>\n",
       "      <td>0</td>\n",
       "      <td>0</td>\n",
       "      <td>0</td>\n",
       "      <td>1</td>\n",
       "      <td>0</td>\n",
       "      <td>1</td>\n",
       "    </tr>\n",
       "    <tr>\n",
       "      <th>1955</th>\n",
       "      <td>0</td>\n",
       "      <td>1</td>\n",
       "      <td>0</td>\n",
       "      <td>0</td>\n",
       "      <td>0</td>\n",
       "      <td>0</td>\n",
       "      <td>1</td>\n",
       "      <td>0</td>\n",
       "      <td>0</td>\n",
       "      <td>1</td>\n",
       "      <td>...</td>\n",
       "      <td>1</td>\n",
       "      <td>0</td>\n",
       "      <td>0</td>\n",
       "      <td>0</td>\n",
       "      <td>1</td>\n",
       "      <td>0</td>\n",
       "      <td>0</td>\n",
       "      <td>0</td>\n",
       "      <td>0</td>\n",
       "      <td>1</td>\n",
       "    </tr>\n",
       "    <tr>\n",
       "      <th>733</th>\n",
       "      <td>0</td>\n",
       "      <td>1</td>\n",
       "      <td>0</td>\n",
       "      <td>0</td>\n",
       "      <td>0</td>\n",
       "      <td>0</td>\n",
       "      <td>1</td>\n",
       "      <td>0</td>\n",
       "      <td>1</td>\n",
       "      <td>0</td>\n",
       "      <td>...</td>\n",
       "      <td>1</td>\n",
       "      <td>0</td>\n",
       "      <td>0</td>\n",
       "      <td>1</td>\n",
       "      <td>0</td>\n",
       "      <td>0</td>\n",
       "      <td>0</td>\n",
       "      <td>0</td>\n",
       "      <td>0</td>\n",
       "      <td>1</td>\n",
       "    </tr>\n",
       "    <tr>\n",
       "      <th>1826</th>\n",
       "      <td>0</td>\n",
       "      <td>1</td>\n",
       "      <td>0</td>\n",
       "      <td>0</td>\n",
       "      <td>0</td>\n",
       "      <td>1</td>\n",
       "      <td>0</td>\n",
       "      <td>0</td>\n",
       "      <td>1</td>\n",
       "      <td>0</td>\n",
       "      <td>...</td>\n",
       "      <td>1</td>\n",
       "      <td>0</td>\n",
       "      <td>0</td>\n",
       "      <td>0</td>\n",
       "      <td>1</td>\n",
       "      <td>0</td>\n",
       "      <td>0</td>\n",
       "      <td>0</td>\n",
       "      <td>0</td>\n",
       "      <td>1</td>\n",
       "    </tr>\n",
       "    <tr>\n",
       "      <th>247</th>\n",
       "      <td>0</td>\n",
       "      <td>0</td>\n",
       "      <td>0</td>\n",
       "      <td>1</td>\n",
       "      <td>0</td>\n",
       "      <td>0</td>\n",
       "      <td>0</td>\n",
       "      <td>0</td>\n",
       "      <td>0</td>\n",
       "      <td>0</td>\n",
       "      <td>...</td>\n",
       "      <td>1</td>\n",
       "      <td>0</td>\n",
       "      <td>0</td>\n",
       "      <td>0</td>\n",
       "      <td>1</td>\n",
       "      <td>0</td>\n",
       "      <td>0</td>\n",
       "      <td>0</td>\n",
       "      <td>0</td>\n",
       "      <td>0</td>\n",
       "    </tr>\n",
       "    <tr>\n",
       "      <th>696</th>\n",
       "      <td>0</td>\n",
       "      <td>1</td>\n",
       "      <td>0</td>\n",
       "      <td>0</td>\n",
       "      <td>0</td>\n",
       "      <td>0</td>\n",
       "      <td>0</td>\n",
       "      <td>0</td>\n",
       "      <td>0</td>\n",
       "      <td>1</td>\n",
       "      <td>...</td>\n",
       "      <td>1</td>\n",
       "      <td>0</td>\n",
       "      <td>0</td>\n",
       "      <td>0</td>\n",
       "      <td>0</td>\n",
       "      <td>1</td>\n",
       "      <td>0</td>\n",
       "      <td>0</td>\n",
       "      <td>1</td>\n",
       "      <td>0</td>\n",
       "    </tr>\n",
       "  </tbody>\n",
       "</table>\n",
       "<p>10 rows × 37 columns</p>\n",
       "</div>"
      ],
      "text/plain": [
       "      position_java实习  position_java开发  position_java资深  position_java高级  \\\n",
       "5733                0                1                0                0   \n",
       "1942                0                1                0                0   \n",
       "3092                0                1                0                0   \n",
       "7687                0                1                0                0   \n",
       "4498                0                1                0                0   \n",
       "1955                0                1                0                0   \n",
       "733                 0                1                0                0   \n",
       "1826                0                1                0                0   \n",
       "247                 0                0                0                1   \n",
       "696                 0                1                0                0   \n",
       "\n",
       "      city_三线及以下  city_二线  city_新一线  experience_1年经验  experience_2年经验  \\\n",
       "5733           0        0         0                0                0   \n",
       "1942           0        0         0                0                0   \n",
       "3092           0        0         0                0                1   \n",
       "7687           0        0         1                0                0   \n",
       "4498           0        1         0                0                1   \n",
       "1955           0        0         1                0                0   \n",
       "733            0        0         1                0                1   \n",
       "1826           0        1         0                0                1   \n",
       "247            0        0         0                0                0   \n",
       "696            0        0         0                0                0   \n",
       "\n",
       "      experience_3-4年经验  ...  company_type_民营公司  company_type_非营利组织  \\\n",
       "5733                  1  ...                  1                   0   \n",
       "1942                  0  ...                  1                   0   \n",
       "3092                  0  ...                  1                   0   \n",
       "7687                  1  ...                  1                   0   \n",
       "4498                  0  ...                  1                   0   \n",
       "1955                  1  ...                  1                   0   \n",
       "733                   0  ...                  1                   0   \n",
       "1826                  0  ...                  1                   0   \n",
       "247                   0  ...                  1                   0   \n",
       "696                   1  ...                  1                   0   \n",
       "\n",
       "      company_scale_10000人以上  company_scale_150-500人  company_scale_50-150人  \\\n",
       "5733                       0                       0                      1   \n",
       "1942                       0                       1                      0   \n",
       "3092                       0                       0                      1   \n",
       "7687                       0                       0                      0   \n",
       "4498                       0                       0                      0   \n",
       "1955                       0                       0                      1   \n",
       "733                        0                       1                      0   \n",
       "1826                       0                       0                      1   \n",
       "247                        0                       0                      1   \n",
       "696                        0                       0                      0   \n",
       "\n",
       "      company_scale_500-1000人  company_scale_5000-10000人  company_scale_少于50人  \\\n",
       "5733                        0                          0                    0   \n",
       "1942                        0                          0                    0   \n",
       "3092                        0                          0                    0   \n",
       "7687                        0                          0                    1   \n",
       "4498                        0                          0                    1   \n",
       "1955                        0                          0                    0   \n",
       "733                         0                          0                    0   \n",
       "1826                        0                          0                    0   \n",
       "247                         0                          0                    0   \n",
       "696                         1                          0                    0   \n",
       "\n",
       "      company_major_计算机硬件  company_major_计算机软件  \n",
       "5733                    0                    1  \n",
       "1942                    0                    1  \n",
       "3092                    0                    1  \n",
       "7687                    0                    1  \n",
       "4498                    0                    1  \n",
       "1955                    0                    1  \n",
       "733                     0                    1  \n",
       "1826                    0                    1  \n",
       "247                     0                    0  \n",
       "696                     1                    0  \n",
       "\n",
       "[10 rows x 37 columns]"
      ]
     },
     "execution_count": 14,
     "metadata": {},
     "output_type": "execute_result"
    }
   ],
   "source": [
    "train_X.head(10)"
   ]
  },
  {
   "cell_type": "code",
   "execution_count": 15,
   "metadata": {
    "scrolled": false
   },
   "outputs": [
    {
     "name": "stdout",
     "output_type": "stream",
     "text": [
      "<class 'pandas.core.frame.DataFrame'>\n",
      "Int64Index: 7619 entries, 5733 to 3392\n",
      "Data columns (total 37 columns):\n",
      "position_java实习              7619 non-null uint8\n",
      "position_java开发              7619 non-null uint8\n",
      "position_java资深              7619 non-null uint8\n",
      "position_java高级              7619 non-null uint8\n",
      "city_三线及以下                   7619 non-null uint8\n",
      "city_二线                      7619 non-null uint8\n",
      "city_新一线                     7619 non-null uint8\n",
      "experience_1年经验              7619 non-null uint8\n",
      "experience_2年经验              7619 non-null uint8\n",
      "experience_3-4年经验            7619 non-null uint8\n",
      "experience_5-7年经验            7619 non-null uint8\n",
      "experience_8-9年经验            7619 non-null uint8\n",
      "experience_无工作经验             7619 non-null uint8\n",
      "education_大专以下               7619 non-null uint8\n",
      "education_本科                 7619 non-null uint8\n",
      "education_硕士                 7619 non-null uint8\n",
      "company_type_500-1000人       7619 non-null uint8\n",
      "company_type_上市公司            7619 non-null uint8\n",
      "company_type_事业单位            7619 non-null uint8\n",
      "company_type_创业公司            7619 non-null uint8\n",
      "company_type_合资              7619 non-null uint8\n",
      "company_type_国企              7619 non-null uint8\n",
      "company_type_外企代表处           7619 non-null uint8\n",
      "company_type_外资（欧美）          7619 non-null uint8\n",
      "company_type_外资（非欧美）         7619 non-null uint8\n",
      "company_type_少于50人           7619 non-null uint8\n",
      "company_type_政府机关            7619 non-null uint8\n",
      "company_type_民营公司            7619 non-null uint8\n",
      "company_type_非营利组织           7619 non-null uint8\n",
      "company_scale_10000人以上       7619 non-null uint8\n",
      "company_scale_150-500人       7619 non-null uint8\n",
      "company_scale_50-150人        7619 non-null uint8\n",
      "company_scale_500-1000人      7619 non-null uint8\n",
      "company_scale_5000-10000人    7619 non-null uint8\n",
      "company_scale_少于50人          7619 non-null uint8\n",
      "company_major_计算机硬件          7619 non-null uint8\n",
      "company_major_计算机软件          7619 non-null uint8\n",
      "dtypes: uint8(37)\n",
      "memory usage: 334.8 KB\n"
     ]
    }
   ],
   "source": [
    "train_X.info()"
   ]
  },
  {
   "cell_type": "code",
   "execution_count": 34,
   "metadata": {},
   "outputs": [
    {
     "data": {
      "text/plain": [
       "5733    1.75\n",
       "1942    1.25\n",
       "3092    0.90\n",
       "7687    1.55\n",
       "4498    0.65\n",
       "1955    1.00\n",
       "733     1.25\n",
       "1826    0.90\n",
       "247     2.15\n",
       "696     1.15\n",
       "Name: salary, dtype: object"
      ]
     },
     "execution_count": 34,
     "metadata": {},
     "output_type": "execute_result"
    }
   ],
   "source": [
    "train_y.head(10)"
   ]
  },
  {
   "cell_type": "markdown",
   "metadata": {},
   "source": [
    "## 四、训练模型"
   ]
  },
  {
   "cell_type": "markdown",
   "metadata": {},
   "source": [
    "### 1. 线性回归"
   ]
  },
  {
   "cell_type": "code",
   "execution_count": 17,
   "metadata": {},
   "outputs": [
    {
     "data": {
      "text/plain": [
       "LinearRegression(copy_X=True, fit_intercept=True, n_jobs=None, normalize=False)"
      ]
     },
     "execution_count": 17,
     "metadata": {},
     "output_type": "execute_result"
    }
   ],
   "source": [
    "from sklearn.linear_model import LinearRegression\n",
    "from sklearn.model_selection import cross_val_score\n",
    "\n",
    "lin_reg = LinearRegression()\n",
    "lin_reg.fit(train_X, train_y)"
   ]
  },
  {
   "cell_type": "code",
   "execution_count": 18,
   "metadata": {},
   "outputs": [
    {
     "name": "stdout",
     "output_type": "stream",
     "text": [
      "scores:  [0.45339544 0.499437   0.46191241 0.42559232 0.44558929 0.44610164\n",
      " 0.46430119 0.45818662 0.51057713]\n",
      "mean:  0.462788114058477 万元/月\n"
     ]
    }
   ],
   "source": [
    "# 使用交叉验证评估模型性能\n",
    "import numpy as np\n",
    "\n",
    "scores = cross_val_score(lin_reg, train_X, train_y, \n",
    "                         scoring = \"neg_mean_squared_error\", cv = 9)\n",
    "scores = np.sqrt(-scores)\n",
    "def display_scores(scores):\n",
    "    print(\"scores: \", scores)\n",
    "    print(\"mean: \", scores.mean(), \"万元/月\")\n",
    "display_scores(scores)"
   ]
  },
  {
   "cell_type": "markdown",
   "metadata": {},
   "source": [
    "### 2. 决策树"
   ]
  },
  {
   "cell_type": "code",
   "execution_count": 19,
   "metadata": {},
   "outputs": [
    {
     "data": {
      "text/plain": [
       "DecisionTreeRegressor(criterion='mse', max_depth=None, max_features=None,\n",
       "                      max_leaf_nodes=None, min_impurity_decrease=0.0,\n",
       "                      min_impurity_split=None, min_samples_leaf=1,\n",
       "                      min_samples_split=2, min_weight_fraction_leaf=0.0,\n",
       "                      presort=False, random_state=None, splitter='best')"
      ]
     },
     "execution_count": 19,
     "metadata": {},
     "output_type": "execute_result"
    }
   ],
   "source": [
    "from sklearn.tree import DecisionTreeRegressor\n",
    "\n",
    "tree_reg = DecisionTreeRegressor()\n",
    "tree_reg.fit(train_X, train_y)"
   ]
  },
  {
   "cell_type": "code",
   "execution_count": 20,
   "metadata": {},
   "outputs": [
    {
     "name": "stdout",
     "output_type": "stream",
     "text": [
      "scores:  [0.52061201 0.54193563 0.54375103 0.4852951  0.53865431 0.54230909\n",
      " 0.54685378 0.53244279 0.58940235]\n",
      "mean:  0.5379173433100977 万元/月\n"
     ]
    }
   ],
   "source": [
    "# 使用交叉验证评估模型性能\n",
    "scores = cross_val_score(tree_reg, train_X, train_y, \n",
    "                         scoring = \"neg_mean_squared_error\", cv = 9)\n",
    "scores = np.sqrt(-scores)\n",
    "def display_scores(scores):\n",
    "    print(\"scores: \", scores)\n",
    "    print(\"mean: \", scores.mean(), \"万元/月\")\n",
    "display_scores(scores)"
   ]
  },
  {
   "cell_type": "markdown",
   "metadata": {},
   "source": [
    "### 3. 支持向量机"
   ]
  },
  {
   "cell_type": "code",
   "execution_count": 21,
   "metadata": {},
   "outputs": [
    {
     "data": {
      "text/plain": [
       "SVR(C=1, cache_size=200, coef0=0.0, degree=3, epsilon=0.1, gamma='auto',\n",
       "    kernel='rbf', max_iter=-1, shrinking=True, tol=0.001, verbose=False)"
      ]
     },
     "execution_count": 21,
     "metadata": {},
     "output_type": "execute_result"
    }
   ],
   "source": [
    "from sklearn.svm import SVR\n",
    "\n",
    "svr_rbf = SVR(kernel='rbf', C=1, gamma='auto')\n",
    "svr_rbf.fit(train_X, train_y)"
   ]
  },
  {
   "cell_type": "code",
   "execution_count": 22,
   "metadata": {
    "scrolled": true
   },
   "outputs": [
    {
     "name": "stdout",
     "output_type": "stream",
     "text": [
      "scores:  [0.45491063 0.50752324 0.45502532 0.43264701 0.44403629 0.44980514\n",
      " 0.46735051 0.46284628 0.51736916]\n",
      "mean:  0.465723729259495 万元/月\n"
     ]
    }
   ],
   "source": [
    "# 使用交叉验证评估模型性能\n",
    "scores = cross_val_score(svr_rbf, train_X, train_y, \n",
    "                         scoring = \"neg_mean_squared_error\", cv = 9)\n",
    "scores = np.sqrt(-scores)\n",
    "def display_scores(scores):\n",
    "    print(\"scores: \", scores)\n",
    "    print(\"mean: \", scores.mean(), \"万元/月\")\n",
    "display_scores(scores)"
   ]
  },
  {
   "cell_type": "markdown",
   "metadata": {},
   "source": [
    "### 4. 随机森林"
   ]
  },
  {
   "cell_type": "code",
   "execution_count": 23,
   "metadata": {},
   "outputs": [
    {
     "data": {
      "text/plain": [
       "RandomForestRegressor(bootstrap=True, criterion='mse', max_depth=None,\n",
       "                      max_features='auto', max_leaf_nodes=None,\n",
       "                      min_impurity_decrease=0.0, min_impurity_split=None,\n",
       "                      min_samples_leaf=1, min_samples_split=2,\n",
       "                      min_weight_fraction_leaf=0.0, n_estimators=10,\n",
       "                      n_jobs=None, oob_score=False, random_state=None,\n",
       "                      verbose=0, warm_start=False)"
      ]
     },
     "execution_count": 23,
     "metadata": {},
     "output_type": "execute_result"
    }
   ],
   "source": [
    "from sklearn.ensemble import RandomForestRegressor\n",
    "\n",
    "rf = RandomForestRegressor(n_estimators=10)\n",
    "rf.fit(train_X, train_y)"
   ]
  },
  {
   "cell_type": "code",
   "execution_count": 24,
   "metadata": {
    "scrolled": true
   },
   "outputs": [
    {
     "name": "stdout",
     "output_type": "stream",
     "text": [
      "scores:  [0.48939559 0.52840232 0.4919467  0.46900445 0.48716732 0.50296904\n",
      " 0.49866791 0.48424963 0.5334001 ]\n",
      "mean:  0.49835589331879215\n",
      "standard deviation:  0.01960528600829023\n"
     ]
    }
   ],
   "source": [
    "# 使用交叉验证评估模型性能\n",
    "scores = cross_val_score(rf, train_X, train_y, \n",
    "                         scoring = \"neg_mean_squared_error\", cv = 9)\n",
    "scores = np.sqrt(-scores)\n",
    "def display_scores(scores):\n",
    "    print(\"scores: \", scores)\n",
    "    print(\"mean: \", scores.mean())\n",
    "    print(\"standard deviation: \", scores.std())\n",
    "display_scores(scores)"
   ]
  },
  {
   "cell_type": "markdown",
   "metadata": {},
   "source": [
    "### 5. 模型融合\n",
    "选取表现较好的线性回归模型和支持向量机模型进行模型融合"
   ]
  },
  {
   "cell_type": "code",
   "execution_count": 25,
   "metadata": {},
   "outputs": [],
   "source": [
    "def ensemble_model(X):\n",
    "    predictions1 = lin_reg.predict(X)\n",
    "    predictions2 = svr_rbf.predict(X)\n",
    "    predictions = (predictions1 + predictions2) / 2\n",
    "    return predictions"
   ]
  },
  {
   "cell_type": "markdown",
   "metadata": {},
   "source": [
    "## 五、评估模型性能"
   ]
  },
  {
   "cell_type": "code",
   "execution_count": 26,
   "metadata": {},
   "outputs": [],
   "source": [
    "# 在评估性能之前，我们首先看看工资的分布情况\n",
    "\n",
    "jobs_copy = pd.read_csv(\"data/info.csv\")\n",
    "salary_process(jobs_copy)\n",
    "jobs_copy[\"salary\"] = pd.to_numeric(jobs_copy[\"salary\"])"
   ]
  },
  {
   "cell_type": "code",
   "execution_count": 27,
   "metadata": {},
   "outputs": [
    {
     "data": {
      "text/plain": [
       "[0, 5, 0, 1.0]"
      ]
     },
     "execution_count": 27,
     "metadata": {},
     "output_type": "execute_result"
    },
    {
     "data": {
      "image/png": "[encoded data removed]",
      "text/plain": [
       "<Figure size 600x400 with 1 Axes>"
      ]
     },
     "metadata": {
      "needs_background": "light"
     },
     "output_type": "display_data"
    }
   ],
   "source": [
    "%matplotlib inline \n",
    "import matplotlib.pyplot as plt\n",
    "plt.rcParams['font.sans-serif'] = ['SimHei']  # 用来正常显示中文标签\n",
    "plt.rcParams['axes.unicode_minus'] = False  # 用来正常显示负号\n",
    "plt.rcParams['savefig.dpi'] = 100 #图片像素\n",
    "plt.rcParams['figure.dpi'] = 100 #分辨率\n",
    "\n",
    "jobs_copy[\"salary\"].plot(kind='kde')\n",
    "plt.xlabel(\"工资（万元/月）\")\n",
    "plt.ylabel(\"分布密度\") \n",
    "plt.title(\"不同工资职位分布情况\")\n",
    "plt.axis([0, 5, 0, 1.0])"
   ]
  },
  {
   "cell_type": "code",
   "execution_count": 28,
   "metadata": {},
   "outputs": [
    {
     "data": {
      "text/plain": [
       "count    9524.000000\n",
       "mean        1.329523\n",
       "std         0.623393\n",
       "min         0.100000\n",
       "25%         0.900000\n",
       "50%         1.250000\n",
       "75%         1.700000\n",
       "max         6.000000\n",
       "Name: salary, dtype: float64"
      ]
     },
     "execution_count": 28,
     "metadata": {},
     "output_type": "execute_result"
    }
   ],
   "source": [
    "jobs_copy[\"salary\"].describe()"
   ]
  },
  {
   "cell_type": "code",
   "execution_count": 29,
   "metadata": {},
   "outputs": [
    {
     "name": "stdout",
     "output_type": "stream",
     "text": [
      "均方根差： 0.4079549357545811 万元/月\n"
     ]
    }
   ],
   "source": [
    "# 在测试集上评估性能\n",
    "from sklearn.metrics import mean_squared_error\n",
    "\n",
    "predictions = ensemble_model(test_X)\n",
    "mse = mean_squared_error(test_y, predictions)\n",
    "rmse = np.sqrt(mse)\n",
    "print(\"均方根差：\", rmse, \"万元/月\")"
   ]
  },
  {
   "cell_type": "code",
   "execution_count": 30,
   "metadata": {},
   "outputs": [],
   "source": [
    "# 查看测试集上部分样本的具体表现\n",
    "from random import randint\n",
    "\n",
    "real = list(float(x) for x in test_y)\n",
    "pred = [int(x * 100) / 100 for x in predictions]\n",
    "\n",
    "def check(num=10):\n",
    "    random_int = [randint(0, len(real)-1) for i in range(num)]\n",
    "    for i in range(num):\n",
    "        print(\"真实值：\", real[random_int[i]], \"\\t预测值:\", \n",
    "              pred[random_int[i]], \"\\t(万元/月)\")"
   ]
  },
  {
   "cell_type": "code",
   "execution_count": 33,
   "metadata": {},
   "outputs": [
    {
     "name": "stdout",
     "output_type": "stream",
     "text": [
      "真实值： 1.75 \t预测值: 1.68 \t(万元/月)\n",
      "真实值： 1.15 \t预测值: 1.7 \t(万元/月)\n",
      "真实值： 1.25 \t预测值: 0.99 \t(万元/月)\n",
      "真实值： 1.5 \t预测值: 1.38 \t(万元/月)\n",
      "真实值： 1.15 \t预测值: 1.16 \t(万元/月)\n",
      "真实值： 1.5 \t预测值: 2.36 \t(万元/月)\n",
      "真实值： 1.4 \t预测值: 1.38 \t(万元/月)\n",
      "真实值： 1.75 \t预测值: 1.65 \t(万元/月)\n",
      "真实值： 1.25 \t预测值: 0.88 \t(万元/月)\n",
      "真实值： 1.75 \t预测值: 1.86 \t(万元/月)\n"
     ]
    }
   ],
   "source": [
    "# 测试集上随机查看10个样本表现\n",
    "check(10)"
   ]
  },
  {
   "cell_type": "markdown",
   "metadata": {},
   "source": [
    "### 结论：工资大部分分布在 0.6~2.0 万/月 的范围，0.40 万/月 的均方根误差在可接受范围内"
   ]
  }
 ],
 "metadata": {
  "kernelspec": {
   "display_name": "Python 3",
   "language": "python",
   "name": "python3"
  },
  "language_info": {
   "codemirror_mode": {
    "name": "ipython",
    "version": 3
   },
   "file_extension": ".py",
   "mimetype": "text/x-python",
   "name": "python",
   "nbconvert_exporter": "python",
   "pygments_lexer": "ipython3",
   "version": "3.7.3"
  }
 },
 "nbformat": 4,
 "nbformat_minor": 2
}
