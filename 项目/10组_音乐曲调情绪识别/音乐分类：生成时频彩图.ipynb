{
 "cells": [
  {
   "cell_type": "code",
   "execution_count": null,
   "metadata": {},
   "outputs": [],
   "source": [
    "import wave\n",
    "import tensorflow as tf\n",
    "import pyaudio \n",
    "import numpy as np\n",
    "import matplotlib.pyplot as plt\n",
    "import pygame\n",
    "import os\n",
    "import os.path\n",
    "import shutil"
   ]
  },
  {
   "cell_type": "code",
   "execution_count": null,
   "metadata": {},
   "outputs": [],
   "source": [
    "rootdir = 'E:\\\\MusicEmotionRec\\\\WavData\\\\ExcitedPeace\\\\'\n",
    "\n",
    "list = os.listdir(rootdir)\n",
    "i = int(0)\n",
    "for lists in list:\n",
    "#打开WAV文档，文件路径根据需要做修改\n",
    "    f = wave.open(\"E:\\\\MusicEmotionRec\\\\WavData\\\\ExcitedPeace\\\\\"+lists,\"rb\")\n",
    "    #创建PyAudio对象\n",
    "    params = f.getparams()\n",
    "    nchannels, sampwidth, framerate,nframes = params[:4]\n",
    "    # 得到的数据是字符串，需要将其转成int型\n",
    "    strData = f.readframes(nframes)\n",
    "    wavaData = np.fromstring(strData,dtype=np.int16)\n",
    "    # 归一化\n",
    "     \n",
    "    # .T 表示转置\n",
    "    wavaData = np.reshape(wavaData,[nframes,nchannels]).T\n",
    "    f.close()\n",
    "    # 绘制频谱 \n",
    "    plt.specgram(wavaData[0],Fs = framerate,scale_by_freq=True,sides='default')\n",
    "    plt.ylabel('Frequency(kHz)')\n",
    "    plt.xlabel('Time(s)')\n",
    "    plt.savefig(\"E:/MusicEmotionRec/TrainData/Excited/\"+str(i)+\".jpg\")\n",
    "    plt.show()\n",
    "    i+=1\n",
    "print(\"Run over\")"
   ]
  },
  {
   "cell_type": "code",
   "execution_count": null,
   "metadata": {},
   "outputs": [],
   "source": []
  }
 ],
 "metadata": {
  "kernelspec": {
   "display_name": "Python 3",
   "language": "python",
   "name": "python3"
  },
  "language_info": {
   "codemirror_mode": {
    "name": "ipython",
    "version": 3
   },
   "file_extension": ".py",
   "mimetype": "text/x-python",
   "name": "python",
   "nbconvert_exporter": "python",
   "pygments_lexer": "ipython3",
   "version": "3.6.8"
  }
 },
 "nbformat": 4,
 "nbformat_minor": 2
}
