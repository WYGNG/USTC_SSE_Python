{
 "cells": [
  {
   "cell_type": "code",
   "execution_count": 1,
   "metadata": {},
   "outputs": [],
   "source": [
    "from Parse_config import parse_config\n",
    "from Parse_config import create_modules"
   ]
  },
  {
   "cell_type": "code",
   "execution_count": 3,
   "metadata": {},
   "outputs": [],
   "source": [
    "from __future__ import division\n",
    "import torch \n",
    "import torch.nn as nn\n",
    "import torch.nn.functional as F \n",
    "from torch.autograd import Variable\n",
    "import numpy as np\n",
    "import cv2\n",
    "from util import *"
   ]
  },
  {
   "cell_type": "code",
   "execution_count": 4,
   "metadata": {},
   "outputs": [],
   "source": [
    "class Darknet(nn.Module):\n",
    "    def __init__(self,cgfile):\n",
    "        super(Darknet,self).__init__()\n",
    "        self.blocks = parse_config(cgfile)\n",
    "        self.net_info,self.module_list = create_modules(self.blocks)\n",
    "        \n",
    "    #定义前向传播,self.blocks因为的第一个元素self.blocks是一个net不属于正向传递的块。    \n",
    "    def forward(self,x,CUDA):\n",
    "        modules = self.blocks[1:]\n",
    "        \n",
    "        #键值对。key为layer的索引，value是特征矩阵（feature map）\n",
    "        outputs = {}\n",
    "        write = 0\n",
    "        for i , module in enumerate(modules):\n",
    "            module_type = module['type']\n",
    "            if module_type=='convolutional' or module_type=='upsample':\n",
    "                #如果模块是卷积模块或上采样模块，则这就是正向传递的工作方式。\n",
    "                x  = self.module_list[i](x)\n",
    "    \n",
    "            \n",
    "            elif module_type == 'route':\n",
    "                layers = module['layers']\n",
    "                layers = [int(a) for a in layers]\n",
    "                \n",
    "                if(layers[0]>0):\n",
    "                    layers[0] = layers[0] -i\n",
    "                \n",
    "                if(len(layers)==1):\n",
    "                    x  =  outputs[i+layers[0]]\n",
    "                    \n",
    "                else:\n",
    "                    if(layers[1]):\n",
    "                        layers[1] = layers[1] - i\n",
    "                    \n",
    "                    mp1 = outputs[i+layers[0]]\n",
    "                    mp2 = outputs[i+layers[1]]\n",
    "                    \n",
    "                    #在深度上连接，及channels连接，要保证长宽一致\n",
    "                    x = torch.cat((mp1,mp2),1)\n",
    "                    \n",
    "                    #残差网络\n",
    "            elif module_type=='shortcut':\n",
    "                from_ = int(module['from'])\n",
    "                x = outputs[i-1]+outputs[i+from_]\n",
    "            \n",
    "            elif module_type == 'yolo':\n",
    "                \n",
    "                anchors = self.module_list[i][0].anchors\n",
    "                #获得输入维度\n",
    "                input_dim = int(self.net_info['height'])\n",
    "                #需要检测的物体个数\n",
    "                num_classes = int(module['classes'])\n",
    "                \n",
    "                #transform\n",
    "                x = x.data.cuda()\n",
    "                x = predict_transform(x,input_dim,anchors,num_classes,CUDA)\n",
    "                #第一次yolo检测的时候，因为第二张检测图还没生成，还不能concat\n",
    "                if not write:              #if no collector has been intialised. \n",
    "                    detections = x\n",
    "                    write = 1\n",
    "                else:       \n",
    "                    detections = torch.cat((detections, x), 1)\n",
    "                \n",
    "                \n",
    "            outputs[i] = x\n",
    "        #返回的是三张特征图的连接\n",
    "        return detections\n",
    "    \n",
    "    def load_weights(self, weightfile):\n",
    "\n",
    "        #Open the weights file\n",
    "        fp = open(weightfile, \"rb\")\n",
    "\n",
    "        #The first 4 values are header information \n",
    "        # 1. Major version number\n",
    "        # 2. Minor Version Number\n",
    "        # 3. Subversion number \n",
    "        # 4. IMages seen \n",
    "        header = np.fromfile(fp, dtype = np.int32, count = 5)\n",
    "        self.header = torch.from_numpy(header)\n",
    "        self.seen = self.header[3]\n",
    "\n",
    "        #The rest of the values are the weights\n",
    "        # Let's load them up\n",
    "        weights = np.fromfile(fp, dtype = np.float32)\n",
    "\n",
    "        ptr = 0\n",
    "        for i in range(len(self.module_list)):\n",
    "            module_type = self.blocks[i + 1][\"type\"]\n",
    "\n",
    "            if module_type == \"convolutional\":\n",
    "                model = self.module_list[i]\n",
    "                try:\n",
    "                    batch_normalize = int(self.blocks[i+1][\"batch_normalize\"])\n",
    "                except:\n",
    "                    batch_normalize = 0\n",
    "\n",
    "                conv = model[0]\n",
    "\n",
    "                if (batch_normalize):\n",
    "                    bn = model[1]\n",
    "\n",
    "                    #获得批量归一化层的参数个数\n",
    "                    num_bn_biases = bn.bias.numel()\n",
    "\n",
    "                    #从weights中加载参数\n",
    "                    bn_biases = torch.from_numpy(weights[ptr:ptr + num_bn_biases])\n",
    "                    ptr += num_bn_biases\n",
    "\n",
    "                    bn_weights = torch.from_numpy(weights[ptr: ptr + num_bn_biases])\n",
    "                    ptr  += num_bn_biases\n",
    "\n",
    "                    bn_running_mean = torch.from_numpy(weights[ptr: ptr + num_bn_biases])\n",
    "                    ptr  += num_bn_biases\n",
    "\n",
    "                    bn_running_var = torch.from_numpy(weights[ptr: ptr + num_bn_biases])\n",
    "                    ptr  += num_bn_biases\n",
    "\n",
    "                    #把权重reshape成模型需要的参数的形状 \n",
    "                    bn_biases = bn_biases.view_as(bn.bias.data)\n",
    "                    bn_weights = bn_weights.view_as(bn.weight.data)\n",
    "                    bn_running_mean = bn_running_mean.view_as(bn.running_mean)\n",
    "                    bn_running_var = bn_running_var.view_as(bn.running_var)\n",
    "\n",
    "                    #复制参数到模型中去\n",
    "                    bn.bias.data.copy_(bn_biases)\n",
    "                    bn.weight.data.copy_(bn_weights)\n",
    "                    bn.running_mean.copy_(bn_running_mean)\n",
    "                    bn.running_var.copy_(bn_running_var)\n",
    "\n",
    "                else:\n",
    "                    #如果没加载成功，获得卷积偏差参数的数量\n",
    "                    num_biases = conv.bias.numel()\n",
    "\n",
    "                    #加载权重\n",
    "                    conv_biases = torch.from_numpy(weights[ptr: ptr + num_biases])\n",
    "                    ptr = ptr + num_biases\n",
    "\n",
    "                    #把权重reshape成模型需要的参数的形状 \n",
    "                    conv_biases = conv_biases.view_as(conv.bias.data)\n",
    "\n",
    "                    #复制参数到模型中去\n",
    "                    conv.bias.data.copy_(conv_biases)\n",
    "\n",
    "\n",
    "                #最后加载卷积层的参数\n",
    "                num_weights = conv.weight.numel()\n",
    "\n",
    "                #和上面过程一样\n",
    "                conv_weights = torch.from_numpy(weights[ptr:ptr+num_weights])\n",
    "                ptr = ptr + num_weights\n",
    "\n",
    "                conv_weights = conv_weights.view_as(conv.weight.data)\n",
    "                conv.weight.data.copy_(conv_weights)\n",
    "\n",
    "\n",
    "        \n",
    "        "
   ]
  },
  {
   "cell_type": "code",
   "execution_count": 5,
   "metadata": {},
   "outputs": [],
   "source": [
    "def get_test_input():\n",
    "    img = cv2.imread('./dog-cycle-car.png')\n",
    "    img = cv2.resize(img,(416,416))\n",
    "    #(3,416,416)\n",
    "    img_ = img.transpose((2,0,1))\n",
    "    img_ = img_[np.newaxis,:,:,:]/255.\n",
    "    img_ = torch.from_numpy(img_).float()\n",
    "    img_ = Variable(img_)\n",
    "    return img_"
   ]
  },
  {
   "cell_type": "code",
   "execution_count": null,
   "metadata": {},
   "outputs": [],
   "source": []
  },
  {
   "cell_type": "code",
   "execution_count": 6,
   "metadata": {},
   "outputs": [
    {
     "name": "stdout",
     "output_type": "stream",
     "text": [
      "torch.Size([1, 10647, 85])\n"
     ]
    }
   ],
   "source": [
    "'''\n",
    "该张量的形状为1 x 10647 x 85。\n",
    "第一维是批处理大小，由于我们使用了单个图像，\n",
    "因此批量大小仅为1。对于批次中的每个图像\n",
    "我们都有一个10647 x 85的表格。\n",
    "每个表的行都表示一个边界框。\n",
    "（4个bbox属性，1个客观分数和80个分类的分数）\n",
    "'''\n",
    "model = Darknet('cfg/yolov3.cfg')\n",
    "inp = get_test_input()\n",
    "pred = model(inp,torch.cuda.is_available())\n",
    "print(pred.shape)\n"
   ]
  },
  {
   "cell_type": "code",
   "execution_count": null,
   "metadata": {},
   "outputs": [],
   "source": []
  },
  {
   "cell_type": "code",
   "execution_count": 9,
   "metadata": {},
   "outputs": [],
   "source": [
    "# model = Darknet('cfg/yolov3.cfg')\n",
    "# model.load_weights('cfg/yolov3.weights')"
   ]
  },
  {
   "cell_type": "code",
   "execution_count": null,
   "metadata": {},
   "outputs": [],
   "source": []
  },
  {
   "cell_type": "code",
   "execution_count": 11,
   "metadata": {},
   "outputs": [],
   "source": [
    "def write_results(prediction,confidence,num_classes,nms_conf=0.4):\n",
    "\t#对于prediction有B*10647个边界框，如果object检测预测值小于confidence\n",
    "\t#则忽略\n",
    "\t#在prediction第二维加入一维，代表conf_mask\n",
    "\tconf_mask = (prediction[:,:,2]>confidence).float().unsqueeze(2)\n",
    "\tprediction = prediction*conf_mask\n",
    "\tprint(prediction)"
   ]
  },
  {
   "cell_type": "code",
   "execution_count": 11,
   "metadata": {},
   "outputs": [],
   "source": [
    "a = torch.randn(1,507,85)\n",
    "b = torch.randn(1,507,2)"
   ]
  },
  {
   "cell_type": "code",
   "execution_count": 15,
   "metadata": {},
   "outputs": [
    {
     "data": {
      "text/plain": [
       "torch.Size([1, 507, 2])"
      ]
     },
     "execution_count": 15,
     "metadata": {},
     "output_type": "execute_result"
    }
   ],
   "source": [
    "(a[:,:,2:4]*b).shape"
   ]
  },
  {
   "cell_type": "code",
   "execution_count": null,
   "metadata": {},
   "outputs": [],
   "source": []
  },
  {
   "cell_type": "code",
   "execution_count": null,
   "metadata": {},
   "outputs": [],
   "source": []
  },
  {
   "cell_type": "code",
   "execution_count": null,
   "metadata": {},
   "outputs": [],
   "source": []
  },
  {
   "cell_type": "code",
   "execution_count": null,
   "metadata": {},
   "outputs": [],
   "source": []
  }
 ],
 "metadata": {
  "kernelspec": {
   "display_name": "Python 3",
   "language": "python",
   "name": "python3"
  },
  "language_info": {
   "codemirror_mode": {
    "name": "ipython",
    "version": 3
   },
   "file_extension": ".py",
   "mimetype": "text/x-python",
   "name": "python",
   "nbconvert_exporter": "python",
   "pygments_lexer": "ipython3",
   "version": "3.7.3"
  }
 },
 "nbformat": 4,
 "nbformat_minor": 2
}
