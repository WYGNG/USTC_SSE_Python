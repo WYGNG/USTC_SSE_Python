{
 "cells": [
  {
   "cell_type": "code",
   "execution_count": 9,
   "metadata": {},
   "outputs": [
    {
     "name": "stdout",
     "output_type": "stream",
     "text": [
      "(30697, 25)\n"
     ]
    }
   ],
   "source": [
    "import pandas as pd\n",
    "\n",
    "# 导入数据\n",
    "filename= \"./data.csv\"\n",
    "raw = pd.read_csv(filename)\n",
    "print(raw.shape)"
   ]
  },
  {
   "cell_type": "code",
   "execution_count": 10,
   "metadata": {},
   "outputs": [
    {
     "data": {
      "text/html": [
       "<div>\n",
       "<style scoped>\n",
       "    .dataframe tbody tr th:only-of-type {\n",
       "        vertical-align: middle;\n",
       "    }\n",
       "\n",
       "    .dataframe tbody tr th {\n",
       "        vertical-align: top;\n",
       "    }\n",
       "\n",
       "    .dataframe thead th {\n",
       "        text-align: right;\n",
       "    }\n",
       "</style>\n",
       "<table border=\"1\" class=\"dataframe\">\n",
       "  <thead>\n",
       "    <tr style=\"text-align: right;\">\n",
       "      <th></th>\n",
       "      <th>action_type</th>\n",
       "      <th>combined_shot_type</th>\n",
       "      <th>game_event_id</th>\n",
       "      <th>game_id</th>\n",
       "      <th>lat</th>\n",
       "      <th>loc_x</th>\n",
       "      <th>loc_y</th>\n",
       "      <th>lon</th>\n",
       "      <th>minutes_remaining</th>\n",
       "      <th>period</th>\n",
       "      <th>...</th>\n",
       "      <th>shot_type</th>\n",
       "      <th>shot_zone_area</th>\n",
       "      <th>shot_zone_basic</th>\n",
       "      <th>shot_zone_range</th>\n",
       "      <th>team_id</th>\n",
       "      <th>team_name</th>\n",
       "      <th>game_date</th>\n",
       "      <th>matchup</th>\n",
       "      <th>opponent</th>\n",
       "      <th>shot_id</th>\n",
       "    </tr>\n",
       "  </thead>\n",
       "  <tbody>\n",
       "    <tr>\n",
       "      <th>0</th>\n",
       "      <td>Jump Shot</td>\n",
       "      <td>Jump Shot</td>\n",
       "      <td>10</td>\n",
       "      <td>20000012</td>\n",
       "      <td>33.9723</td>\n",
       "      <td>167</td>\n",
       "      <td>72</td>\n",
       "      <td>-118.1028</td>\n",
       "      <td>10</td>\n",
       "      <td>1</td>\n",
       "      <td>...</td>\n",
       "      <td>2PT Field Goal</td>\n",
       "      <td>Right Side(R)</td>\n",
       "      <td>Mid-Range</td>\n",
       "      <td>16-24 ft.</td>\n",
       "      <td>1610612747</td>\n",
       "      <td>Los Angeles Lakers</td>\n",
       "      <td>2000-10-31</td>\n",
       "      <td>LAL @ POR</td>\n",
       "      <td>POR</td>\n",
       "      <td>1</td>\n",
       "    </tr>\n",
       "    <tr>\n",
       "      <th>1</th>\n",
       "      <td>Jump Shot</td>\n",
       "      <td>Jump Shot</td>\n",
       "      <td>12</td>\n",
       "      <td>20000012</td>\n",
       "      <td>34.0443</td>\n",
       "      <td>-157</td>\n",
       "      <td>0</td>\n",
       "      <td>-118.4268</td>\n",
       "      <td>10</td>\n",
       "      <td>1</td>\n",
       "      <td>...</td>\n",
       "      <td>2PT Field Goal</td>\n",
       "      <td>Left Side(L)</td>\n",
       "      <td>Mid-Range</td>\n",
       "      <td>8-16 ft.</td>\n",
       "      <td>1610612747</td>\n",
       "      <td>Los Angeles Lakers</td>\n",
       "      <td>2000-10-31</td>\n",
       "      <td>LAL @ POR</td>\n",
       "      <td>POR</td>\n",
       "      <td>2</td>\n",
       "    </tr>\n",
       "  </tbody>\n",
       "</table>\n",
       "<p>2 rows × 25 columns</p>\n",
       "</div>"
      ],
      "text/plain": [
       "  action_type combined_shot_type  game_event_id   game_id      lat  loc_x  \\\n",
       "0   Jump Shot          Jump Shot             10  20000012  33.9723    167   \n",
       "1   Jump Shot          Jump Shot             12  20000012  34.0443   -157   \n",
       "\n",
       "   loc_y       lon  minutes_remaining  period  ...       shot_type  \\\n",
       "0     72 -118.1028                 10       1  ...  2PT Field Goal   \n",
       "1      0 -118.4268                 10       1  ...  2PT Field Goal   \n",
       "\n",
       "  shot_zone_area  shot_zone_basic  shot_zone_range     team_id  \\\n",
       "0  Right Side(R)        Mid-Range        16-24 ft.  1610612747   \n",
       "1   Left Side(L)        Mid-Range         8-16 ft.  1610612747   \n",
       "\n",
       "            team_name   game_date    matchup opponent  shot_id  \n",
       "0  Los Angeles Lakers  2000-10-31  LAL @ POR      POR        1  \n",
       "1  Los Angeles Lakers  2000-10-31  LAL @ POR      POR        2  \n",
       "\n",
       "[2 rows x 25 columns]"
      ]
     },
     "execution_count": 10,
     "metadata": {},
     "output_type": "execute_result"
    }
   ],
   "source": [
    "raw.head(2)"
   ]
  },
  {
   "cell_type": "markdown",
   "metadata": {},
   "source": [
    "可以看到，这25个标签中对于科比能否投篮命中有一些无关紧要的数据，比如team_id，因为这30000多份样本中全是在湖人队打的，shot_id，game_id等等这个数据也无关紧要，具体的分析将会在下面讲解。"
   ]
  },
  {
   "cell_type": "markdown",
   "metadata": {},
   "source": [
    "接下来我们再来分析这一份数据表，我们发现其中shot_made_flag这个标签竟然有缺失值，这个表示了科比是否进球了，作为最重要的数据，是不能随意进行填充的，我们必须删除掉这些样本进行下一步的工作，代码如下"
   ]
  },
  {
   "cell_type": "code",
   "execution_count": 11,
   "metadata": {},
   "outputs": [
    {
     "name": "stdout",
     "output_type": "stream",
     "text": [
      "(25697, 25)\n"
     ]
    }
   ],
   "source": [
    "kobe = raw[pd.notnull(raw['shot_made_flag'])]\n",
    "print(kobe.shape)"
   ]
  },
  {
   "cell_type": "code",
   "execution_count": 12,
   "metadata": {},
   "outputs": [],
   "source": [
    "#生涯里科比出手26200次"
   ]
  },
  {
   "cell_type": "markdown",
   "metadata": {},
   "source": [
    "此时我们只有25697个数据进行训练了。\n",
    "\n",
    "接着我们分析lat，loc_x，loc_y，lon这4个标签，这4个标签说明了科比投篮的位置，而具体指的是什么呢，有什么关系吗，我们画散点图来看一下。\n",
    "\n",
    "编写代码如下"
   ]
  },
  {
   "cell_type": "code",
   "execution_count": 13,
   "metadata": {},
   "outputs": [
    {
     "data": {
      "image/png": "[encoded data removed]",
      "text/plain": [
       "<Figure size 432x432 with 2 Axes>"
      ]
     },
     "metadata": {
      "needs_background": "light"
     },
     "output_type": "display_data"
    }
   ],
   "source": [
    "import matplotlib.pyplot as plt\n",
    "#画散点图用来分析lat loc_x loc_y lon这4个标签\n",
    "alpha = 0.02 #指定一个数字，用于后面的透明度\n",
    "plt.figure(figsize=(6,6)) #指定画图域\n",
    "# loc_x and loc_y\n",
    "plt.subplot(121) #一行两列 第一个位置\n",
    "plt.scatter(kobe.loc_x, kobe.loc_y, color='R', alpha=alpha) #画散点图\n",
    "plt.title('loc_x and loc_y')\n",
    "# lat and lon\n",
    "plt.subplot(122) #一行两列 第二个位置\n",
    "plt.scatter(kobe.lon, kobe.lat, color='B', alpha=alpha)\n",
    "plt.title('lat and lon')\n",
    "plt.show()"
   ]
  },
  {
   "cell_type": "code",
   "execution_count": 14,
   "metadata": {},
   "outputs": [
    {
     "data": {
      "text/plain": [
       "Text(0.5, 1.0, '投篮位置')"
      ]
     },
     "execution_count": 14,
     "metadata": {},
     "output_type": "execute_result"
    },
    {
     "data": {
      "image/png": "[encoded data removed]",
      "text/plain": [
       "<Figure size 720x1440 with 1 Axes>"
      ]
     },
     "metadata": {
      "needs_background": "light"
     },
     "output_type": "display_data"
    }
   ],
   "source": [
    "new_data = kobe\n",
    "plt.figure(figsize=(10,20))\n",
    "jumpshot = new_data[new_data['combined_shot_type']=='Jump Shot']\n",
    "layup = new_data[new_data['combined_shot_type']=='Layup']\n",
    "dunk = new_data[new_data['combined_shot_type']=='Dunk']\n",
    "tipshot = new_data[new_data['combined_shot_type']=='Tip Shot']\n",
    "hookshot = new_data[new_data['combined_shot_type']=='Hook Shot']\n",
    "bankshot = new_data[new_data['combined_shot_type']=='Bank Shot']\n",
    "\n",
    "plt.scatter(jumpshot.loc_x, jumpshot.loc_y, color='grey')\n",
    "plt.scatter(layup.loc_x, layup.loc_y, color='red')\n",
    "plt.scatter(dunk.loc_x, dunk.loc_y, color='yellow' )\n",
    "plt.scatter(tipshot.loc_x, tipshot.loc_y, color='green')\n",
    "plt.scatter(hookshot.loc_x, hookshot.loc_y, color='black')\n",
    "plt.scatter(bankshot.loc_x, bankshot.loc_y, color='blue')\n",
    "label=['跳投','上篮','扣篮','补篮','勾手','擦板']\n",
    "plt.legend(label,loc=7)\n",
    "plt.title('投篮位置')"
   ]
  },
  {
   "cell_type": "code",
   "execution_count": null,
   "metadata": {},
   "outputs": [],
   "source": []
  },
  {
   "cell_type": "code",
   "execution_count": 15,
   "metadata": {},
   "outputs": [
    {
     "name": "stderr",
     "output_type": "stream",
     "text": [
      "C:\\Users\\Acer\\Anaconda3\\lib\\site-packages\\matplotlib\\backends\\backend_agg.py:211: RuntimeWarning: Glyph 31185 missing from current font.\n",
      "  font.set_text(s, 0.0, flags=flags)\n",
      "C:\\Users\\Acer\\Anaconda3\\lib\\site-packages\\matplotlib\\backends\\backend_agg.py:211: RuntimeWarning: Glyph 27604 missing from current font.\n",
      "  font.set_text(s, 0.0, flags=flags)\n",
      "C:\\Users\\Acer\\Anaconda3\\lib\\site-packages\\matplotlib\\backends\\backend_agg.py:211: RuntimeWarning: Glyph 36827 missing from current font.\n",
      "  font.set_text(s, 0.0, flags=flags)\n",
      "C:\\Users\\Acer\\Anaconda3\\lib\\site-packages\\matplotlib\\backends\\backend_agg.py:211: RuntimeWarning: Glyph 25915 missing from current font.\n",
      "  font.set_text(s, 0.0, flags=flags)\n",
      "C:\\Users\\Acer\\Anaconda3\\lib\\site-packages\\matplotlib\\backends\\backend_agg.py:211: RuntimeWarning: Glyph 26041 missing from current font.\n",
      "  font.set_text(s, 0.0, flags=flags)\n",
      "C:\\Users\\Acer\\Anaconda3\\lib\\site-packages\\matplotlib\\backends\\backend_agg.py:211: RuntimeWarning: Glyph 24335 missing from current font.\n",
      "  font.set_text(s, 0.0, flags=flags)\n",
      "C:\\Users\\Acer\\Anaconda3\\lib\\site-packages\\matplotlib\\backends\\backend_agg.py:180: RuntimeWarning: Glyph 36827 missing from current font.\n",
      "  font.set_text(s, 0, flags=flags)\n",
      "C:\\Users\\Acer\\Anaconda3\\lib\\site-packages\\matplotlib\\backends\\backend_agg.py:180: RuntimeWarning: Glyph 25915 missing from current font.\n",
      "  font.set_text(s, 0, flags=flags)\n",
      "C:\\Users\\Acer\\Anaconda3\\lib\\site-packages\\matplotlib\\backends\\backend_agg.py:180: RuntimeWarning: Glyph 26041 missing from current font.\n",
      "  font.set_text(s, 0, flags=flags)\n",
      "C:\\Users\\Acer\\Anaconda3\\lib\\site-packages\\matplotlib\\backends\\backend_agg.py:180: RuntimeWarning: Glyph 24335 missing from current font.\n",
      "  font.set_text(s, 0, flags=flags)\n",
      "C:\\Users\\Acer\\Anaconda3\\lib\\site-packages\\matplotlib\\backends\\backend_agg.py:211: RuntimeWarning: Glyph 27425 missing from current font.\n",
      "  font.set_text(s, 0.0, flags=flags)\n",
      "C:\\Users\\Acer\\Anaconda3\\lib\\site-packages\\matplotlib\\backends\\backend_agg.py:211: RuntimeWarning: Glyph 25968 missing from current font.\n",
      "  font.set_text(s, 0.0, flags=flags)\n",
      "C:\\Users\\Acer\\Anaconda3\\lib\\site-packages\\matplotlib\\backends\\backend_agg.py:180: RuntimeWarning: Glyph 27425 missing from current font.\n",
      "  font.set_text(s, 0, flags=flags)\n",
      "C:\\Users\\Acer\\Anaconda3\\lib\\site-packages\\matplotlib\\backends\\backend_agg.py:180: RuntimeWarning: Glyph 25968 missing from current font.\n",
      "  font.set_text(s, 0, flags=flags)\n",
      "C:\\Users\\Acer\\Anaconda3\\lib\\site-packages\\matplotlib\\backends\\backend_agg.py:180: RuntimeWarning: Glyph 31185 missing from current font.\n",
      "  font.set_text(s, 0, flags=flags)\n",
      "C:\\Users\\Acer\\Anaconda3\\lib\\site-packages\\matplotlib\\backends\\backend_agg.py:180: RuntimeWarning: Glyph 27604 missing from current font.\n",
      "  font.set_text(s, 0, flags=flags)\n"
     ]
    },
    {
     "data": {
      "image/png": "[encoded data removed]",
      "text/plain": [
       "<Figure size 432x288 with 1 Axes>"
      ]
     },
     "metadata": {
      "needs_background": "light"
     },
     "output_type": "display_data"
    }
   ],
   "source": [
    "import numpy as np\n",
    "attack_method = new_data['combined_shot_type'].value_counts()\n",
    "a = np.array([1,2,3,4,5,6])\n",
    "plt.bar(a,attack_method,align = 'center')\n",
    "plt.xlabel('进攻方式')\n",
    "plt.ylabel('进攻次数')\n",
    "plt.title('科比进攻方式')\n",
    "plt.grid(linestyle = '--',linewidth = 1)\n",
    "plt.ylim(0,20000)\n",
    "plt.xticks(a,('跳投','上篮','扣篮','补篮','勾手','擦板'))\n",
    "plt.show()"
   ]
  },
  {
   "cell_type": "code",
   "execution_count": 16,
   "metadata": {},
   "outputs": [],
   "source": [
    "import pandas as pd\n",
    "import numpy as np\n",
    "import matplotlib.pyplot as plt\n",
    "import time\n",
    "from sklearn.ensemble import RandomForestClassifier #导入随机森林分类器\n",
    "from sklearn.model_selection import cross_val_score\n",
    "from sklearn.model_selection import KFold\n",
    "from sklearn.model_selection import train_test_split\n",
    "from sklearn.metrics import log_loss"
   ]
  },
  {
   "cell_type": "markdown",
   "metadata": {},
   "source": [
    "我们取loc_x和loc_y这2个标签，并将其转化为极坐标的形式\n",
    "\n",
    "dist表示离篮筐的距离，angle表示投篮的角度，这样将会更好的科比投篮的反应结果`"
   ]
  },
  {
   "cell_type": "code",
   "execution_count": 17,
   "metadata": {},
   "outputs": [
    {
     "name": "stderr",
     "output_type": "stream",
     "text": [
      "C:\\Users\\Acer\\Anaconda3\\lib\\site-packages\\ipykernel_launcher.py:4: SettingWithCopyWarning: \n",
      "A value is trying to be set on a copy of a slice from a DataFrame\n",
      "\n",
      "See the caveats in the documentation: http://pandas.pydata.org/pandas-docs/stable/indexing.html#indexing-view-versus-copy\n",
      "  after removing the cwd from sys.path.\n",
      "C:\\Users\\Acer\\Anaconda3\\lib\\site-packages\\ipykernel_launcher.py:5: SettingWithCopyWarning: \n",
      "A value is trying to be set on a copy of a slice from a DataFrame\n",
      "\n",
      "See the caveats in the documentation: http://pandas.pydata.org/pandas-docs/stable/indexing.html#indexing-view-versus-copy\n",
      "  \"\"\"\n"
     ]
    },
    {
     "data": {
      "image/png": "[encoded data removed]",
      "text/plain": [
       "<Figure size 360x360 with 1 Axes>"
      ]
     },
     "metadata": {
      "needs_background": "light"
     },
     "output_type": "display_data"
    }
   ],
   "source": [
    "raw['dist'] = np.sqrt(raw['loc_x']**2 + raw['loc_y']**2)\n",
    "loc_x_zero = raw['loc_x'] == 0\n",
    "raw['angle'] = np.array([0]*len(raw))\n",
    "raw['angle'][~loc_x_zero] = np.arctan(raw['loc_y'][~loc_x_zero] / raw['loc_x'][~loc_x_zero])\n",
    "raw['angle'][loc_x_zero] = np.pi / 2\n",
    "plt.figure(figsize=(5,5))\n",
    "plt.scatter(raw.dist, raw.shot_distance, color='blue')\n",
    "plt.title('dist and shot_distance')\n",
    "plt.show()"
   ]
  },
  {
   "cell_type": "markdown",
   "metadata": {},
   "source": [
    "对于lat，loc_x，loc_y，lon这4个标签，我们取loc_x和loc_y这2个标签，并将其转化为极坐标的形式\n",
    "\n",
    "dist表示离篮筐的距离，angle表示投篮的角度，这样将会更好的科比投篮的反应结果`"
   ]
  },
  {
   "cell_type": "code",
   "execution_count": 18,
   "metadata": {},
   "outputs": [],
   "source": [
    "raw['remaining_time'] = raw['minutes_remaining'] * 60 + raw['seconds_remaining']"
   ]
  },
  {
   "cell_type": "markdown",
   "metadata": {},
   "source": [
    "删除对于比赛结果没有影响的数据"
   ]
  },
  {
   "cell_type": "code",
   "execution_count": 19,
   "metadata": {},
   "outputs": [],
   "source": [
    "drops = ['team_id', 'team_name', 'shot_zone_area', 'shot_zone_range', 'shot_zone_basic','matchup', 'lon',\n",
    "'lat', 'seconds_remaining', 'minutes_remaining','shot_distance', 'loc_x', 'loc_y', 'game_event_id', 'game_id',\n",
    "'game_date']\n",
    "for drop in drops:\n",
    "    raw = raw.drop(drop, 1)"
   ]
  },
  {
   "cell_type": "markdown",
   "metadata": {},
   "source": [
    "将非数值型的数据转换成为onehot编码的格式，加入到数据中并且将原来的数据删除"
   ]
  },
  {
   "cell_type": "code",
   "execution_count": 20,
   "metadata": {},
   "outputs": [],
   "source": [
    "categorical_vars = ['action_type', 'combined_shot_type', 'shot_type', 'opponent', 'period', 'season']\n",
    "for var in categorical_vars:\n",
    "    raw = pd.concat([raw, pd.get_dummies(raw[var], prefix=var)], 1)\n",
    "    raw = raw.drop(var, 1)"
   ]
  },
  {
   "cell_type": "markdown",
   "metadata": {},
   "source": [
    "将数据分为训练集和测试集"
   ]
  },
  {
   "cell_type": "code",
   "execution_count": 21,
   "metadata": {},
   "outputs": [
    {
     "data": {
      "text/plain": [
       "playoffs                                         int64\n",
       "shot_made_flag                                 float64\n",
       "shot_id                                          int64\n",
       "dist                                           float64\n",
       "angle                                          float64\n",
       "remaining_time                                   int64\n",
       "action_type_Alley Oop Dunk Shot                  uint8\n",
       "action_type_Alley Oop Layup shot                 uint8\n",
       "action_type_Cutting Finger Roll Layup Shot       uint8\n",
       "action_type_Cutting Layup Shot                   uint8\n",
       "action_type_Driving Bank shot                    uint8\n",
       "action_type_Driving Dunk Shot                    uint8\n",
       "action_type_Driving Finger Roll Layup Shot       uint8\n",
       "action_type_Driving Finger Roll Shot             uint8\n",
       "action_type_Driving Floating Bank Jump Shot      uint8\n",
       "action_type_Driving Floating Jump Shot           uint8\n",
       "action_type_Driving Hook Shot                    uint8\n",
       "action_type_Driving Jump shot                    uint8\n",
       "action_type_Driving Layup Shot                   uint8\n",
       "action_type_Driving Reverse Layup Shot           uint8\n",
       "action_type_Driving Slam Dunk Shot               uint8\n",
       "action_type_Dunk Shot                            uint8\n",
       "action_type_Fadeaway Bank shot                   uint8\n",
       "action_type_Fadeaway Jump Shot                   uint8\n",
       "action_type_Finger Roll Layup Shot               uint8\n",
       "action_type_Finger Roll Shot                     uint8\n",
       "action_type_Floating Jump shot                   uint8\n",
       "action_type_Follow Up Dunk Shot                  uint8\n",
       "action_type_Hook Bank Shot                       uint8\n",
       "action_type_Hook Shot                            uint8\n",
       "                                                ...   \n",
       "opponent_UTA                                     uint8\n",
       "opponent_VAN                                     uint8\n",
       "opponent_WAS                                     uint8\n",
       "period_1                                         uint8\n",
       "period_2                                         uint8\n",
       "period_3                                         uint8\n",
       "period_4                                         uint8\n",
       "period_5                                         uint8\n",
       "period_6                                         uint8\n",
       "period_7                                         uint8\n",
       "season_1996-97                                   uint8\n",
       "season_1997-98                                   uint8\n",
       "season_1998-99                                   uint8\n",
       "season_1999-00                                   uint8\n",
       "season_2000-01                                   uint8\n",
       "season_2001-02                                   uint8\n",
       "season_2002-03                                   uint8\n",
       "season_2003-04                                   uint8\n",
       "season_2004-05                                   uint8\n",
       "season_2005-06                                   uint8\n",
       "season_2006-07                                   uint8\n",
       "season_2007-08                                   uint8\n",
       "season_2008-09                                   uint8\n",
       "season_2009-10                                   uint8\n",
       "season_2010-11                                   uint8\n",
       "season_2011-12                                   uint8\n",
       "season_2012-13                                   uint8\n",
       "season_2013-14                                   uint8\n",
       "season_2014-15                                   uint8\n",
       "season_2015-16                                   uint8\n",
       "Length: 131, dtype: object"
      ]
     },
     "execution_count": 21,
     "metadata": {},
     "output_type": "execute_result"
    }
   ],
   "source": [
    "raw.dtypes"
   ]
  },
  {
   "cell_type": "code",
   "execution_count": 22,
   "metadata": {},
   "outputs": [],
   "source": [
    "train_kobe = raw[pd.notnull(raw['shot_made_flag'])]\n",
    "train_label = train_kobe['shot_made_flag']\n",
    "train_kobe = train_kobe.drop('shot_made_flag', 1)\n",
    "\n",
    "test_kobe = raw[pd.isnull(raw['shot_made_flag'])]\n",
    "test_kobe = test_kobe.drop('shot_made_flag', 1)"
   ]
  },
  {
   "cell_type": "markdown",
   "metadata": {},
   "source": [
    "首先除去和比赛结果无关的标签，’shot_id’, ‘team_id’, ‘team_name’, ‘shot_zone_area’, ‘shot_zone_range’, ‘shot_zone_basic’,’matchup’, ‘lon’,\n",
    "‘lat’, ‘seconds_remaining’, ‘minutes_remaining’，’shot_distance’, , ‘game_event_id’, ‘game_id’,\n",
    "‘game_date’\n",
    "\n",
    "然后’loc_x’, ‘loc_y’转换成了极坐标的形式，变成了’dist’,’angle’;’seconds_remaining’和’minutes_remaining’合并成了’remaining_time’。\n",
    "\n",
    "最后将’action_type’, ‘combined_shot_type’, ‘shot_type’, ‘opponent’, ‘period’, ‘season’转换成onehot编码格式。\n",
    "\n",
    "至此我们的数据处理工作基本完成了"
   ]
  },
  {
   "cell_type": "code",
   "execution_count": 24,
   "metadata": {},
   "outputs": [
    {
     "name": "stdout",
     "output_type": "stream",
     "text": [
      "<class 'pandas.core.frame.DataFrame'>\n",
      "Int64Index: 5000 entries, 0 to 30693\n",
      "Columns: 130 entries, playoffs to season_2015-16\n",
      "dtypes: float64(2), int64(3), uint8(125)\n",
      "memory usage: 844.7 KB\n"
     ]
    }
   ],
   "source": [
    "test_kobe.info()"
   ]
  },
  {
   "cell_type": "markdown",
   "metadata": {},
   "source": [
    "### 利用随机森林分类器配合着交叉验证的方法进行数据的分析，先找到最佳的树的个数，和树的深度。"
   ]
  },
  {
   "cell_type": "code",
   "execution_count": 63,
   "metadata": {},
   "outputs": [
    {
     "name": "stdout",
     "output_type": "stream",
     "text": [
      "寻找随机森林分类器的的最佳树的数量...\n",
      "树的数量 : 1\n",
      "建造 1 颗树(耗时1.252秒)\n",
      "树的数量 : 1\n",
      "建造 1 颗树(耗时1.240秒)\n",
      "树的数量 : 2\n",
      "建造 2 颗树(耗时2.043秒)\n",
      "树的数量 : 4\n",
      "建造 4 颗树(耗时3.499秒)\n",
      "树的数量 : 7\n",
      "建造 7 颗树(耗时5.343秒)\n",
      "树的数量 : 12\n",
      "建造 12 颗树(耗时8.395秒)\n",
      "树的数量 : 21\n",
      "建造 21 颗树(耗时15.659秒)\n",
      "树的数量 : 35\n",
      "建造 35 颗树(耗时24.186秒)\n",
      "树的数量 : 59\n",
      "建造 59 颗树(耗时39.758秒)\n",
      "树的数量 : 100\n",
      "建造 100 颗树(耗时66.862秒)\n",
      "最佳树的颗树为 : 100,得分为: 1.154887411367422\n",
      "\n",
      "\n",
      "寻找随机森林分类器的最佳树的最佳深度...\n",
      "树的最大的深度 : 1\n",
      "树的最大深度为: 1(耗时5.467秒)\n",
      "树的最大的深度 : 1\n",
      "树的最大深度为: 1(耗时5.473秒)\n",
      "树的最大的深度 : 2\n",
      "树的最大深度为: 2(耗时7.122秒)\n",
      "树的最大的深度 : 4\n",
      "树的最大深度为: 4(耗时10.715秒)\n",
      "树的最大的深度 : 7\n",
      "树的最大深度为: 7(耗时16.367秒)\n",
      "树的最大的深度 : 12\n",
      "树的最大深度为: 12(耗时24.499秒)\n",
      "树的最大的深度 : 21\n",
      "树的最大深度为: 21(耗时40.971秒)\n",
      "树的最大的深度 : 35\n",
      "树的最大深度为: 35(耗时59.439秒)\n",
      "树的最大的深度 : 59\n",
      "树的最大深度为: 59(耗时70.990秒)\n",
      "树的最大的深度 : 100\n",
      "树的最大深度为: 100(耗时69.595秒)\n",
      "最佳树的深度: 12,得分为：1.1037953497892015\n"
     ]
    }
   ],
   "source": [
    "print('寻找随机森林分类器的的最佳树的数量...')\n",
    "min_score = 100000\n",
    "best_n = 0\n",
    "scores_n = []\n",
    "range_n = np.logspace(0, 2, num=10).astype(int)\n",
    "for n in range_n:\n",
    "    print('树的数量 : {0}'.format(n))\n",
    "    t1 = time.time()\n",
    "    rfc_score = 0.\n",
    "    rfc = RandomForestClassifier(n_estimators=n)\n",
    "    kf = KFold(10,shuffle=True)\n",
    "    for train_k, test_k in kf.split(train_kobe):\n",
    "        rfc.fit(train_kobe.iloc[train_k], train_label.iloc[train_k])\n",
    "    pred = rfc.predict(train_kobe.iloc[test_k])\n",
    "    rfc_score += log_loss(train_label.iloc[test_k], pred) / 10\n",
    "    scores_n.append(rfc_score)\n",
    "    if rfc_score < min_score:\n",
    "        min_score = rfc_score\n",
    "        best_n = n\n",
    "    t2 = time.time()\n",
    "    print('建造 {0} 颗树(耗时{1:.3f}秒)'.format(n, t2 - t1))\n",
    "print(\"最佳树的颗树为 : {0},得分为: {1}\".format(best_n,min_score))\n",
    "\n",
    "print('\\n')\n",
    "\n",
    "print('寻找随机森林分类器的最佳树的最佳深度...')\n",
    "min_score = 100000\n",
    "best_m = 0\n",
    "scores_m = []\n",
    "range_m = np.logspace(0, 2, num=10).astype(int)\n",
    "for m in range_m:\n",
    "    print(\"树的最大的深度 : {0}\".format(m))\n",
    "    t1 = time.time()\n",
    "    rfc_score = 0.\n",
    "    rfc = RandomForestClassifier(max_depth=m, n_estimators=best_n)\n",
    "    kf = KFold(10,shuffle=True)\n",
    "    for train_k, test_k in kf.split(train_kobe):\n",
    "        rfc.fit(train_kobe.iloc[train_k], train_label.iloc[train_k])\n",
    "    pred = rfc.predict(train_kobe.iloc[test_k])\n",
    "    rfc_score += log_loss(train_label.iloc[test_k], pred) / 10\n",
    "    scores_m.append(rfc_score)\n",
    "    if rfc_score < min_score:\n",
    "        min_score = rfc_score\n",
    "        best_m = m\n",
    "    t2 = time.time()\n",
    "    print('树的最大深度为: {0}(耗时{1:.3f}秒)'.format(m, t2 - t1))\n",
    "print('最佳树的深度: {0},得分为：{1}'.format(best_m, min_score))\n"
   ]
  },
  {
   "cell_type": "code",
   "execution_count": 64,
   "metadata": {},
   "outputs": [
    {
     "name": "stdout",
     "output_type": "stream",
     "text": [
      "[1.4721840065157912, 1.4049596082454276, 1.3955412454207636, 1.3054642493708117, 1.3054689803482113, 1.2288314793530555, 1.2490002928270274, 1.2301778223596007, 1.216733036080082, 1.154887411367422]\n",
      "[  1   1   2   4   7  12  21  35  59 100]\n"
     ]
    },
    {
     "data": {
      "image/png": "[encoded data removed]",
      "text/plain": [
       "<Figure size 720x360 with 2 Axes>"
      ]
     },
     "metadata": {
      "needs_background": "light"
     },
     "output_type": "display_data"
    }
   ],
   "source": [
    "print(scores_n)\n",
    "print(range_n)\n",
    "\n",
    "plt.figure(figsize=(10,5))\n",
    "plt.subplot(121)\n",
    "plt.plot(range_n, scores_n)\n",
    "plt.ylabel('score')\n",
    "plt.xlabel('number of trees')\n",
    "\n",
    "plt.subplot(122)\n",
    "plt.plot(range_m, scores_m)\n",
    "plt.ylabel('score')\n",
    "plt.xlabel('max depth')\n",
    "plt.show()"
   ]
  },
  {
   "cell_type": "code",
   "execution_count": 56,
   "metadata": {},
   "outputs": [],
   "source": [
    "train_kobe = raw[pd.notnull(raw['shot_made_flag'])]\n",
    "train_label = train_kobe['shot_made_flag']\n",
    "train_kobe = train_kobe.drop('shot_made_flag', 1)\n",
    "\n",
    "test_kobe = raw[pd.isnull(raw['shot_made_flag'])]\n",
    "test_kobe = test_kobe.drop('shot_made_flag', 1)\n",
    "# test_kobe.head(1)"
   ]
  },
  {
   "cell_type": "markdown",
   "metadata": {},
   "source": [
    "用生成模型预测补全进球缺失值"
   ]
  },
  {
   "cell_type": "code",
   "execution_count": 57,
   "metadata": {},
   "outputs": [],
   "source": [
    "model = RandomForestClassifier(n_estimators=59, max_depth=35)\n",
    "model.fit(train_kobe, train_label)\n"
   ]
  },
  {
   "cell_type": "code",
   "execution_count": 65,
   "metadata": {},
   "outputs": [],
   "source": [
    "predictions = model.predict(test_kobe)\n",
    "test_shot_id = raw[pd.isnull(raw['shot_made_flag'])]\n",
    "result=pd.DataFrame({'shot_id':test_shot_id['shot_id'].as_matrix(),'shot_made_flag':predictions.astype(np.int32)})\n",
    "result.to_csv(\"result.csv\", index=False)\n",
    "result['shot_made_flag'].value_counts()"
   ]
  },
  {
   "cell_type": "code",
   "execution_count": 60,
   "metadata": {},
   "outputs": [
    {
     "name": "stderr",
     "output_type": "stream",
     "text": [
      "C:\\Users\\Acer\\Anaconda3\\lib\\site-packages\\ipykernel_launcher.py:1: FutureWarning: Method .as_matrix will be removed in a future version. Use .values instead.\n",
      "  \"\"\"Entry point for launching an IPython kernel.\n"
     ]
    }
   ],
   "source": []
  },
  {
   "cell_type": "code",
   "execution_count": 83,
   "metadata": {},
   "outputs": [
    {
     "data": {
      "text/html": [
       "<div>\n",
       "<style scoped>\n",
       "    .dataframe tbody tr th:only-of-type {\n",
       "        vertical-align: middle;\n",
       "    }\n",
       "\n",
       "    .dataframe tbody tr th {\n",
       "        vertical-align: top;\n",
       "    }\n",
       "\n",
       "    .dataframe thead th {\n",
       "        text-align: right;\n",
       "    }\n",
       "</style>\n",
       "<table border=\"1\" class=\"dataframe\">\n",
       "  <thead>\n",
       "    <tr style=\"text-align: right;\">\n",
       "      <th></th>\n",
       "      <th>shot_id</th>\n",
       "      <th>shot_made_flag</th>\n",
       "    </tr>\n",
       "  </thead>\n",
       "  <tbody>\n",
       "    <tr>\n",
       "      <th>0</th>\n",
       "      <td>1</td>\n",
       "      <td>0</td>\n",
       "    </tr>\n",
       "    <tr>\n",
       "      <th>1</th>\n",
       "      <td>8</td>\n",
       "      <td>0</td>\n",
       "    </tr>\n",
       "    <tr>\n",
       "      <th>2</th>\n",
       "      <td>17</td>\n",
       "      <td>1</td>\n",
       "    </tr>\n",
       "    <tr>\n",
       "      <th>3</th>\n",
       "      <td>20</td>\n",
       "      <td>1</td>\n",
       "    </tr>\n",
       "    <tr>\n",
       "      <th>4</th>\n",
       "      <td>33</td>\n",
       "      <td>0</td>\n",
       "    </tr>\n",
       "    <tr>\n",
       "      <th>5</th>\n",
       "      <td>34</td>\n",
       "      <td>1</td>\n",
       "    </tr>\n",
       "    <tr>\n",
       "      <th>6</th>\n",
       "      <td>35</td>\n",
       "      <td>0</td>\n",
       "    </tr>\n",
       "    <tr>\n",
       "      <th>7</th>\n",
       "      <td>36</td>\n",
       "      <td>1</td>\n",
       "    </tr>\n",
       "    <tr>\n",
       "      <th>8</th>\n",
       "      <td>37</td>\n",
       "      <td>0</td>\n",
       "    </tr>\n",
       "    <tr>\n",
       "      <th>9</th>\n",
       "      <td>38</td>\n",
       "      <td>0</td>\n",
       "    </tr>\n",
       "    <tr>\n",
       "      <th>10</th>\n",
       "      <td>45</td>\n",
       "      <td>0</td>\n",
       "    </tr>\n",
       "    <tr>\n",
       "      <th>11</th>\n",
       "      <td>50</td>\n",
       "      <td>0</td>\n",
       "    </tr>\n",
       "    <tr>\n",
       "      <th>12</th>\n",
       "      <td>55</td>\n",
       "      <td>0</td>\n",
       "    </tr>\n",
       "    <tr>\n",
       "      <th>13</th>\n",
       "      <td>60</td>\n",
       "      <td>0</td>\n",
       "    </tr>\n",
       "    <tr>\n",
       "      <th>14</th>\n",
       "      <td>66</td>\n",
       "      <td>0</td>\n",
       "    </tr>\n",
       "    <tr>\n",
       "      <th>15</th>\n",
       "      <td>67</td>\n",
       "      <td>0</td>\n",
       "    </tr>\n",
       "    <tr>\n",
       "      <th>16</th>\n",
       "      <td>71</td>\n",
       "      <td>0</td>\n",
       "    </tr>\n",
       "    <tr>\n",
       "      <th>17</th>\n",
       "      <td>80</td>\n",
       "      <td>0</td>\n",
       "    </tr>\n",
       "    <tr>\n",
       "      <th>18</th>\n",
       "      <td>85</td>\n",
       "      <td>0</td>\n",
       "    </tr>\n",
       "    <tr>\n",
       "      <th>19</th>\n",
       "      <td>86</td>\n",
       "      <td>1</td>\n",
       "    </tr>\n",
       "    <tr>\n",
       "      <th>20</th>\n",
       "      <td>95</td>\n",
       "      <td>1</td>\n",
       "    </tr>\n",
       "    <tr>\n",
       "      <th>21</th>\n",
       "      <td>104</td>\n",
       "      <td>0</td>\n",
       "    </tr>\n",
       "    <tr>\n",
       "      <th>22</th>\n",
       "      <td>113</td>\n",
       "      <td>0</td>\n",
       "    </tr>\n",
       "    <tr>\n",
       "      <th>23</th>\n",
       "      <td>123</td>\n",
       "      <td>0</td>\n",
       "    </tr>\n",
       "    <tr>\n",
       "      <th>24</th>\n",
       "      <td>126</td>\n",
       "      <td>1</td>\n",
       "    </tr>\n",
       "    <tr>\n",
       "      <th>25</th>\n",
       "      <td>133</td>\n",
       "      <td>0</td>\n",
       "    </tr>\n",
       "    <tr>\n",
       "      <th>26</th>\n",
       "      <td>141</td>\n",
       "      <td>0</td>\n",
       "    </tr>\n",
       "    <tr>\n",
       "      <th>27</th>\n",
       "      <td>144</td>\n",
       "      <td>1</td>\n",
       "    </tr>\n",
       "    <tr>\n",
       "      <th>28</th>\n",
       "      <td>150</td>\n",
       "      <td>0</td>\n",
       "    </tr>\n",
       "    <tr>\n",
       "      <th>29</th>\n",
       "      <td>152</td>\n",
       "      <td>0</td>\n",
       "    </tr>\n",
       "    <tr>\n",
       "      <th>...</th>\n",
       "      <td>...</td>\n",
       "      <td>...</td>\n",
       "    </tr>\n",
       "    <tr>\n",
       "      <th>4970</th>\n",
       "      <td>30513</td>\n",
       "      <td>1</td>\n",
       "    </tr>\n",
       "    <tr>\n",
       "      <th>4971</th>\n",
       "      <td>30516</td>\n",
       "      <td>0</td>\n",
       "    </tr>\n",
       "    <tr>\n",
       "      <th>4972</th>\n",
       "      <td>30520</td>\n",
       "      <td>0</td>\n",
       "    </tr>\n",
       "    <tr>\n",
       "      <th>4973</th>\n",
       "      <td>30531</td>\n",
       "      <td>1</td>\n",
       "    </tr>\n",
       "    <tr>\n",
       "      <th>4974</th>\n",
       "      <td>30542</td>\n",
       "      <td>1</td>\n",
       "    </tr>\n",
       "    <tr>\n",
       "      <th>4975</th>\n",
       "      <td>30555</td>\n",
       "      <td>0</td>\n",
       "    </tr>\n",
       "    <tr>\n",
       "      <th>4976</th>\n",
       "      <td>30557</td>\n",
       "      <td>1</td>\n",
       "    </tr>\n",
       "    <tr>\n",
       "      <th>4977</th>\n",
       "      <td>30568</td>\n",
       "      <td>0</td>\n",
       "    </tr>\n",
       "    <tr>\n",
       "      <th>4978</th>\n",
       "      <td>30570</td>\n",
       "      <td>1</td>\n",
       "    </tr>\n",
       "    <tr>\n",
       "      <th>4979</th>\n",
       "      <td>30584</td>\n",
       "      <td>1</td>\n",
       "    </tr>\n",
       "    <tr>\n",
       "      <th>4980</th>\n",
       "      <td>30594</td>\n",
       "      <td>1</td>\n",
       "    </tr>\n",
       "    <tr>\n",
       "      <th>4981</th>\n",
       "      <td>30614</td>\n",
       "      <td>1</td>\n",
       "    </tr>\n",
       "    <tr>\n",
       "      <th>4982</th>\n",
       "      <td>30617</td>\n",
       "      <td>0</td>\n",
       "    </tr>\n",
       "    <tr>\n",
       "      <th>4983</th>\n",
       "      <td>30618</td>\n",
       "      <td>1</td>\n",
       "    </tr>\n",
       "    <tr>\n",
       "      <th>4984</th>\n",
       "      <td>30631</td>\n",
       "      <td>0</td>\n",
       "    </tr>\n",
       "    <tr>\n",
       "      <th>4985</th>\n",
       "      <td>30632</td>\n",
       "      <td>0</td>\n",
       "    </tr>\n",
       "    <tr>\n",
       "      <th>4986</th>\n",
       "      <td>30634</td>\n",
       "      <td>1</td>\n",
       "    </tr>\n",
       "    <tr>\n",
       "      <th>4987</th>\n",
       "      <td>30636</td>\n",
       "      <td>0</td>\n",
       "    </tr>\n",
       "    <tr>\n",
       "      <th>4988</th>\n",
       "      <td>30637</td>\n",
       "      <td>0</td>\n",
       "    </tr>\n",
       "    <tr>\n",
       "      <th>4989</th>\n",
       "      <td>30639</td>\n",
       "      <td>0</td>\n",
       "    </tr>\n",
       "    <tr>\n",
       "      <th>4990</th>\n",
       "      <td>30647</td>\n",
       "      <td>0</td>\n",
       "    </tr>\n",
       "    <tr>\n",
       "      <th>4991</th>\n",
       "      <td>30649</td>\n",
       "      <td>1</td>\n",
       "    </tr>\n",
       "    <tr>\n",
       "      <th>4992</th>\n",
       "      <td>30656</td>\n",
       "      <td>0</td>\n",
       "    </tr>\n",
       "    <tr>\n",
       "      <th>4993</th>\n",
       "      <td>30660</td>\n",
       "      <td>0</td>\n",
       "    </tr>\n",
       "    <tr>\n",
       "      <th>4994</th>\n",
       "      <td>30665</td>\n",
       "      <td>0</td>\n",
       "    </tr>\n",
       "    <tr>\n",
       "      <th>4995</th>\n",
       "      <td>30669</td>\n",
       "      <td>0</td>\n",
       "    </tr>\n",
       "    <tr>\n",
       "      <th>4996</th>\n",
       "      <td>30681</td>\n",
       "      <td>0</td>\n",
       "    </tr>\n",
       "    <tr>\n",
       "      <th>4997</th>\n",
       "      <td>30683</td>\n",
       "      <td>0</td>\n",
       "    </tr>\n",
       "    <tr>\n",
       "      <th>4998</th>\n",
       "      <td>30687</td>\n",
       "      <td>1</td>\n",
       "    </tr>\n",
       "    <tr>\n",
       "      <th>4999</th>\n",
       "      <td>30694</td>\n",
       "      <td>1</td>\n",
       "    </tr>\n",
       "  </tbody>\n",
       "</table>\n",
       "<p>5000 rows × 2 columns</p>\n",
       "</div>"
      ],
      "text/plain": [
       "      shot_id  shot_made_flag\n",
       "0           1               0\n",
       "1           8               0\n",
       "2          17               1\n",
       "3          20               1\n",
       "4          33               0\n",
       "5          34               1\n",
       "6          35               0\n",
       "7          36               1\n",
       "8          37               0\n",
       "9          38               0\n",
       "10         45               0\n",
       "11         50               0\n",
       "12         55               0\n",
       "13         60               0\n",
       "14         66               0\n",
       "15         67               0\n",
       "16         71               0\n",
       "17         80               0\n",
       "18         85               0\n",
       "19         86               1\n",
       "20         95               1\n",
       "21        104               0\n",
       "22        113               0\n",
       "23        123               0\n",
       "24        126               1\n",
       "25        133               0\n",
       "26        141               0\n",
       "27        144               1\n",
       "28        150               0\n",
       "29        152               0\n",
       "...       ...             ...\n",
       "4970    30513               1\n",
       "4971    30516               0\n",
       "4972    30520               0\n",
       "4973    30531               1\n",
       "4974    30542               1\n",
       "4975    30555               0\n",
       "4976    30557               1\n",
       "4977    30568               0\n",
       "4978    30570               1\n",
       "4979    30584               1\n",
       "4980    30594               1\n",
       "4981    30614               1\n",
       "4982    30617               0\n",
       "4983    30618               1\n",
       "4984    30631               0\n",
       "4985    30632               0\n",
       "4986    30634               1\n",
       "4987    30636               0\n",
       "4988    30637               0\n",
       "4989    30639               0\n",
       "4990    30647               0\n",
       "4991    30649               1\n",
       "4992    30656               0\n",
       "4993    30660               0\n",
       "4994    30665               0\n",
       "4995    30669               0\n",
       "4996    30681               0\n",
       "4997    30683               0\n",
       "4998    30687               1\n",
       "4999    30694               1\n",
       "\n",
       "[5000 rows x 2 columns]"
      ]
     },
     "execution_count": 83,
     "metadata": {},
     "output_type": "execute_result"
    }
   ],
   "source": [
    "result['shot_made_flag'].value_counts"
   ]
  },
  {
   "cell_type": "code",
   "execution_count": 4,
   "metadata": {},
   "outputs": [],
   "source": [
    "filename= \"./result.csv\"\n",
    "result = pd.read_csv(filename)"
   ]
  },
  {
   "cell_type": "code",
   "execution_count": 6,
   "metadata": {},
   "outputs": [
    {
     "data": {
      "text/plain": [
       "0    3347\n",
       "1    1653\n",
       "Name: shot_made_flag, dtype: int64"
      ]
     },
     "execution_count": 6,
     "metadata": {},
     "output_type": "execute_result"
    }
   ],
   "source": []
  },
  {
   "cell_type": "code",
   "execution_count": 7,
   "metadata": {},
   "outputs": [
    {
     "data": {
      "text/plain": [
       "0.0    14232\n",
       "1.0    11465\n",
       "Name: shot_made_flag, dtype: int64"
      ]
     },
     "execution_count": 7,
     "metadata": {},
     "output_type": "execute_result"
    }
   ],
   "source": [
    "raw['shot_made_flag'].value_counts()"
   ]
  },
  {
   "cell_type": "code",
   "execution_count": null,
   "metadata": {},
   "outputs": [],
   "source": []
  }
 ],
 "metadata": {
  "kernelspec": {
   "display_name": "Python 3",
   "language": "python",
   "name": "python3"
  },
  "language_info": {
   "codemirror_mode": {
    "name": "ipython",
    "version": 3
   },
   "file_extension": ".py",
   "mimetype": "text/x-python",
   "name": "python",
   "nbconvert_exporter": "python",
   "pygments_lexer": "ipython3",
   "version": "3.7.3"
  }
 },
 "nbformat": 4,
 "nbformat_minor": 2
}
