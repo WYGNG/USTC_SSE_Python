{
 "cells": [
  {
   "cell_type": "markdown",
   "metadata": {},
   "source": [
    "## 哔哩哔哩番剧数据分析-1"
   ]
  },
  {
   "cell_type": "code",
   "execution_count": 1,
   "metadata": {},
   "outputs": [],
   "source": [
    "import pandas as pd\n",
    "import csv"
   ]
  },
  {
   "cell_type": "markdown",
   "metadata": {},
   "source": [
    "### 1.导入数据"
   ]
  },
  {
   "cell_type": "code",
   "execution_count": 2,
   "metadata": {
    "scrolled": true
   },
   "outputs": [],
   "source": [
    "# csv file path\n",
    "csv_file_path = './bilibili.csv'\n",
    "# create a DataFrame\n",
    "data = pd.read_csv(csv_file_path)"
   ]
  },
  {
   "cell_type": "markdown",
   "metadata": {},
   "source": [
    "### 2.审阅数据"
   ]
  },
  {
   "cell_type": "code",
   "execution_count": 3,
   "metadata": {},
   "outputs": [
    {
     "data": {
      "text/html": [
       "<div>\n",
       "<style scoped>\n",
       "    .dataframe tbody tr th:only-of-type {\n",
       "        vertical-align: middle;\n",
       "    }\n",
       "\n",
       "    .dataframe tbody tr th {\n",
       "        vertical-align: top;\n",
       "    }\n",
       "\n",
       "    .dataframe thead th {\n",
       "        text-align: right;\n",
       "    }\n",
       "</style>\n",
       "<table border=\"1\" class=\"dataframe\">\n",
       "  <thead>\n",
       "    <tr style=\"text-align: right;\">\n",
       "      <th></th>\n",
       "      <th>season_id</th>\n",
       "      <th>media_id</th>\n",
       "      <th>title</th>\n",
       "      <th>index_show</th>\n",
       "      <th>is_finish</th>\n",
       "      <th>video_link</th>\n",
       "      <th>cover</th>\n",
       "      <th>pub_real_time</th>\n",
       "      <th>renewal_time</th>\n",
       "      <th>favorites</th>\n",
       "      <th>coins</th>\n",
       "      <th>views</th>\n",
       "      <th>danmakus</th>\n",
       "      <th>depth</th>\n",
       "      <th>download_timeout</th>\n",
       "      <th>download_slot</th>\n",
       "      <th>download_latency</th>\n",
       "      <th>media_tags</th>\n",
       "      <th>score</th>\n",
       "      <th>cm_count</th>\n",
       "    </tr>\n",
       "  </thead>\n",
       "  <tbody>\n",
       "    <tr>\n",
       "      <td>0</td>\n",
       "      <td>6312</td>\n",
       "      <td>6312</td>\n",
       "      <td>徒然喜欢你</td>\n",
       "      <td>全12话</td>\n",
       "      <td>1</td>\n",
       "      <td>https://www.bilibili.com/bangumi/play/ss6312</td>\n",
       "      <td>http://i0.hdslb.com/bfs/bangumi/716297d3ec59a0...</td>\n",
       "      <td>1499097600</td>\n",
       "      <td>1505831400</td>\n",
       "      <td>3558734</td>\n",
       "      <td>431229</td>\n",
       "      <td>82208552</td>\n",
       "      <td>2133541</td>\n",
       "      <td>2</td>\n",
       "      <td>180.0</td>\n",
       "      <td>www.bilibili.com</td>\n",
       "      <td>0.108678</td>\n",
       "      <td>['恋爱', '校园', '漫画改', '搞笑', '日常', '声控']</td>\n",
       "      <td>9.6</td>\n",
       "      <td>22235人评</td>\n",
       "    </tr>\n",
       "    <tr>\n",
       "      <td>1</td>\n",
       "      <td>24625</td>\n",
       "      <td>102792</td>\n",
       "      <td>Angels of Death</td>\n",
       "      <td>全16话</td>\n",
       "      <td>1</td>\n",
       "      <td>https://www.bilibili.com/bangumi/play/ss24625</td>\n",
       "      <td>http://i0.hdslb.com/bfs/bangumi/0f11dfac18d744...</td>\n",
       "      <td>1530806400</td>\n",
       "      <td>1540566000</td>\n",
       "      <td>3838468</td>\n",
       "      <td>482165</td>\n",
       "      <td>87398650</td>\n",
       "      <td>2695540</td>\n",
       "      <td>2</td>\n",
       "      <td>180.0</td>\n",
       "      <td>www.bilibili.com</td>\n",
       "      <td>0.048264</td>\n",
       "      <td>['恋爱', '推理', '游戏改', '冒险']</td>\n",
       "      <td>9.6</td>\n",
       "      <td>42162人评</td>\n",
       "    </tr>\n",
       "    <tr>\n",
       "      <td>2</td>\n",
       "      <td>6446</td>\n",
       "      <td>6446</td>\n",
       "      <td>干物妹！小埋R</td>\n",
       "      <td>全12话</td>\n",
       "      <td>1</td>\n",
       "      <td>https://www.bilibili.com/bangumi/play/ss6446</td>\n",
       "      <td>http://i0.hdslb.com/bfs/bangumi/e4edc4b821e928...</td>\n",
       "      <td>1507392000</td>\n",
       "      <td>1514129399</td>\n",
       "      <td>3911659</td>\n",
       "      <td>452858</td>\n",
       "      <td>102659185</td>\n",
       "      <td>3190601</td>\n",
       "      <td>2</td>\n",
       "      <td>180.0</td>\n",
       "      <td>www.bilibili.com</td>\n",
       "      <td>0.222666</td>\n",
       "      <td>['萌系', '搞笑', '日常', '漫画改']</td>\n",
       "      <td>9.4</td>\n",
       "      <td>29521人评</td>\n",
       "    </tr>\n",
       "    <tr>\n",
       "      <td>3</td>\n",
       "      <td>21466</td>\n",
       "      <td>8792</td>\n",
       "      <td>OVERLORDⅡ</td>\n",
       "      <td>全13话</td>\n",
       "      <td>1</td>\n",
       "      <td>https://www.bilibili.com/bangumi/play/ss21466</td>\n",
       "      <td>http://i0.hdslb.com/bfs/bangumi/851f979c8ebcc7...</td>\n",
       "      <td>1515427200</td>\n",
       "      <td>1522767600</td>\n",
       "      <td>3954400</td>\n",
       "      <td>635263</td>\n",
       "      <td>193861261</td>\n",
       "      <td>2922407</td>\n",
       "      <td>2</td>\n",
       "      <td>180.0</td>\n",
       "      <td>www.bilibili.com</td>\n",
       "      <td>0.052136</td>\n",
       "      <td>['小说改', '奇幻', '战斗', '魔法', '架空', '穿越']</td>\n",
       "      <td>9.6</td>\n",
       "      <td>58505人评</td>\n",
       "    </tr>\n",
       "    <tr>\n",
       "      <td>4</td>\n",
       "      <td>25510</td>\n",
       "      <td>130412</td>\n",
       "      <td>刀剑神域 Alicization</td>\n",
       "      <td>全24话</td>\n",
       "      <td>1</td>\n",
       "      <td>https://www.bilibili.com/bangumi/play/ss25510</td>\n",
       "      <td>http://i0.hdslb.com/bfs/bangumi/4d9f43eb3dba57...</td>\n",
       "      <td>1538841600</td>\n",
       "      <td>1553963400</td>\n",
       "      <td>3976659</td>\n",
       "      <td>960553</td>\n",
       "      <td>131914751</td>\n",
       "      <td>2567173</td>\n",
       "      <td>2</td>\n",
       "      <td>180.0</td>\n",
       "      <td>www.bilibili.com</td>\n",
       "      <td>0.164423</td>\n",
       "      <td>['小说改', '热血', '奇幻', '战斗', '励志', '架空', '穿越', '冒险']</td>\n",
       "      <td>8.3</td>\n",
       "      <td>72987人评</td>\n",
       "    </tr>\n",
       "  </tbody>\n",
       "</table>\n",
       "</div>"
      ],
      "text/plain": [
       "   season_id  media_id             title index_show  is_finish  \\\n",
       "0       6312      6312             徒然喜欢你       全12话          1   \n",
       "1      24625    102792   Angels of Death       全16话          1   \n",
       "2       6446      6446           干物妹！小埋R       全12话          1   \n",
       "3      21466      8792         OVERLORDⅡ       全13话          1   \n",
       "4      25510    130412  刀剑神域 Alicization       全24话          1   \n",
       "\n",
       "                                      video_link  \\\n",
       "0   https://www.bilibili.com/bangumi/play/ss6312   \n",
       "1  https://www.bilibili.com/bangumi/play/ss24625   \n",
       "2   https://www.bilibili.com/bangumi/play/ss6446   \n",
       "3  https://www.bilibili.com/bangumi/play/ss21466   \n",
       "4  https://www.bilibili.com/bangumi/play/ss25510   \n",
       "\n",
       "                                               cover  pub_real_time  \\\n",
       "0  http://i0.hdslb.com/bfs/bangumi/716297d3ec59a0...     1499097600   \n",
       "1  http://i0.hdslb.com/bfs/bangumi/0f11dfac18d744...     1530806400   \n",
       "2  http://i0.hdslb.com/bfs/bangumi/e4edc4b821e928...     1507392000   \n",
       "3  http://i0.hdslb.com/bfs/bangumi/851f979c8ebcc7...     1515427200   \n",
       "4  http://i0.hdslb.com/bfs/bangumi/4d9f43eb3dba57...     1538841600   \n",
       "\n",
       "   renewal_time  favorites   coins      views  danmakus  depth  \\\n",
       "0    1505831400    3558734  431229   82208552   2133541      2   \n",
       "1    1540566000    3838468  482165   87398650   2695540      2   \n",
       "2    1514129399    3911659  452858  102659185   3190601      2   \n",
       "3    1522767600    3954400  635263  193861261   2922407      2   \n",
       "4    1553963400    3976659  960553  131914751   2567173      2   \n",
       "\n",
       "   download_timeout     download_slot  download_latency  \\\n",
       "0             180.0  www.bilibili.com          0.108678   \n",
       "1             180.0  www.bilibili.com          0.048264   \n",
       "2             180.0  www.bilibili.com          0.222666   \n",
       "3             180.0  www.bilibili.com          0.052136   \n",
       "4             180.0  www.bilibili.com          0.164423   \n",
       "\n",
       "                                          media_tags  score cm_count  \n",
       "0              ['恋爱', '校园', '漫画改', '搞笑', '日常', '声控']    9.6  22235人评  \n",
       "1                          ['恋爱', '推理', '游戏改', '冒险']    9.6  42162人评  \n",
       "2                          ['萌系', '搞笑', '日常', '漫画改']    9.4  29521人评  \n",
       "3              ['小说改', '奇幻', '战斗', '魔法', '架空', '穿越']    9.6  58505人评  \n",
       "4  ['小说改', '热血', '奇幻', '战斗', '励志', '架空', '穿越', '冒险']    8.3  72987人评  "
      ]
     },
     "execution_count": 3,
     "metadata": {},
     "output_type": "execute_result"
    }
   ],
   "source": [
    "data.head()"
   ]
  },
  {
   "cell_type": "code",
   "execution_count": 4,
   "metadata": {},
   "outputs": [
    {
     "data": {
      "text/plain": [
       "1337"
      ]
     },
     "execution_count": 4,
     "metadata": {},
     "output_type": "execute_result"
    }
   ],
   "source": [
    "len(data)"
   ]
  },
  {
   "cell_type": "code",
   "execution_count": 5,
   "metadata": {},
   "outputs": [
    {
     "data": {
      "text/plain": [
       "(1337, 20)"
      ]
     },
     "execution_count": 5,
     "metadata": {},
     "output_type": "execute_result"
    }
   ],
   "source": [
    "data.shape"
   ]
  },
  {
   "cell_type": "code",
   "execution_count": 6,
   "metadata": {},
   "outputs": [
    {
     "data": {
      "text/plain": [
       "season_id             int64\n",
       "media_id              int64\n",
       "title                object\n",
       "index_show           object\n",
       "is_finish             int64\n",
       "video_link           object\n",
       "cover                object\n",
       "pub_real_time         int64\n",
       "renewal_time          int64\n",
       "favorites             int64\n",
       "coins                 int64\n",
       "views                 int64\n",
       "danmakus              int64\n",
       "depth                 int64\n",
       "download_timeout    float64\n",
       "download_slot        object\n",
       "download_latency    float64\n",
       "media_tags           object\n",
       "score               float64\n",
       "cm_count             object\n",
       "dtype: object"
      ]
     },
     "execution_count": 6,
     "metadata": {},
     "output_type": "execute_result"
    }
   ],
   "source": [
    "data.dtypes"
   ]
  },
  {
   "cell_type": "code",
   "execution_count": 7,
   "metadata": {
    "scrolled": true
   },
   "outputs": [
    {
     "data": {
      "text/plain": [
       "['season_id',\n",
       " 'media_id',\n",
       " 'title',\n",
       " 'index_show',\n",
       " 'is_finish',\n",
       " 'video_link',\n",
       " 'cover',\n",
       " 'pub_real_time',\n",
       " 'renewal_time',\n",
       " 'favorites',\n",
       " 'coins',\n",
       " 'views',\n",
       " 'danmakus',\n",
       " 'depth',\n",
       " 'download_timeout',\n",
       " 'download_slot',\n",
       " 'download_latency',\n",
       " 'media_tags',\n",
       " 'score',\n",
       " 'cm_count']"
      ]
     },
     "execution_count": 7,
     "metadata": {},
     "output_type": "execute_result"
    }
   ],
   "source": [
    "data.columns.tolist()"
   ]
  },
  {
   "cell_type": "code",
   "execution_count": 8,
   "metadata": {},
   "outputs": [
    {
     "data": {
      "text/html": [
       "<div>\n",
       "<style scoped>\n",
       "    .dataframe tbody tr th:only-of-type {\n",
       "        vertical-align: middle;\n",
       "    }\n",
       "\n",
       "    .dataframe tbody tr th {\n",
       "        vertical-align: top;\n",
       "    }\n",
       "\n",
       "    .dataframe thead th {\n",
       "        text-align: right;\n",
       "    }\n",
       "</style>\n",
       "<table border=\"1\" class=\"dataframe\">\n",
       "  <thead>\n",
       "    <tr style=\"text-align: right;\">\n",
       "      <th></th>\n",
       "      <th>count</th>\n",
       "      <th>mean</th>\n",
       "      <th>std</th>\n",
       "      <th>min</th>\n",
       "      <th>25%</th>\n",
       "      <th>50%</th>\n",
       "      <th>75%</th>\n",
       "      <th>max</th>\n",
       "    </tr>\n",
       "  </thead>\n",
       "  <tbody>\n",
       "    <tr>\n",
       "      <td>season_id</td>\n",
       "      <td>1337.0</td>\n",
       "      <td>7.445153e+03</td>\n",
       "      <td>9.153350e+03</td>\n",
       "      <td>7.000000e+00</td>\n",
       "      <td>1.715000e+03</td>\n",
       "      <td>3.486000e+03</td>\n",
       "      <td>6.042000e+03</td>\n",
       "      <td>2.896000e+04</td>\n",
       "    </tr>\n",
       "    <tr>\n",
       "      <td>media_id</td>\n",
       "      <td>1337.0</td>\n",
       "      <td>2.404165e+06</td>\n",
       "      <td>7.534039e+06</td>\n",
       "      <td>7.000000e+00</td>\n",
       "      <td>1.778000e+03</td>\n",
       "      <td>3.673000e+03</td>\n",
       "      <td>8.672000e+03</td>\n",
       "      <td>2.822347e+07</td>\n",
       "    </tr>\n",
       "    <tr>\n",
       "      <td>is_finish</td>\n",
       "      <td>1337.0</td>\n",
       "      <td>9.655946e-01</td>\n",
       "      <td>1.823363e-01</td>\n",
       "      <td>0.000000e+00</td>\n",
       "      <td>1.000000e+00</td>\n",
       "      <td>1.000000e+00</td>\n",
       "      <td>1.000000e+00</td>\n",
       "      <td>1.000000e+00</td>\n",
       "    </tr>\n",
       "    <tr>\n",
       "      <td>pub_real_time</td>\n",
       "      <td>1337.0</td>\n",
       "      <td>1.322476e+09</td>\n",
       "      <td>2.405633e+08</td>\n",
       "      <td>-1.297670e+09</td>\n",
       "      <td>1.223482e+09</td>\n",
       "      <td>1.381162e+09</td>\n",
       "      <td>1.477066e+09</td>\n",
       "      <td>1.573229e+09</td>\n",
       "    </tr>\n",
       "    <tr>\n",
       "      <td>renewal_time</td>\n",
       "      <td>1337.0</td>\n",
       "      <td>1.457257e+09</td>\n",
       "      <td>8.039249e+07</td>\n",
       "      <td>1.257786e+09</td>\n",
       "      <td>1.418917e+09</td>\n",
       "      <td>1.465872e+09</td>\n",
       "      <td>1.522060e+09</td>\n",
       "      <td>1.573402e+09</td>\n",
       "    </tr>\n",
       "    <tr>\n",
       "      <td>favorites</td>\n",
       "      <td>1337.0</td>\n",
       "      <td>3.648062e+05</td>\n",
       "      <td>6.476820e+05</td>\n",
       "      <td>3.486000e+03</td>\n",
       "      <td>4.317700e+04</td>\n",
       "      <td>1.201780e+05</td>\n",
       "      <td>3.590620e+05</td>\n",
       "      <td>5.017344e+06</td>\n",
       "    </tr>\n",
       "    <tr>\n",
       "      <td>coins</td>\n",
       "      <td>1337.0</td>\n",
       "      <td>3.090961e+04</td>\n",
       "      <td>9.914147e+04</td>\n",
       "      <td>2.100000e+01</td>\n",
       "      <td>1.127000e+03</td>\n",
       "      <td>3.856000e+03</td>\n",
       "      <td>1.741100e+04</td>\n",
       "      <td>1.171601e+06</td>\n",
       "    </tr>\n",
       "    <tr>\n",
       "      <td>views</td>\n",
       "      <td>1337.0</td>\n",
       "      <td>8.067780e+06</td>\n",
       "      <td>2.063168e+07</td>\n",
       "      <td>1.452700e+04</td>\n",
       "      <td>4.969550e+05</td>\n",
       "      <td>1.644174e+06</td>\n",
       "      <td>6.081466e+06</td>\n",
       "      <td>2.087380e+08</td>\n",
       "    </tr>\n",
       "    <tr>\n",
       "      <td>danmakus</td>\n",
       "      <td>1337.0</td>\n",
       "      <td>2.277813e+05</td>\n",
       "      <td>6.056559e+05</td>\n",
       "      <td>1.800000e+01</td>\n",
       "      <td>1.078500e+04</td>\n",
       "      <td>3.523500e+04</td>\n",
       "      <td>1.658940e+05</td>\n",
       "      <td>1.046499e+07</td>\n",
       "    </tr>\n",
       "    <tr>\n",
       "      <td>depth</td>\n",
       "      <td>1337.0</td>\n",
       "      <td>4.901571e+01</td>\n",
       "      <td>2.985886e+01</td>\n",
       "      <td>2.000000e+00</td>\n",
       "      <td>2.400000e+01</td>\n",
       "      <td>4.700000e+01</td>\n",
       "      <td>7.000000e+01</td>\n",
       "      <td>1.320000e+02</td>\n",
       "    </tr>\n",
       "    <tr>\n",
       "      <td>download_timeout</td>\n",
       "      <td>1337.0</td>\n",
       "      <td>1.800000e+02</td>\n",
       "      <td>0.000000e+00</td>\n",
       "      <td>1.800000e+02</td>\n",
       "      <td>1.800000e+02</td>\n",
       "      <td>1.800000e+02</td>\n",
       "      <td>1.800000e+02</td>\n",
       "      <td>1.800000e+02</td>\n",
       "    </tr>\n",
       "    <tr>\n",
       "      <td>download_latency</td>\n",
       "      <td>1337.0</td>\n",
       "      <td>6.793336e-02</td>\n",
       "      <td>4.183369e-02</td>\n",
       "      <td>4.020524e-02</td>\n",
       "      <td>4.756880e-02</td>\n",
       "      <td>5.094004e-02</td>\n",
       "      <td>5.976605e-02</td>\n",
       "      <td>3.852611e-01</td>\n",
       "    </tr>\n",
       "    <tr>\n",
       "      <td>score</td>\n",
       "      <td>1337.0</td>\n",
       "      <td>9.268886e+00</td>\n",
       "      <td>7.576978e-01</td>\n",
       "      <td>2.300000e+00</td>\n",
       "      <td>9.200000e+00</td>\n",
       "      <td>9.500000e+00</td>\n",
       "      <td>9.700000e+00</td>\n",
       "      <td>9.900000e+00</td>\n",
       "    </tr>\n",
       "  </tbody>\n",
       "</table>\n",
       "</div>"
      ],
      "text/plain": [
       "                   count          mean           std           min  \\\n",
       "season_id         1337.0  7.445153e+03  9.153350e+03  7.000000e+00   \n",
       "media_id          1337.0  2.404165e+06  7.534039e+06  7.000000e+00   \n",
       "is_finish         1337.0  9.655946e-01  1.823363e-01  0.000000e+00   \n",
       "pub_real_time     1337.0  1.322476e+09  2.405633e+08 -1.297670e+09   \n",
       "renewal_time      1337.0  1.457257e+09  8.039249e+07  1.257786e+09   \n",
       "favorites         1337.0  3.648062e+05  6.476820e+05  3.486000e+03   \n",
       "coins             1337.0  3.090961e+04  9.914147e+04  2.100000e+01   \n",
       "views             1337.0  8.067780e+06  2.063168e+07  1.452700e+04   \n",
       "danmakus          1337.0  2.277813e+05  6.056559e+05  1.800000e+01   \n",
       "depth             1337.0  4.901571e+01  2.985886e+01  2.000000e+00   \n",
       "download_timeout  1337.0  1.800000e+02  0.000000e+00  1.800000e+02   \n",
       "download_latency  1337.0  6.793336e-02  4.183369e-02  4.020524e-02   \n",
       "score             1337.0  9.268886e+00  7.576978e-01  2.300000e+00   \n",
       "\n",
       "                           25%           50%           75%           max  \n",
       "season_id         1.715000e+03  3.486000e+03  6.042000e+03  2.896000e+04  \n",
       "media_id          1.778000e+03  3.673000e+03  8.672000e+03  2.822347e+07  \n",
       "is_finish         1.000000e+00  1.000000e+00  1.000000e+00  1.000000e+00  \n",
       "pub_real_time     1.223482e+09  1.381162e+09  1.477066e+09  1.573229e+09  \n",
       "renewal_time      1.418917e+09  1.465872e+09  1.522060e+09  1.573402e+09  \n",
       "favorites         4.317700e+04  1.201780e+05  3.590620e+05  5.017344e+06  \n",
       "coins             1.127000e+03  3.856000e+03  1.741100e+04  1.171601e+06  \n",
       "views             4.969550e+05  1.644174e+06  6.081466e+06  2.087380e+08  \n",
       "danmakus          1.078500e+04  3.523500e+04  1.658940e+05  1.046499e+07  \n",
       "depth             2.400000e+01  4.700000e+01  7.000000e+01  1.320000e+02  \n",
       "download_timeout  1.800000e+02  1.800000e+02  1.800000e+02  1.800000e+02  \n",
       "download_latency  4.756880e-02  5.094004e-02  5.976605e-02  3.852611e-01  \n",
       "score             9.200000e+00  9.500000e+00  9.700000e+00  9.900000e+00  "
      ]
     },
     "execution_count": 8,
     "metadata": {},
     "output_type": "execute_result"
    }
   ],
   "source": [
    "data.describe().T"
   ]
  },
  {
   "cell_type": "markdown",
   "metadata": {},
   "source": [
    "### 3.数据预处理"
   ]
  },
  {
   "cell_type": "markdown",
   "metadata": {},
   "source": [
    "数据集成->数据清洗->数据变换->数据精简"
   ]
  },
  {
   "cell_type": "markdown",
   "metadata": {},
   "source": [
    " 数据清洗-1.字符串处理-2.数据类型处理-3.缺失值处理-4.重复值处理-5.异常值处理-6.多余行/多余列删除"
   ]
  },
  {
   "cell_type": "markdown",
   "metadata": {},
   "source": [
    "6.多余行/多余列删除(DataFrame指定列筛选或者groupby生成的groupby对象没有做任何计算，只是将数据按键进行分组)"
   ]
  },
  {
   "cell_type": "code",
   "execution_count": 9,
   "metadata": {},
   "outputs": [],
   "source": [
    "valuable_cols = ['media_id', 'favorites', 'coins', 'views', 'danmakus', 'media_tags', 'score', 'cm_count']\n",
    "valuable_no_media_id_cols = ['favorites', 'coins', 'views', 'danmakus', 'media_tags', 'score', 'cm_count']"
   ]
  },
  {
   "cell_type": "code",
   "execution_count": 10,
   "metadata": {},
   "outputs": [
    {
     "data": {
      "text/html": [
       "<div>\n",
       "<style scoped>\n",
       "    .dataframe tbody tr th:only-of-type {\n",
       "        vertical-align: middle;\n",
       "    }\n",
       "\n",
       "    .dataframe tbody tr th {\n",
       "        vertical-align: top;\n",
       "    }\n",
       "\n",
       "    .dataframe thead th {\n",
       "        text-align: right;\n",
       "    }\n",
       "</style>\n",
       "<table border=\"1\" class=\"dataframe\">\n",
       "  <thead>\n",
       "    <tr style=\"text-align: right;\">\n",
       "      <th></th>\n",
       "      <th>media_id</th>\n",
       "      <th>favorites</th>\n",
       "      <th>coins</th>\n",
       "      <th>views</th>\n",
       "      <th>danmakus</th>\n",
       "      <th>media_tags</th>\n",
       "      <th>score</th>\n",
       "      <th>cm_count</th>\n",
       "    </tr>\n",
       "  </thead>\n",
       "  <tbody>\n",
       "    <tr>\n",
       "      <td>0</td>\n",
       "      <td>6312</td>\n",
       "      <td>3558734</td>\n",
       "      <td>431229</td>\n",
       "      <td>82208552</td>\n",
       "      <td>2133541</td>\n",
       "      <td>['恋爱', '校园', '漫画改', '搞笑', '日常', '声控']</td>\n",
       "      <td>9.6</td>\n",
       "      <td>22235人评</td>\n",
       "    </tr>\n",
       "    <tr>\n",
       "      <td>1</td>\n",
       "      <td>102792</td>\n",
       "      <td>3838468</td>\n",
       "      <td>482165</td>\n",
       "      <td>87398650</td>\n",
       "      <td>2695540</td>\n",
       "      <td>['恋爱', '推理', '游戏改', '冒险']</td>\n",
       "      <td>9.6</td>\n",
       "      <td>42162人评</td>\n",
       "    </tr>\n",
       "    <tr>\n",
       "      <td>2</td>\n",
       "      <td>6446</td>\n",
       "      <td>3911659</td>\n",
       "      <td>452858</td>\n",
       "      <td>102659185</td>\n",
       "      <td>3190601</td>\n",
       "      <td>['萌系', '搞笑', '日常', '漫画改']</td>\n",
       "      <td>9.4</td>\n",
       "      <td>29521人评</td>\n",
       "    </tr>\n",
       "    <tr>\n",
       "      <td>3</td>\n",
       "      <td>8792</td>\n",
       "      <td>3954400</td>\n",
       "      <td>635263</td>\n",
       "      <td>193861261</td>\n",
       "      <td>2922407</td>\n",
       "      <td>['小说改', '奇幻', '战斗', '魔法', '架空', '穿越']</td>\n",
       "      <td>9.6</td>\n",
       "      <td>58505人评</td>\n",
       "    </tr>\n",
       "    <tr>\n",
       "      <td>4</td>\n",
       "      <td>130412</td>\n",
       "      <td>3976659</td>\n",
       "      <td>960553</td>\n",
       "      <td>131914751</td>\n",
       "      <td>2567173</td>\n",
       "      <td>['小说改', '热血', '奇幻', '战斗', '励志', '架空', '穿越', '冒险']</td>\n",
       "      <td>8.3</td>\n",
       "      <td>72987人评</td>\n",
       "    </tr>\n",
       "  </tbody>\n",
       "</table>\n",
       "</div>"
      ],
      "text/plain": [
       "   media_id  favorites   coins      views  danmakus  \\\n",
       "0      6312    3558734  431229   82208552   2133541   \n",
       "1    102792    3838468  482165   87398650   2695540   \n",
       "2      6446    3911659  452858  102659185   3190601   \n",
       "3      8792    3954400  635263  193861261   2922407   \n",
       "4    130412    3976659  960553  131914751   2567173   \n",
       "\n",
       "                                          media_tags  score cm_count  \n",
       "0              ['恋爱', '校园', '漫画改', '搞笑', '日常', '声控']    9.6  22235人评  \n",
       "1                          ['恋爱', '推理', '游戏改', '冒险']    9.6  42162人评  \n",
       "2                          ['萌系', '搞笑', '日常', '漫画改']    9.4  29521人评  \n",
       "3              ['小说改', '奇幻', '战斗', '魔法', '架空', '穿越']    9.6  58505人评  \n",
       "4  ['小说改', '热血', '奇幻', '战斗', '励志', '架空', '穿越', '冒险']    8.3  72987人评  "
      ]
     },
     "execution_count": 10,
     "metadata": {},
     "output_type": "execute_result"
    }
   ],
   "source": [
    "vdata = pd.DataFrame(data, columns=valuable_cols)\n",
    "vdata.head()"
   ]
  },
  {
   "cell_type": "markdown",
   "metadata": {},
   "source": [
    "1.字符串处理，str.extract、str.split，这里暂时不处理media tags"
   ]
  },
  {
   "cell_type": "code",
   "execution_count": 11,
   "metadata": {},
   "outputs": [
    {
     "data": {
      "text/html": [
       "<div>\n",
       "<style scoped>\n",
       "    .dataframe tbody tr th:only-of-type {\n",
       "        vertical-align: middle;\n",
       "    }\n",
       "\n",
       "    .dataframe tbody tr th {\n",
       "        vertical-align: top;\n",
       "    }\n",
       "\n",
       "    .dataframe thead th {\n",
       "        text-align: right;\n",
       "    }\n",
       "</style>\n",
       "<table border=\"1\" class=\"dataframe\">\n",
       "  <thead>\n",
       "    <tr style=\"text-align: right;\">\n",
       "      <th></th>\n",
       "      <th>media_id</th>\n",
       "      <th>favorites</th>\n",
       "      <th>coins</th>\n",
       "      <th>views</th>\n",
       "      <th>danmakus</th>\n",
       "      <th>media_tags</th>\n",
       "      <th>score</th>\n",
       "      <th>cm_count</th>\n",
       "    </tr>\n",
       "  </thead>\n",
       "  <tbody>\n",
       "    <tr>\n",
       "      <td>0</td>\n",
       "      <td>6312</td>\n",
       "      <td>3558734</td>\n",
       "      <td>431229</td>\n",
       "      <td>82208552</td>\n",
       "      <td>2133541</td>\n",
       "      <td>['恋爱', '校园', '漫画改', '搞笑', '日常', '声控']</td>\n",
       "      <td>9.6</td>\n",
       "      <td>22235</td>\n",
       "    </tr>\n",
       "    <tr>\n",
       "      <td>1</td>\n",
       "      <td>102792</td>\n",
       "      <td>3838468</td>\n",
       "      <td>482165</td>\n",
       "      <td>87398650</td>\n",
       "      <td>2695540</td>\n",
       "      <td>['恋爱', '推理', '游戏改', '冒险']</td>\n",
       "      <td>9.6</td>\n",
       "      <td>42162</td>\n",
       "    </tr>\n",
       "    <tr>\n",
       "      <td>2</td>\n",
       "      <td>6446</td>\n",
       "      <td>3911659</td>\n",
       "      <td>452858</td>\n",
       "      <td>102659185</td>\n",
       "      <td>3190601</td>\n",
       "      <td>['萌系', '搞笑', '日常', '漫画改']</td>\n",
       "      <td>9.4</td>\n",
       "      <td>29521</td>\n",
       "    </tr>\n",
       "    <tr>\n",
       "      <td>3</td>\n",
       "      <td>8792</td>\n",
       "      <td>3954400</td>\n",
       "      <td>635263</td>\n",
       "      <td>193861261</td>\n",
       "      <td>2922407</td>\n",
       "      <td>['小说改', '奇幻', '战斗', '魔法', '架空', '穿越']</td>\n",
       "      <td>9.6</td>\n",
       "      <td>58505</td>\n",
       "    </tr>\n",
       "    <tr>\n",
       "      <td>4</td>\n",
       "      <td>130412</td>\n",
       "      <td>3976659</td>\n",
       "      <td>960553</td>\n",
       "      <td>131914751</td>\n",
       "      <td>2567173</td>\n",
       "      <td>['小说改', '热血', '奇幻', '战斗', '励志', '架空', '穿越', '冒险']</td>\n",
       "      <td>8.3</td>\n",
       "      <td>72987</td>\n",
       "    </tr>\n",
       "  </tbody>\n",
       "</table>\n",
       "</div>"
      ],
      "text/plain": [
       "   media_id  favorites   coins      views  danmakus  \\\n",
       "0      6312    3558734  431229   82208552   2133541   \n",
       "1    102792    3838468  482165   87398650   2695540   \n",
       "2      6446    3911659  452858  102659185   3190601   \n",
       "3      8792    3954400  635263  193861261   2922407   \n",
       "4    130412    3976659  960553  131914751   2567173   \n",
       "\n",
       "                                          media_tags  score cm_count  \n",
       "0              ['恋爱', '校园', '漫画改', '搞笑', '日常', '声控']    9.6    22235  \n",
       "1                          ['恋爱', '推理', '游戏改', '冒险']    9.6    42162  \n",
       "2                          ['萌系', '搞笑', '日常', '漫画改']    9.4    29521  \n",
       "3              ['小说改', '奇幻', '战斗', '魔法', '架空', '穿越']    9.6    58505  \n",
       "4  ['小说改', '热血', '奇幻', '战斗', '励志', '架空', '穿越', '冒险']    8.3    72987  "
      ]
     },
     "execution_count": 11,
     "metadata": {},
     "output_type": "execute_result"
    }
   ],
   "source": [
    "# + 匹配 1 次或者多次前面出现的正则表达式 e.g.[a-z]+\\.com \n",
    "# \\d 匹配数字\n",
    "vdata['cm_count']=vdata['cm_count'].str.extract('(\\d+)')\n",
    "vdata.head()"
   ]
  },
  {
   "cell_type": "markdown",
   "metadata": {},
   "source": [
    "2.数据类型处理"
   ]
  },
  {
   "cell_type": "code",
   "execution_count": 12,
   "metadata": {},
   "outputs": [
    {
     "data": {
      "text/plain": [
       "media_id        int64\n",
       "favorites       int64\n",
       "coins           int64\n",
       "views           int64\n",
       "danmakus        int64\n",
       "media_tags     object\n",
       "score         float64\n",
       "cm_count       object\n",
       "dtype: object"
      ]
     },
     "execution_count": 12,
     "metadata": {},
     "output_type": "execute_result"
    }
   ],
   "source": [
    "vdata.dtypes"
   ]
  },
  {
   "cell_type": "code",
   "execution_count": 13,
   "metadata": {},
   "outputs": [
    {
     "data": {
      "text/plain": [
       "media_id        int64\n",
       "favorites       int64\n",
       "coins           int64\n",
       "views           int64\n",
       "danmakus        int64\n",
       "media_tags     object\n",
       "score         float64\n",
       "cm_count      float64\n",
       "dtype: object"
      ]
     },
     "execution_count": 13,
     "metadata": {},
     "output_type": "execute_result"
    }
   ],
   "source": [
    "import numpy as np\n",
    "vdata['cm_count']=vdata['cm_count'].astype(np.float64) \n",
    "vdata.dtypes"
   ]
  },
  {
   "cell_type": "markdown",
   "metadata": {},
   "source": [
    "3.缺失值处理-查看-定位-处理"
   ]
  },
  {
   "cell_type": "code",
   "execution_count": 14,
   "metadata": {},
   "outputs": [],
   "source": [
    "# vdata.isnull()"
   ]
  },
  {
   "cell_type": "code",
   "execution_count": 15,
   "metadata": {},
   "outputs": [
    {
     "data": {
      "text/plain": [
       "media_id      False\n",
       "favorites     False\n",
       "coins         False\n",
       "views         False\n",
       "danmakus      False\n",
       "media_tags    False\n",
       "score         False\n",
       "cm_count      False\n",
       "dtype: bool"
      ]
     },
     "execution_count": 15,
     "metadata": {},
     "output_type": "execute_result"
    }
   ],
   "source": [
    "# 查看哪些列有缺失值\n",
    "vdata.isnull().any()"
   ]
  },
  {
   "cell_type": "code",
   "execution_count": 16,
   "metadata": {},
   "outputs": [
    {
     "data": {
      "text/plain": [
       "<matplotlib.axes._subplots.AxesSubplot at 0x127f47ed0>"
      ]
     },
     "execution_count": 16,
     "metadata": {},
     "output_type": "execute_result"
    }
   ],
   "source": [
    "import missingno as msno\n",
    "msno.matrix(vdata,\n",
    "            figsize=(16, 7),\n",
    "            width_ratios=(15, 1))"
   ]
  },
  {
   "cell_type": "markdown",
   "metadata": {},
   "source": [
    "4.重复值处理"
   ]
  },
  {
   "cell_type": "code",
   "execution_count": 17,
   "metadata": {},
   "outputs": [
    {
     "data": {
      "text/html": [
       "<div>\n",
       "<style scoped>\n",
       "    .dataframe tbody tr th:only-of-type {\n",
       "        vertical-align: middle;\n",
       "    }\n",
       "\n",
       "    .dataframe tbody tr th {\n",
       "        vertical-align: top;\n",
       "    }\n",
       "\n",
       "    .dataframe thead th {\n",
       "        text-align: right;\n",
       "    }\n",
       "</style>\n",
       "<table border=\"1\" class=\"dataframe\">\n",
       "  <thead>\n",
       "    <tr style=\"text-align: right;\">\n",
       "      <th></th>\n",
       "      <th>media_id</th>\n",
       "      <th>favorites</th>\n",
       "      <th>coins</th>\n",
       "      <th>views</th>\n",
       "      <th>danmakus</th>\n",
       "      <th>media_tags</th>\n",
       "      <th>score</th>\n",
       "      <th>cm_count</th>\n",
       "    </tr>\n",
       "  </thead>\n",
       "  <tbody>\n",
       "  </tbody>\n",
       "</table>\n",
       "</div>"
      ],
      "text/plain": [
       "Empty DataFrame\n",
       "Columns: [media_id, favorites, coins, views, danmakus, media_tags, score, cm_count]\n",
       "Index: []"
      ]
     },
     "execution_count": 17,
     "metadata": {},
     "output_type": "execute_result"
    }
   ],
   "source": [
    "vdata[vdata.duplicated(subset=['media_id'], keep='first')]"
   ]
  },
  {
   "cell_type": "code",
   "execution_count": 18,
   "metadata": {},
   "outputs": [],
   "source": [
    "# vdata.duplicated(subset=['score'], keep='first')"
   ]
  },
  {
   "cell_type": "code",
   "execution_count": 19,
   "metadata": {},
   "outputs": [],
   "source": [
    "# test_data = vdata.drop_duplicates(subset=['score'], keep='first')\n",
    "# test_data"
   ]
  },
  {
   "cell_type": "code",
   "execution_count": 20,
   "metadata": {},
   "outputs": [],
   "source": [
    "# 文档描述nunique: return number of distinct observations per group for each column\n",
    "# 如果同个media_id下某一列有多个相同的数据，nunique还是为1\n",
    "# import pandas as pd\n",
    "# df = pd.DataFrame([{'col1':'a', 'col2':1, 'col3':'aa'}, {'col1':'b', 'col2':2, 'col3':'bb'}, {'col1':'c', 'col2':3, 'col3':'cc'}, {'col1':'a', 'col2':44, 'col3':'aa'}])\n",
    "# print df\n",
    "# # 按col1分组并按col2求和\n",
    "# print df.groupby(by='col1').agg({'col2':sum}).reset_index()\n",
    "# # 按col1分组并按col2求最值\n",
    "# print df.groupby(by='col1').agg({'col2':['max', 'min']}).reset_index()\n",
    "# # 按col1 ，col3分组并按col2求和\n",
    "# print df.groupby(by=['col1', 'col3']).agg({'col2':sum}).reset_index()\n",
    "\n",
    "# Aggregate using one or more operations over the specified axis.\n",
    "# vdata.groupby('media_id').agg({col:'nunique' for col in valuable_no_media_id_cols})"
   ]
  },
  {
   "cell_type": "code",
   "execution_count": 21,
   "metadata": {},
   "outputs": [],
   "source": [
    "# 使用reset_index可以将作为index的数据放到列上\n",
    "# vdata.groupby('media_id').agg({col:'nunique' for col in valuable_no_media_id_cols}).reset_index()"
   ]
  },
  {
   "cell_type": "code",
   "execution_count": 22,
   "metadata": {},
   "outputs": [],
   "source": [
    "# vdata = vdata.groupby('media_id').agg({col:'nunique' for col in valuable_no_media_id_cols})\n",
    "# vdata.head()"
   ]
  },
  {
   "cell_type": "code",
   "execution_count": 23,
   "metadata": {},
   "outputs": [],
   "source": [
    "# vdata[vdata<2]"
   ]
  },
  {
   "cell_type": "code",
   "execution_count": 24,
   "metadata": {},
   "outputs": [],
   "source": [
    "# 查api文档\n",
    "# Returns:DataFrame DataFrame with NA entries dropped from it.\n",
    "# 没有异常值出现\n",
    "# vdata[vdata>1].dropna().head()"
   ]
  },
  {
   "cell_type": "code",
   "execution_count": 25,
   "metadata": {},
   "outputs": [],
   "source": [
    "# vdata[vdata>1].dropna().shape[0] == 0"
   ]
  },
  {
   "cell_type": "markdown",
   "metadata": {},
   "source": [
    "5.异常值处理"
   ]
  },
  {
   "cell_type": "code",
   "execution_count": 26,
   "metadata": {},
   "outputs": [],
   "source": [
    "# three_sigma-数据要满足正态分布\n",
    "# quantile"
   ]
  },
  {
   "cell_type": "code",
   "execution_count": 27,
   "metadata": {},
   "outputs": [],
   "source": [
    "# 结合上述，将获取干净的数据写成函数\n",
    "def get_subgroup(dataframe, g_index, g_columns):\n",
    "    \"\"\"Helper function that creates a sub-table from the columns and runs a quick uniqueness test.\"\"\"\n",
    "    g = dataframe.groupby(g_index).agg({col:'nunique' for col in g_columns})\n",
    "    if g[g > 1].dropna().shape[0] != 0:\n",
    "        print(\"Warning: you probably assumed this had all unique values but it doesn't.\")\n",
    "    return dataframe.groupby(g_index).agg({col:'max' for col in g_columns})"
   ]
  },
  {
   "cell_type": "code",
   "execution_count": 28,
   "metadata": {},
   "outputs": [],
   "source": [
    "# 测试上面的函数是否ok\n",
    "# 这个怎么不会报错？？？？？media_id作为index又作为col按道理应该会有问题。。。\n",
    "# get_subgroup(data, 'media_id', valuable_cols)"
   ]
  },
  {
   "cell_type": "code",
   "execution_count": 29,
   "metadata": {},
   "outputs": [],
   "source": [
    "# 验证函数没问题\n",
    "# get_subgroup(data, 'media_id', valuable_no_media_id_cols)"
   ]
  },
  {
   "cell_type": "markdown",
   "metadata": {},
   "source": [
    "### 处理完数据后，我们将其保留在本地，尽量不留在内存空间"
   ]
  },
  {
   "cell_type": "code",
   "execution_count": 30,
   "metadata": {},
   "outputs": [],
   "source": [
    "# vdata.head()"
   ]
  },
  {
   "cell_type": "code",
   "execution_count": 31,
   "metadata": {},
   "outputs": [],
   "source": [
    "# raw_vdata = get_subgroup(vdata,'media_id',valuable_no_media_id_cols)\n",
    "# raw_vdata"
   ]
  },
  {
   "cell_type": "code",
   "execution_count": 32,
   "metadata": {},
   "outputs": [
    {
     "name": "stdout",
     "output_type": "stream",
     "text": [
      "生成csv数据成功\n"
     ]
    },
    {
     "data": {
      "text/html": [
       "<div>\n",
       "<style scoped>\n",
       "    .dataframe tbody tr th:only-of-type {\n",
       "        vertical-align: middle;\n",
       "    }\n",
       "\n",
       "    .dataframe tbody tr th {\n",
       "        vertical-align: top;\n",
       "    }\n",
       "\n",
       "    .dataframe thead th {\n",
       "        text-align: right;\n",
       "    }\n",
       "</style>\n",
       "<table border=\"1\" class=\"dataframe\">\n",
       "  <thead>\n",
       "    <tr style=\"text-align: right;\">\n",
       "      <th></th>\n",
       "      <th>media_id</th>\n",
       "      <th>favorites</th>\n",
       "      <th>coins</th>\n",
       "      <th>views</th>\n",
       "      <th>danmakus</th>\n",
       "      <th>media_tags</th>\n",
       "      <th>score</th>\n",
       "      <th>cm_count</th>\n",
       "    </tr>\n",
       "  </thead>\n",
       "  <tbody>\n",
       "    <tr>\n",
       "      <td>0</td>\n",
       "      <td>6312</td>\n",
       "      <td>3558734</td>\n",
       "      <td>431229</td>\n",
       "      <td>82208552</td>\n",
       "      <td>2133541</td>\n",
       "      <td>['恋爱', '校园', '漫画改', '搞笑', '日常', '声控']</td>\n",
       "      <td>9.6</td>\n",
       "      <td>22235.0</td>\n",
       "    </tr>\n",
       "    <tr>\n",
       "      <td>1</td>\n",
       "      <td>102792</td>\n",
       "      <td>3838468</td>\n",
       "      <td>482165</td>\n",
       "      <td>87398650</td>\n",
       "      <td>2695540</td>\n",
       "      <td>['恋爱', '推理', '游戏改', '冒险']</td>\n",
       "      <td>9.6</td>\n",
       "      <td>42162.0</td>\n",
       "    </tr>\n",
       "    <tr>\n",
       "      <td>2</td>\n",
       "      <td>6446</td>\n",
       "      <td>3911659</td>\n",
       "      <td>452858</td>\n",
       "      <td>102659185</td>\n",
       "      <td>3190601</td>\n",
       "      <td>['萌系', '搞笑', '日常', '漫画改']</td>\n",
       "      <td>9.4</td>\n",
       "      <td>29521.0</td>\n",
       "    </tr>\n",
       "    <tr>\n",
       "      <td>3</td>\n",
       "      <td>8792</td>\n",
       "      <td>3954400</td>\n",
       "      <td>635263</td>\n",
       "      <td>193861261</td>\n",
       "      <td>2922407</td>\n",
       "      <td>['小说改', '奇幻', '战斗', '魔法', '架空', '穿越']</td>\n",
       "      <td>9.6</td>\n",
       "      <td>58505.0</td>\n",
       "    </tr>\n",
       "    <tr>\n",
       "      <td>4</td>\n",
       "      <td>130412</td>\n",
       "      <td>3976659</td>\n",
       "      <td>960553</td>\n",
       "      <td>131914751</td>\n",
       "      <td>2567173</td>\n",
       "      <td>['小说改', '热血', '奇幻', '战斗', '励志', '架空', '穿越', '冒险']</td>\n",
       "      <td>8.3</td>\n",
       "      <td>72987.0</td>\n",
       "    </tr>\n",
       "  </tbody>\n",
       "</table>\n",
       "</div>"
      ],
      "text/plain": [
       "   media_id  favorites   coins      views  danmakus  \\\n",
       "0      6312    3558734  431229   82208552   2133541   \n",
       "1    102792    3838468  482165   87398650   2695540   \n",
       "2      6446    3911659  452858  102659185   3190601   \n",
       "3      8792    3954400  635263  193861261   2922407   \n",
       "4    130412    3976659  960553  131914751   2567173   \n",
       "\n",
       "                                          media_tags  score  cm_count  \n",
       "0              ['恋爱', '校园', '漫画改', '搞笑', '日常', '声控']    9.6   22235.0  \n",
       "1                          ['恋爱', '推理', '游戏改', '冒险']    9.6   42162.0  \n",
       "2                          ['萌系', '搞笑', '日常', '漫画改']    9.4   29521.0  \n",
       "3              ['小说改', '奇幻', '战斗', '魔法', '架空', '穿越']    9.6   58505.0  \n",
       "4  ['小说改', '热血', '奇幻', '战斗', '励志', '架空', '穿越', '冒险']    8.3   72987.0  "
      ]
     },
     "execution_count": 32,
     "metadata": {},
     "output_type": "execute_result"
    }
   ],
   "source": [
    "save_subgroup_filename = \"\".join(['raw_', 'bilibili', '.csv.gz'])\n",
    "vdata.to_csv(save_subgroup_filename, compression='gzip', encoding='utf-8')\n",
    "#     测试压缩的csv数据是否正确\n",
    "test_df = pd.read_csv(save_subgroup_filename, compression='gzip', index_col=0, encoding='utf-8')\n",
    "if vdata.equals(test_df):\n",
    "    print('生成csv数据成功')\n",
    "else:\n",
    "    print('Error!!!!!!!!!!!!!!')\n",
    "test_df.head()"
   ]
  },
  {
   "cell_type": "markdown",
   "metadata": {},
   "source": [
    "# END"
   ]
  },
  {
   "cell_type": "code",
   "execution_count": 215,
   "metadata": {},
   "outputs": [],
   "source": [
    "def save_subgroup(dataframe, g_index, subgroup_name, prefix='raw_'):\n",
    "    save_subgroup_filename = \"\".join([prefix, subgroup_name, '.csv.gz'])\n",
    "    dataframe.to_csv(save_subgroup_filename, compression='gzip', encoding='utf-8')\n",
    "#     测试压缩的csv数据是否正确\n",
    "    test_df = pd.read_csv(save_subgroup_filename, compression='gzip', index_col=g_index, encoding='utf-8')\n",
    "    if dataframe.equals(test_df):\n",
    "        print('生成csv数据成功')\n",
    "    else:\n",
    "        print('Error!!!!!!!!!!!!!!')"
   ]
  },
  {
   "cell_type": "code",
   "execution_count": 216,
   "metadata": {},
   "outputs": [],
   "source": [
    "# vbilibili = get_subgroup(data, 'media_id', valuable_no_media_id_cols)\n",
    "# save_subgroup(vbilibili, 'media_id', 'vbilibili')"
   ]
  },
  {
   "cell_type": "code",
   "execution_count": 20,
   "metadata": {},
   "outputs": [],
   "source": [
    "# import seaborn as sns\n",
    "# import matplotlib.pyplot as plt\n",
    "# # kendall计算的对象是分类变量，通常要求相关性系数是有序分类变量[优、良、差]，例如：用于两个或者多个评委对某几个选手的评价标准是否一致等\n",
    "# # 因此kendall不适用于此类数据\n",
    "# fig, ax = plt.subplots(figsize=(10, 8))\n",
    "# sns.heatmap(data.corr(method='spearman'),annot=True,ax=ax)"
   ]
  },
  {
   "cell_type": "code",
   "execution_count": 21,
   "metadata": {},
   "outputs": [],
   "source": [
    "# 求均值时不能直接使用mean，因为样本中有可能出现某些重复的数据。\n",
    "# 所以需要使用到groupby media_id获得每个media的score后再求平均。\n",
    "# 从结果来看，该样本并没有重复的media\n",
    "score_mean = data.groupby('media_id').score.mean()\n",
    "score_mean\n",
    "import re\n",
    "def groupby_mean(data, col):\n",
    "    try:\n",
    "        m = data.groupby('media_id')[col].mean()\n",
    "    except GroupByError:\n",
    "        m = data.groupby('media_id')[col]\n",
    "        pattern = b'[0-9]'\n",
    "        m = re.match(pattern, m)\n",
    "        if m == None:\n",
    "            return 0\n",
    "    return np.mean(m)"
   ]
  },
  {
   "cell_type": "code",
   "execution_count": null,
   "metadata": {},
   "outputs": [],
   "source": [
    "import numpy as np\n",
    "np.mean(score_mean)\n",
    "groupby_mean(data, 'favorites')"
   ]
  }
 ],
 "metadata": {
  "kernelspec": {
   "display_name": "Python 3",
   "language": "python",
   "name": "python3"
  },
  "language_info": {
   "codemirror_mode": {
    "name": "ipython",
    "version": 3
   },
   "file_extension": ".py",
   "mimetype": "text/x-python",
   "name": "python",
   "nbconvert_exporter": "python",
   "pygments_lexer": "ipython3",
   "version": "3.7.4"
  }
 },
 "nbformat": 4,
 "nbformat_minor": 2
}
