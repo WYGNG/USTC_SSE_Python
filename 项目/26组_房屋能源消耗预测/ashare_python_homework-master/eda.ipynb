{
 "cells": [
  {
   "cell_type": "code",
   "execution_count": 1,
   "metadata": {},
   "outputs": [
    {
     "data": {
      "text/html": [
       "        <script type=\"text/javascript\">\n",
       "        window.PlotlyConfig = {MathJaxConfig: 'local'};\n",
       "        if (window.MathJax) {MathJax.Hub.Config({SVG: {font: \"STIX-Web\"}});}\n",
       "        if (typeof require !== 'undefined') {\n",
       "        require.undef(\"plotly\");\n",
       "        requirejs.config({\n",
       "            paths: {\n",
       "                'plotly': ['https://cdn.plot.ly/plotly-latest.min']\n",
       "            }\n",
       "        });\n",
       "        require(['plotly'], function(Plotly) {\n",
       "            window._Plotly = Plotly;\n",
       "        });\n",
       "        }\n",
       "        </script>\n",
       "        "
      ]
     },
     "metadata": {},
     "output_type": "display_data"
    },
    {
     "data": {
      "text/html": [
       "        <script type=\"text/javascript\">\n",
       "        window.PlotlyConfig = {MathJaxConfig: 'local'};\n",
       "        if (window.MathJax) {MathJax.Hub.Config({SVG: {font: \"STIX-Web\"}});}\n",
       "        if (typeof require !== 'undefined') {\n",
       "        require.undef(\"plotly\");\n",
       "        requirejs.config({\n",
       "            paths: {\n",
       "                'plotly': ['https://cdn.plot.ly/plotly-latest.min']\n",
       "            }\n",
       "        });\n",
       "        require(['plotly'], function(Plotly) {\n",
       "            window._Plotly = Plotly;\n",
       "        });\n",
       "        }\n",
       "        </script>\n",
       "        "
      ]
     },
     "metadata": {},
     "output_type": "display_data"
    },
    {
     "data": {
      "text/html": [
       "        <script type=\"text/javascript\">\n",
       "        window.PlotlyConfig = {MathJaxConfig: 'local'};\n",
       "        if (window.MathJax) {MathJax.Hub.Config({SVG: {font: \"STIX-Web\"}});}\n",
       "        if (typeof require !== 'undefined') {\n",
       "        require.undef(\"plotly\");\n",
       "        requirejs.config({\n",
       "            paths: {\n",
       "                'plotly': ['https://cdn.plot.ly/plotly-latest.min']\n",
       "            }\n",
       "        });\n",
       "        require(['plotly'], function(Plotly) {\n",
       "            window._Plotly = Plotly;\n",
       "        });\n",
       "        }\n",
       "        </script>\n",
       "        "
      ]
     },
     "metadata": {},
     "output_type": "display_data"
    }
   ],
   "source": [
    "import numpy as np # linear algebra\n",
    "import pandas as pd # data processing, CSV file I/O (e.g. pd.read_csv)\n",
    "# Suppress warnings \n",
    "import warnings\n",
    "warnings.filterwarnings('ignore')\n",
    "import gc\n",
    "\n",
    "\n",
    "# matplotlib and seaborn for plotting\n",
    "import matplotlib.pyplot as plt\n",
    "%matplotlib inline\n",
    "\n",
    "import seaborn as sns\n",
    "import matplotlib.patches as patches\n",
    "\n",
    "from plotly import tools, subplots\n",
    "import plotly.offline as py\n",
    "py.init_notebook_mode(connected=True)\n",
    "import plotly.graph_objs as go\n",
    "import plotly.express as px\n",
    "pd.set_option('max_columns', 100)\n",
    "\n",
    "\n",
    "py.init_notebook_mode(connected=True)\n",
    "from plotly.offline import init_notebook_mode, iplot\n",
    "init_notebook_mode(connected=True)\n",
    "import plotly.graph_objs as go\n",
    "\n",
    "# Input data files are available in the \"../input/\" directory.\n",
    "# For example, running this (by clicking run or pressing Shift+Enter) will list all files under the input directory\n",
    "\n",
    "import os,random, math, psutil, pickle\n",
    "# for dirname, _, filenames in os.walk('/kaggle/input'):\n",
    "#     for filename in filenames:\n",
    "#         print(os.path.join(dirname, filename))"
   ]
  },
  {
   "cell_type": "code",
   "execution_count": 2,
   "metadata": {},
   "outputs": [
    {
     "name": "stdout",
     "output_type": "stream",
     "text": [
      "['train.csv', 'Untitled2.ipynb', 'cat_feature_index.a505f1c3-992000a-581507a7-309280cc.tmp', 'sample_submission.csv', 'sample_submission.csv.zip', 'building_metadata.csv', 'energy_sub.csv', 'weather_test.csv', 'weather_train.csv', '.ipynb_checkpoints', 'weather_train.csv.zip', 'train.csv.zip', 'test.csv', 'cat_feature_index.12d7a440-a0c2b8f3-6283ee1a-8628ec58.tmp', 'cat_feature_index.d6cd3695-b92f2d37-473f515b-71b3b946.tmp', 'test.csv.zip', 'catboost_info', 'Untitled1.ipynb', 'cat_feature_index.b25268d2-cc63a851-8f034f1-2cadb8eb.tmp', 'weather_test.csv.zip', 'Untitled.ipynb']\n"
     ]
    }
   ],
   "source": [
    "import os\n",
    "print(os.listdir(\"./\"))"
   ]
  },
  {
   "cell_type": "code",
   "execution_count": 3,
   "metadata": {},
   "outputs": [],
   "source": [
    "root = \"./\"\n",
    "train = pd.read_csv(root + 'train.csv')\n",
    "# train_df[\"timestamp\"] = pd.to_datetime(train_df[\"timestamp\"], format='%Y-%m-%d %H:%M:%S')\n",
    "\n",
    "weather_train = pd.read_csv(root + 'weather_train.csv')\n",
    "test = pd.read_csv(root + 'test.csv')\n",
    "weather_test = pd.read_csv(root + 'weather_test.csv')\n",
    "building_meta = pd.read_csv(root + 'building_metadata.csv')\n",
    "sample_submission = pd.read_csv(root + 'sample_submission.csv')"
   ]
  },
  {
   "cell_type": "code",
   "execution_count": 4,
   "metadata": {},
   "outputs": [],
   "source": [
    "train = train.merge(building_meta, on='building_id', how='left')\n",
    "test = test.merge(building_meta, on='building_id', how='left')\n",
    "train = train.merge(weather_train, on=['site_id', 'timestamp'], how='left')\n",
    "test = test.merge(weather_test, on=['site_id', 'timestamp'], how='left')"
   ]
  },
  {
   "cell_type": "code",
   "execution_count": 5,
   "metadata": {},
   "outputs": [],
   "source": [
    "d_types = {'building_id': np.int16,\n",
    "          'meter': np.int8,\n",
    "          'site_id': np.int8,\n",
    "          'primary_use': 'category',\n",
    "          'square_feet': np.int32,\n",
    "          'year_built': np.float16,\n",
    "          'floor_count': np.float16,\n",
    "          'air_temperature': np.float32,\n",
    "          'cloud_coverage': np.float16,\n",
    "          'dew_temperature': np.float32,\n",
    "          'precip_depth_1_hr': np.float16,\n",
    "          'sea_level_pressure': np.float32,\n",
    "          'wind_direction': np.float16,\n",
    "          'wind_speed': np.float32}\n",
    "\n",
    "for feature in d_types:\n",
    "    train[feature] = train[feature].astype(d_types[feature])\n",
    "    test[feature] = test[feature].astype(d_types[feature])\n",
    "    \n",
    "train[\"timestamp\"] = pd.to_datetime(train[\"timestamp\"])\n",
    "test[\"timestamp\"] = pd.to_datetime(test[\"timestamp\"])\n",
    "gc.collect();"
   ]
  },
  {
   "cell_type": "code",
   "execution_count": 6,
   "metadata": {},
   "outputs": [
    {
     "data": {
      "text/html": [
       "<div>\n",
       "<style scoped>\n",
       "    .dataframe tbody tr th:only-of-type {\n",
       "        vertical-align: middle;\n",
       "    }\n",
       "\n",
       "    .dataframe tbody tr th {\n",
       "        vertical-align: top;\n",
       "    }\n",
       "\n",
       "    .dataframe thead th {\n",
       "        text-align: right;\n",
       "    }\n",
       "</style>\n",
       "<table border=\"1\" class=\"dataframe\">\n",
       "  <thead>\n",
       "    <tr style=\"text-align: right;\">\n",
       "      <th></th>\n",
       "      <th>building_id</th>\n",
       "      <th>meter</th>\n",
       "      <th>timestamp</th>\n",
       "      <th>meter_reading</th>\n",
       "      <th>site_id</th>\n",
       "      <th>primary_use</th>\n",
       "      <th>square_feet</th>\n",
       "      <th>year_built</th>\n",
       "      <th>floor_count</th>\n",
       "      <th>air_temperature</th>\n",
       "      <th>cloud_coverage</th>\n",
       "      <th>dew_temperature</th>\n",
       "      <th>precip_depth_1_hr</th>\n",
       "      <th>sea_level_pressure</th>\n",
       "      <th>wind_direction</th>\n",
       "      <th>wind_speed</th>\n",
       "    </tr>\n",
       "  </thead>\n",
       "  <tbody>\n",
       "    <tr>\n",
       "      <th>0</th>\n",
       "      <td>0</td>\n",
       "      <td>0</td>\n",
       "      <td>2016-01-01</td>\n",
       "      <td>0.0</td>\n",
       "      <td>0</td>\n",
       "      <td>Education</td>\n",
       "      <td>7432</td>\n",
       "      <td>2008.0</td>\n",
       "      <td>NaN</td>\n",
       "      <td>25.0</td>\n",
       "      <td>6.0</td>\n",
       "      <td>20.0</td>\n",
       "      <td>NaN</td>\n",
       "      <td>1019.700012</td>\n",
       "      <td>0.0</td>\n",
       "      <td>0.0</td>\n",
       "    </tr>\n",
       "    <tr>\n",
       "      <th>1</th>\n",
       "      <td>1</td>\n",
       "      <td>0</td>\n",
       "      <td>2016-01-01</td>\n",
       "      <td>0.0</td>\n",
       "      <td>0</td>\n",
       "      <td>Education</td>\n",
       "      <td>2720</td>\n",
       "      <td>2004.0</td>\n",
       "      <td>NaN</td>\n",
       "      <td>25.0</td>\n",
       "      <td>6.0</td>\n",
       "      <td>20.0</td>\n",
       "      <td>NaN</td>\n",
       "      <td>1019.700012</td>\n",
       "      <td>0.0</td>\n",
       "      <td>0.0</td>\n",
       "    </tr>\n",
       "    <tr>\n",
       "      <th>2</th>\n",
       "      <td>2</td>\n",
       "      <td>0</td>\n",
       "      <td>2016-01-01</td>\n",
       "      <td>0.0</td>\n",
       "      <td>0</td>\n",
       "      <td>Education</td>\n",
       "      <td>5376</td>\n",
       "      <td>1991.0</td>\n",
       "      <td>NaN</td>\n",
       "      <td>25.0</td>\n",
       "      <td>6.0</td>\n",
       "      <td>20.0</td>\n",
       "      <td>NaN</td>\n",
       "      <td>1019.700012</td>\n",
       "      <td>0.0</td>\n",
       "      <td>0.0</td>\n",
       "    </tr>\n",
       "    <tr>\n",
       "      <th>3</th>\n",
       "      <td>3</td>\n",
       "      <td>0</td>\n",
       "      <td>2016-01-01</td>\n",
       "      <td>0.0</td>\n",
       "      <td>0</td>\n",
       "      <td>Education</td>\n",
       "      <td>23685</td>\n",
       "      <td>2002.0</td>\n",
       "      <td>NaN</td>\n",
       "      <td>25.0</td>\n",
       "      <td>6.0</td>\n",
       "      <td>20.0</td>\n",
       "      <td>NaN</td>\n",
       "      <td>1019.700012</td>\n",
       "      <td>0.0</td>\n",
       "      <td>0.0</td>\n",
       "    </tr>\n",
       "    <tr>\n",
       "      <th>4</th>\n",
       "      <td>4</td>\n",
       "      <td>0</td>\n",
       "      <td>2016-01-01</td>\n",
       "      <td>0.0</td>\n",
       "      <td>0</td>\n",
       "      <td>Education</td>\n",
       "      <td>116607</td>\n",
       "      <td>1975.0</td>\n",
       "      <td>NaN</td>\n",
       "      <td>25.0</td>\n",
       "      <td>6.0</td>\n",
       "      <td>20.0</td>\n",
       "      <td>NaN</td>\n",
       "      <td>1019.700012</td>\n",
       "      <td>0.0</td>\n",
       "      <td>0.0</td>\n",
       "    </tr>\n",
       "  </tbody>\n",
       "</table>\n",
       "</div>"
      ],
      "text/plain": [
       "   building_id  meter  timestamp  meter_reading  site_id primary_use  \\\n",
       "0            0      0 2016-01-01            0.0        0   Education   \n",
       "1            1      0 2016-01-01            0.0        0   Education   \n",
       "2            2      0 2016-01-01            0.0        0   Education   \n",
       "3            3      0 2016-01-01            0.0        0   Education   \n",
       "4            4      0 2016-01-01            0.0        0   Education   \n",
       "\n",
       "   square_feet  year_built  floor_count  air_temperature  cloud_coverage  \\\n",
       "0         7432      2008.0          NaN             25.0             6.0   \n",
       "1         2720      2004.0          NaN             25.0             6.0   \n",
       "2         5376      1991.0          NaN             25.0             6.0   \n",
       "3        23685      2002.0          NaN             25.0             6.0   \n",
       "4       116607      1975.0          NaN             25.0             6.0   \n",
       "\n",
       "   dew_temperature  precip_depth_1_hr  sea_level_pressure  wind_direction  \\\n",
       "0             20.0                NaN         1019.700012             0.0   \n",
       "1             20.0                NaN         1019.700012             0.0   \n",
       "2             20.0                NaN         1019.700012             0.0   \n",
       "3             20.0                NaN         1019.700012             0.0   \n",
       "4             20.0                NaN         1019.700012             0.0   \n",
       "\n",
       "   wind_speed  \n",
       "0         0.0  \n",
       "1         0.0  \n",
       "2         0.0  \n",
       "3         0.0  \n",
       "4         0.0  "
      ]
     },
     "execution_count": 6,
     "metadata": {},
     "output_type": "execute_result"
    }
   ],
   "source": [
    "dataset = train\n",
    "train.head(5)"
   ]
  },
  {
   "cell_type": "code",
   "execution_count": 37,
   "metadata": {},
   "outputs": [
    {
     "name": "stdout",
     "output_type": "stream",
     "text": [
      "building_id                  0\n",
      "meter                        0\n",
      "timestamp                    0\n",
      "meter_reading                0\n",
      "site_id                      0\n",
      "primary_use                  0\n",
      "square_feet                  0\n",
      "year_built            12127645\n",
      "floor_count           16709167\n",
      "air_temperature          96658\n",
      "cloud_coverage         8825365\n",
      "dew_temperature         100140\n",
      "precip_depth_1_hr      3749023\n",
      "sea_level_pressure     1231669\n",
      "wind_direction         1449048\n",
      "wind_speed              143676\n",
      "dtype: int64\n",
      "\n",
      "\n",
      "building_id           1.000000\n",
      "meter                 1.000000\n",
      "timestamp             1.000000\n",
      "meter_reading         1.000000\n",
      "site_id               1.000000\n",
      "primary_use           1.000000\n",
      "square_feet           1.000000\n",
      "year_built            0.400100\n",
      "floor_count           0.173472\n",
      "air_temperature       0.995219\n",
      "cloud_coverage        0.563449\n",
      "dew_temperature       0.995047\n",
      "precip_depth_1_hr     0.814553\n",
      "sea_level_pressure    0.939075\n",
      "wind_direction        0.928322\n",
      "wind_speed            0.992893\n",
      "dtype: float64\n"
     ]
    }
   ],
   "source": [
    "from sklearn.preprocessing import LabelEncoder\n",
    "\n",
    "print(train.isnull().sum())\n",
    "data_ratios = train.count()/len(train)\n",
    "print(\"\\n\")\n",
    "print(data_ratios)\n",
    "\n",
    "class ASHRAE3Preprocessor(object):\n",
    "    @classmethod\n",
    "    def fit(cls, df, data_ratios=data_ratios):\n",
    "        #对缺失值进行补充\n",
    "        cls.avgs = df.loc[:,data_ratios < 1.0].mean()\n",
    "        cls.pu_le = LabelEncoder()\n",
    "        cls.pu_le.fit(df[\"primary_use\"])\n",
    "\n",
    "    @classmethod\n",
    "    def transform(cls, df):\n",
    "        #time_stamp和primary_use为非数值形式，要将其转换为数值形式\n",
    "        df = df.fillna(cls.avgs) # refill NAN with averages\n",
    "        df['primary_use'] = np.uint8(cls.pu_le.transform(df['primary_use']))  # encode labels\n",
    "\n",
    "        # expand datetime into its components\n",
    "#         df['hour'] = np.uint8(df['timestamp'].dt.hour)\n",
    "#         df['day'] = np.uint8(df['timestamp'].dt.day)\n",
    "#         df['weekday'] = np.uint8(df['timestamp'].dt.weekday)\n",
    "#         df['month'] = np.uint8(df['timestamp'].dt.month)\n",
    "#         df['year'] = np.uint8(df['timestamp'].dt.year-2000)\n",
    "        \n",
    "        # parse and cast columns to a smaller type\n",
    "        df.rename(columns={\"square_feet\": \"log_square_feet\"}, inplace=True)\n",
    "        #加个log\n",
    "        df['log_square_feet'] = np.float16(np.log(df['log_square_feet']))\n",
    "        df['year_built'] = np.uint8(df['year_built']-1900)\n",
    "        df['floor_count'] = np.uint8(df['floor_count'])\n",
    "        \n",
    "        # remove redundant columns\n",
    "#         for col in df.columns:\n",
    "#             if col in ['timestamp', 'row_id']:\n",
    "#                 del df[col]\n",
    "    \n",
    "        # extract target column\n",
    "        if 'meter_reading' in df.columns:\n",
    "            df['meter_reading'] = np.log1p(df['meter_reading']).astype(np.float32) # comp metric uses log errors\n",
    "\n",
    "        return df\n",
    "        \n",
    "ASHRAE3Preprocessor.fit(train)"
   ]
  },
  {
   "cell_type": "code",
   "execution_count": 38,
   "metadata": {},
   "outputs": [
    {
     "data": {
      "text/html": [
       "<div>\n",
       "<style scoped>\n",
       "    .dataframe tbody tr th:only-of-type {\n",
       "        vertical-align: middle;\n",
       "    }\n",
       "\n",
       "    .dataframe tbody tr th {\n",
       "        vertical-align: top;\n",
       "    }\n",
       "\n",
       "    .dataframe thead th {\n",
       "        text-align: right;\n",
       "    }\n",
       "</style>\n",
       "<table border=\"1\" class=\"dataframe\">\n",
       "  <thead>\n",
       "    <tr style=\"text-align: right;\">\n",
       "      <th></th>\n",
       "      <th>building_id</th>\n",
       "      <th>meter</th>\n",
       "      <th>timestamp</th>\n",
       "      <th>meter_reading</th>\n",
       "      <th>site_id</th>\n",
       "      <th>primary_use</th>\n",
       "      <th>log_square_feet</th>\n",
       "      <th>year_built</th>\n",
       "      <th>floor_count</th>\n",
       "      <th>air_temperature</th>\n",
       "      <th>cloud_coverage</th>\n",
       "      <th>dew_temperature</th>\n",
       "      <th>precip_depth_1_hr</th>\n",
       "      <th>sea_level_pressure</th>\n",
       "      <th>wind_direction</th>\n",
       "      <th>wind_speed</th>\n",
       "    </tr>\n",
       "  </thead>\n",
       "  <tbody>\n",
       "    <tr>\n",
       "      <th>0</th>\n",
       "      <td>0</td>\n",
       "      <td>0</td>\n",
       "      <td>2016-01-01</td>\n",
       "      <td>0.0</td>\n",
       "      <td>0</td>\n",
       "      <td>0</td>\n",
       "      <td>8.914062</td>\n",
       "      <td>108</td>\n",
       "      <td>4</td>\n",
       "      <td>25.0</td>\n",
       "      <td>6.0</td>\n",
       "      <td>20.0</td>\n",
       "      <td>0.796387</td>\n",
       "      <td>1019.700012</td>\n",
       "      <td>0.0</td>\n",
       "      <td>0.0</td>\n",
       "    </tr>\n",
       "    <tr>\n",
       "      <th>1</th>\n",
       "      <td>1</td>\n",
       "      <td>0</td>\n",
       "      <td>2016-01-01</td>\n",
       "      <td>0.0</td>\n",
       "      <td>0</td>\n",
       "      <td>0</td>\n",
       "      <td>7.910156</td>\n",
       "      <td>104</td>\n",
       "      <td>4</td>\n",
       "      <td>25.0</td>\n",
       "      <td>6.0</td>\n",
       "      <td>20.0</td>\n",
       "      <td>0.796387</td>\n",
       "      <td>1019.700012</td>\n",
       "      <td>0.0</td>\n",
       "      <td>0.0</td>\n",
       "    </tr>\n",
       "    <tr>\n",
       "      <th>2</th>\n",
       "      <td>2</td>\n",
       "      <td>0</td>\n",
       "      <td>2016-01-01</td>\n",
       "      <td>0.0</td>\n",
       "      <td>0</td>\n",
       "      <td>0</td>\n",
       "      <td>8.585938</td>\n",
       "      <td>91</td>\n",
       "      <td>4</td>\n",
       "      <td>25.0</td>\n",
       "      <td>6.0</td>\n",
       "      <td>20.0</td>\n",
       "      <td>0.796387</td>\n",
       "      <td>1019.700012</td>\n",
       "      <td>0.0</td>\n",
       "      <td>0.0</td>\n",
       "    </tr>\n",
       "    <tr>\n",
       "      <th>3</th>\n",
       "      <td>3</td>\n",
       "      <td>0</td>\n",
       "      <td>2016-01-01</td>\n",
       "      <td>0.0</td>\n",
       "      <td>0</td>\n",
       "      <td>0</td>\n",
       "      <td>10.070312</td>\n",
       "      <td>102</td>\n",
       "      <td>4</td>\n",
       "      <td>25.0</td>\n",
       "      <td>6.0</td>\n",
       "      <td>20.0</td>\n",
       "      <td>0.796387</td>\n",
       "      <td>1019.700012</td>\n",
       "      <td>0.0</td>\n",
       "      <td>0.0</td>\n",
       "    </tr>\n",
       "    <tr>\n",
       "      <th>4</th>\n",
       "      <td>4</td>\n",
       "      <td>0</td>\n",
       "      <td>2016-01-01</td>\n",
       "      <td>0.0</td>\n",
       "      <td>0</td>\n",
       "      <td>0</td>\n",
       "      <td>11.664062</td>\n",
       "      <td>75</td>\n",
       "      <td>4</td>\n",
       "      <td>25.0</td>\n",
       "      <td>6.0</td>\n",
       "      <td>20.0</td>\n",
       "      <td>0.796387</td>\n",
       "      <td>1019.700012</td>\n",
       "      <td>0.0</td>\n",
       "      <td>0.0</td>\n",
       "    </tr>\n",
       "  </tbody>\n",
       "</table>\n",
       "</div>"
      ],
      "text/plain": [
       "   building_id  meter  timestamp  meter_reading  site_id  primary_use  \\\n",
       "0            0      0 2016-01-01            0.0        0            0   \n",
       "1            1      0 2016-01-01            0.0        0            0   \n",
       "2            2      0 2016-01-01            0.0        0            0   \n",
       "3            3      0 2016-01-01            0.0        0            0   \n",
       "4            4      0 2016-01-01            0.0        0            0   \n",
       "\n",
       "   log_square_feet  year_built  floor_count  air_temperature  cloud_coverage  \\\n",
       "0         8.914062         108            4             25.0             6.0   \n",
       "1         7.910156         104            4             25.0             6.0   \n",
       "2         8.585938          91            4             25.0             6.0   \n",
       "3        10.070312         102            4             25.0             6.0   \n",
       "4        11.664062          75            4             25.0             6.0   \n",
       "\n",
       "   dew_temperature  precip_depth_1_hr  sea_level_pressure  wind_direction  \\\n",
       "0             20.0           0.796387         1019.700012             0.0   \n",
       "1             20.0           0.796387         1019.700012             0.0   \n",
       "2             20.0           0.796387         1019.700012             0.0   \n",
       "3             20.0           0.796387         1019.700012             0.0   \n",
       "4             20.0           0.796387         1019.700012             0.0   \n",
       "\n",
       "   wind_speed  \n",
       "0         0.0  \n",
       "1         0.0  \n",
       "2         0.0  \n",
       "3         0.0  \n",
       "4         0.0  "
      ]
     },
     "execution_count": 38,
     "metadata": {},
     "output_type": "execute_result"
    }
   ],
   "source": [
    "train = ASHRAE3Preprocessor.transform(train)\n",
    "train.head(5)"
   ]
  },
  {
   "cell_type": "code",
   "execution_count": 7,
   "metadata": {},
   "outputs": [
    {
     "data": {
      "text/plain": [
       "0.0000       1873976\n",
       "20.0000        23363\n",
       "2.9307         23181\n",
       "36.6000        22154\n",
       "8.7921         21787\n",
       "24.4000        21612\n",
       "5.8614         21309\n",
       "30.0000        20853\n",
       "61.0000        20826\n",
       "10.0000        20712\n",
       "33.5500        20019\n",
       "25.0000        19339\n",
       "4.0000         19184\n",
       "24.0000        18871\n",
       "21.3500        18777\n",
       "27.4500        18748\n",
       "18.0000        17614\n",
       "30.5000        16955\n",
       "100.0000       16460\n",
       "6.0000         16429\n",
       "31.0000        15878\n",
       "27.0000        15630\n",
       "26.0000        15598\n",
       "21.0000        15543\n",
       "36.0000        15509\n",
       "39.6500        15375\n",
       "28.0000        15353\n",
       "2.0000         15348\n",
       "11.7228        15136\n",
       "29.0000        14990\n",
       "              ...   \n",
       "3003.8000          1\n",
       "2976.9500          1\n",
       "57.2411            1\n",
       "436.1820           1\n",
       "24.4296            1\n",
       "91.6348            1\n",
       "28.2318            1\n",
       "60.0158            1\n",
       "435.1930           1\n",
       "436.8070           1\n",
       "72.7086            1\n",
       "13.6949            1\n",
       "13.6801            1\n",
       "73.1845            1\n",
       "2995.0500          1\n",
       "31.0494            1\n",
       "91.5723            1\n",
       "57.2589            1\n",
       "2988.2000          1\n",
       "20.4574            1\n",
       "35.9603            1\n",
       "435.4430           1\n",
       "46.2381            1\n",
       "2992.8000          1\n",
       "91.9902            1\n",
       "72.6357            1\n",
       "2977.7000          1\n",
       "55.4186            1\n",
       "2977.4500          1\n",
       "15.3563            1\n",
       "Name: meter_reading, Length: 1688175, dtype: int64"
      ]
     },
     "execution_count": 7,
     "metadata": {},
     "output_type": "execute_result"
    }
   ],
   "source": [
    "dataset[\"meter_reading\"].value_counts()"
   ]
  },
  {
   "cell_type": "code",
   "execution_count": 8,
   "metadata": {
    "scrolled": true
   },
   "outputs": [
    {
     "data": {
      "image/png": "[encoded data removed]",
      "text/plain": [
       "<Figure size 432x288 with 1 Axes>"
      ]
     },
     "metadata": {
      "needs_background": "light"
     },
     "output_type": "display_data"
    }
   ],
   "source": [
    "g = sns.distplot(np.log1p(dataset[\"meter_reading\"]))"
   ]
  },
  {
   "cell_type": "code",
   "execution_count": 45,
   "metadata": {},
   "outputs": [
    {
     "data": {
      "image/png": "[encoded data removed]",
      "text/plain": [
       "<Figure size 432x288 with 1 Axes>"
      ]
     },
     "metadata": {
      "needs_background": "light"
     },
     "output_type": "display_data"
    }
   ],
   "source": [
    "g = sns.distplot(dataset[\"meter_reading\"])"
   ]
  },
  {
   "cell_type": "code",
   "execution_count": 12,
   "metadata": {},
   "outputs": [
    {
     "data": {
      "image/png": "[encoded data removed]",
      "text/plain": [
       "<Figure size 432x288 with 1 Axes>"
      ]
     },
     "metadata": {
      "needs_background": "light"
     },
     "output_type": "display_data"
    }
   ],
   "source": [
    "g = sns.distplot(dataset[\"meter\"])"
   ]
  },
  {
   "cell_type": "code",
   "execution_count": 9,
   "metadata": {},
   "outputs": [],
   "source": [
    "dataset[\"timestamp\"] = pd.to_datetime(dataset[\"timestamp\"], format='%Y-%m-%d %H:%M:%S')"
   ]
  },
  {
   "cell_type": "code",
   "execution_count": 10,
   "metadata": {},
   "outputs": [],
   "source": [
    "test[\"timestamp\"] = pd.to_datetime(test[\"timestamp\"], format='%Y-%m-%d %H:%M:%S')"
   ]
  },
  {
   "cell_type": "code",
   "execution_count": 11,
   "metadata": {},
   "outputs": [
    {
     "data": {
      "text/plain": [
       "<matplotlib.axes._subplots.AxesSubplot at 0x2aab1e666dd8>"
      ]
     },
     "execution_count": 11,
     "metadata": {},
     "output_type": "execute_result"
    },
    {
     "data": {
      "image/png": "[encoded data removed]",
      "text/plain": [
       "<Figure size 432x288 with 1 Axes>"
      ]
     },
     "metadata": {
      "needs_background": "light"
     },
     "output_type": "display_data"
    }
   ],
   "source": [
    "sns.lineplot(x='timestamp',y='meter_reading',data=dataset[dataset[\"meter\"] == 0])"
   ]
  },
  {
   "cell_type": "code",
   "execution_count": 12,
   "metadata": {},
   "outputs": [],
   "source": [
    "df_one_building = dataset[dataset.building_id == 1258]"
   ]
  },
  {
   "cell_type": "code",
   "execution_count": 14,
   "metadata": {},
   "outputs": [
    {
     "data": {
      "text/html": [
       "<div>\n",
       "<style scoped>\n",
       "    .dataframe tbody tr th:only-of-type {\n",
       "        vertical-align: middle;\n",
       "    }\n",
       "\n",
       "    .dataframe tbody tr th {\n",
       "        vertical-align: top;\n",
       "    }\n",
       "\n",
       "    .dataframe thead th {\n",
       "        text-align: right;\n",
       "    }\n",
       "</style>\n",
       "<table border=\"1\" class=\"dataframe\">\n",
       "  <thead>\n",
       "    <tr style=\"text-align: right;\">\n",
       "      <th></th>\n",
       "      <th>building_id</th>\n",
       "      <th>meter</th>\n",
       "      <th>timestamp</th>\n",
       "      <th>meter_reading</th>\n",
       "      <th>site_id</th>\n",
       "      <th>primary_use</th>\n",
       "      <th>square_feet</th>\n",
       "      <th>year_built</th>\n",
       "      <th>floor_count</th>\n",
       "      <th>air_temperature</th>\n",
       "      <th>cloud_coverage</th>\n",
       "      <th>dew_temperature</th>\n",
       "      <th>precip_depth_1_hr</th>\n",
       "      <th>sea_level_pressure</th>\n",
       "      <th>wind_direction</th>\n",
       "      <th>wind_speed</th>\n",
       "    </tr>\n",
       "  </thead>\n",
       "  <tbody>\n",
       "    <tr>\n",
       "      <th>1881</th>\n",
       "      <td>1258</td>\n",
       "      <td>0</td>\n",
       "      <td>2016-01-01 00:00:00</td>\n",
       "      <td>910.464</td>\n",
       "      <td>14</td>\n",
       "      <td>Education</td>\n",
       "      <td>273234</td>\n",
       "      <td>NaN</td>\n",
       "      <td>NaN</td>\n",
       "      <td>NaN</td>\n",
       "      <td>NaN</td>\n",
       "      <td>NaN</td>\n",
       "      <td>NaN</td>\n",
       "      <td>NaN</td>\n",
       "      <td>NaN</td>\n",
       "      <td>NaN</td>\n",
       "    </tr>\n",
       "    <tr>\n",
       "      <th>1882</th>\n",
       "      <td>1258</td>\n",
       "      <td>1</td>\n",
       "      <td>2016-01-01 00:00:00</td>\n",
       "      <td>2509.150</td>\n",
       "      <td>14</td>\n",
       "      <td>Education</td>\n",
       "      <td>273234</td>\n",
       "      <td>NaN</td>\n",
       "      <td>NaN</td>\n",
       "      <td>NaN</td>\n",
       "      <td>NaN</td>\n",
       "      <td>NaN</td>\n",
       "      <td>NaN</td>\n",
       "      <td>NaN</td>\n",
       "      <td>NaN</td>\n",
       "      <td>NaN</td>\n",
       "    </tr>\n",
       "    <tr>\n",
       "      <th>1883</th>\n",
       "      <td>1258</td>\n",
       "      <td>2</td>\n",
       "      <td>2016-01-01 00:00:00</td>\n",
       "      <td>2923.120</td>\n",
       "      <td>14</td>\n",
       "      <td>Education</td>\n",
       "      <td>273234</td>\n",
       "      <td>NaN</td>\n",
       "      <td>NaN</td>\n",
       "      <td>NaN</td>\n",
       "      <td>NaN</td>\n",
       "      <td>NaN</td>\n",
       "      <td>NaN</td>\n",
       "      <td>NaN</td>\n",
       "      <td>NaN</td>\n",
       "      <td>NaN</td>\n",
       "    </tr>\n",
       "    <tr>\n",
       "      <th>1884</th>\n",
       "      <td>1258</td>\n",
       "      <td>3</td>\n",
       "      <td>2016-01-01 00:00:00</td>\n",
       "      <td>891.480</td>\n",
       "      <td>14</td>\n",
       "      <td>Education</td>\n",
       "      <td>273234</td>\n",
       "      <td>NaN</td>\n",
       "      <td>NaN</td>\n",
       "      <td>NaN</td>\n",
       "      <td>NaN</td>\n",
       "      <td>NaN</td>\n",
       "      <td>NaN</td>\n",
       "      <td>NaN</td>\n",
       "      <td>NaN</td>\n",
       "      <td>NaN</td>\n",
       "    </tr>\n",
       "    <tr>\n",
       "      <th>4177</th>\n",
       "      <td>1258</td>\n",
       "      <td>0</td>\n",
       "      <td>2016-01-01 01:00:00</td>\n",
       "      <td>916.448</td>\n",
       "      <td>14</td>\n",
       "      <td>Education</td>\n",
       "      <td>273234</td>\n",
       "      <td>NaN</td>\n",
       "      <td>NaN</td>\n",
       "      <td>5.6</td>\n",
       "      <td>0.0</td>\n",
       "      <td>-0.6</td>\n",
       "      <td>0.0</td>\n",
       "      <td>1019.299988</td>\n",
       "      <td>300.0</td>\n",
       "      <td>2.6</td>\n",
       "    </tr>\n",
       "    <tr>\n",
       "      <th>4178</th>\n",
       "      <td>1258</td>\n",
       "      <td>1</td>\n",
       "      <td>2016-01-01 01:00:00</td>\n",
       "      <td>1957.440</td>\n",
       "      <td>14</td>\n",
       "      <td>Education</td>\n",
       "      <td>273234</td>\n",
       "      <td>NaN</td>\n",
       "      <td>NaN</td>\n",
       "      <td>5.6</td>\n",
       "      <td>0.0</td>\n",
       "      <td>-0.6</td>\n",
       "      <td>0.0</td>\n",
       "      <td>1019.299988</td>\n",
       "      <td>300.0</td>\n",
       "      <td>2.6</td>\n",
       "    </tr>\n",
       "    <tr>\n",
       "      <th>4179</th>\n",
       "      <td>1258</td>\n",
       "      <td>2</td>\n",
       "      <td>2016-01-01 01:00:00</td>\n",
       "      <td>13590.600</td>\n",
       "      <td>14</td>\n",
       "      <td>Education</td>\n",
       "      <td>273234</td>\n",
       "      <td>NaN</td>\n",
       "      <td>NaN</td>\n",
       "      <td>5.6</td>\n",
       "      <td>0.0</td>\n",
       "      <td>-0.6</td>\n",
       "      <td>0.0</td>\n",
       "      <td>1019.299988</td>\n",
       "      <td>300.0</td>\n",
       "      <td>2.6</td>\n",
       "    </tr>\n",
       "    <tr>\n",
       "      <th>6473</th>\n",
       "      <td>1258</td>\n",
       "      <td>0</td>\n",
       "      <td>2016-01-01 02:00:00</td>\n",
       "      <td>934.457</td>\n",
       "      <td>14</td>\n",
       "      <td>Education</td>\n",
       "      <td>273234</td>\n",
       "      <td>NaN</td>\n",
       "      <td>NaN</td>\n",
       "      <td>5.6</td>\n",
       "      <td>4.0</td>\n",
       "      <td>-0.6</td>\n",
       "      <td>0.0</td>\n",
       "      <td>1019.400024</td>\n",
       "      <td>300.0</td>\n",
       "      <td>2.6</td>\n",
       "    </tr>\n",
       "    <tr>\n",
       "      <th>6474</th>\n",
       "      <td>1258</td>\n",
       "      <td>1</td>\n",
       "      <td>2016-01-01 02:00:00</td>\n",
       "      <td>2000.400</td>\n",
       "      <td>14</td>\n",
       "      <td>Education</td>\n",
       "      <td>273234</td>\n",
       "      <td>NaN</td>\n",
       "      <td>NaN</td>\n",
       "      <td>5.6</td>\n",
       "      <td>4.0</td>\n",
       "      <td>-0.6</td>\n",
       "      <td>0.0</td>\n",
       "      <td>1019.400024</td>\n",
       "      <td>300.0</td>\n",
       "      <td>2.6</td>\n",
       "    </tr>\n",
       "    <tr>\n",
       "      <th>6475</th>\n",
       "      <td>1258</td>\n",
       "      <td>2</td>\n",
       "      <td>2016-01-01 02:00:00</td>\n",
       "      <td>3079.990</td>\n",
       "      <td>14</td>\n",
       "      <td>Education</td>\n",
       "      <td>273234</td>\n",
       "      <td>NaN</td>\n",
       "      <td>NaN</td>\n",
       "      <td>5.6</td>\n",
       "      <td>4.0</td>\n",
       "      <td>-0.6</td>\n",
       "      <td>0.0</td>\n",
       "      <td>1019.400024</td>\n",
       "      <td>300.0</td>\n",
       "      <td>2.6</td>\n",
       "    </tr>\n",
       "  </tbody>\n",
       "</table>\n",
       "</div>"
      ],
      "text/plain": [
       "      building_id  meter           timestamp  meter_reading  site_id  \\\n",
       "1881         1258      0 2016-01-01 00:00:00        910.464       14   \n",
       "1882         1258      1 2016-01-01 00:00:00       2509.150       14   \n",
       "1883         1258      2 2016-01-01 00:00:00       2923.120       14   \n",
       "1884         1258      3 2016-01-01 00:00:00        891.480       14   \n",
       "4177         1258      0 2016-01-01 01:00:00        916.448       14   \n",
       "4178         1258      1 2016-01-01 01:00:00       1957.440       14   \n",
       "4179         1258      2 2016-01-01 01:00:00      13590.600       14   \n",
       "6473         1258      0 2016-01-01 02:00:00        934.457       14   \n",
       "6474         1258      1 2016-01-01 02:00:00       2000.400       14   \n",
       "6475         1258      2 2016-01-01 02:00:00       3079.990       14   \n",
       "\n",
       "     primary_use  square_feet  year_built  floor_count  air_temperature  \\\n",
       "1881   Education       273234         NaN          NaN              NaN   \n",
       "1882   Education       273234         NaN          NaN              NaN   \n",
       "1883   Education       273234         NaN          NaN              NaN   \n",
       "1884   Education       273234         NaN          NaN              NaN   \n",
       "4177   Education       273234         NaN          NaN              5.6   \n",
       "4178   Education       273234         NaN          NaN              5.6   \n",
       "4179   Education       273234         NaN          NaN              5.6   \n",
       "6473   Education       273234         NaN          NaN              5.6   \n",
       "6474   Education       273234         NaN          NaN              5.6   \n",
       "6475   Education       273234         NaN          NaN              5.6   \n",
       "\n",
       "      cloud_coverage  dew_temperature  precip_depth_1_hr  sea_level_pressure  \\\n",
       "1881             NaN              NaN                NaN                 NaN   \n",
       "1882             NaN              NaN                NaN                 NaN   \n",
       "1883             NaN              NaN                NaN                 NaN   \n",
       "1884             NaN              NaN                NaN                 NaN   \n",
       "4177             0.0             -0.6                0.0         1019.299988   \n",
       "4178             0.0             -0.6                0.0         1019.299988   \n",
       "4179             0.0             -0.6                0.0         1019.299988   \n",
       "6473             4.0             -0.6                0.0         1019.400024   \n",
       "6474             4.0             -0.6                0.0         1019.400024   \n",
       "6475             4.0             -0.6                0.0         1019.400024   \n",
       "\n",
       "      wind_direction  wind_speed  \n",
       "1881             NaN         NaN  \n",
       "1882             NaN         NaN  \n",
       "1883             NaN         NaN  \n",
       "1884             NaN         NaN  \n",
       "4177           300.0         2.6  \n",
       "4178           300.0         2.6  \n",
       "4179           300.0         2.6  \n",
       "6473           300.0         2.6  \n",
       "6474           300.0         2.6  \n",
       "6475           300.0         2.6  "
      ]
     },
     "execution_count": 14,
     "metadata": {},
     "output_type": "execute_result"
    }
   ],
   "source": [
    "df_one_building.head(10)"
   ]
  },
  {
   "cell_type": "code",
   "execution_count": 15,
   "metadata": {},
   "outputs": [
    {
     "name": "stderr",
     "output_type": "stream",
     "text": [
      "/home/lwlw/anaconda3/lib/python3.7/site-packages/ipykernel_launcher.py:1: UserWarning:\n",
      "\n",
      "Boolean Series key will be reindexed to match DataFrame index.\n",
      "\n"
     ]
    },
    {
     "data": {
      "text/plain": [
       "<matplotlib.axes._subplots.AxesSubplot at 0x2aab1ecc7cc0>"
      ]
     },
     "execution_count": 15,
     "metadata": {},
     "output_type": "execute_result"
    },
    {
     "data": {
      "image/png": "[encoded data removed]",
      "text/plain": [
       "<Figure size 432x288 with 1 Axes>"
      ]
     },
     "metadata": {
      "needs_background": "light"
     },
     "output_type": "display_data"
    }
   ],
   "source": [
    "sns.lineplot(x='timestamp',y='meter_reading',data=df_one_building[dataset[\"meter\"] == 0])"
   ]
  },
  {
   "cell_type": "code",
   "execution_count": 16,
   "metadata": {},
   "outputs": [
    {
     "name": "stderr",
     "output_type": "stream",
     "text": [
      "/home/lwlw/anaconda3/lib/python3.7/site-packages/ipykernel_launcher.py:1: UserWarning:\n",
      "\n",
      "Boolean Series key will be reindexed to match DataFrame index.\n",
      "\n"
     ]
    },
    {
     "data": {
      "text/plain": [
       "<matplotlib.axes._subplots.AxesSubplot at 0x2aab1e6fc438>"
      ]
     },
     "execution_count": 16,
     "metadata": {},
     "output_type": "execute_result"
    },
    {
     "data": {
      "image/png": "[encoded data removed]",
      "text/plain": [
       "<Figure size 432x288 with 1 Axes>"
      ]
     },
     "metadata": {
      "needs_background": "light"
     },
     "output_type": "display_data"
    }
   ],
   "source": [
    "sns.lineplot(x='timestamp',y='meter_reading',data=df_one_building[dataset[\"meter\"] == 1])"
   ]
  },
  {
   "cell_type": "code",
   "execution_count": 20,
   "metadata": {},
   "outputs": [
    {
     "name": "stderr",
     "output_type": "stream",
     "text": [
      "/home/lwlw/anaconda3/lib/python3.7/site-packages/ipykernel_launcher.py:1: UserWarning:\n",
      "\n",
      "Boolean Series key will be reindexed to match DataFrame index.\n",
      "\n"
     ]
    },
    {
     "data": {
      "text/plain": [
       "<matplotlib.axes._subplots.AxesSubplot at 0x2aab1e797a90>"
      ]
     },
     "execution_count": 20,
     "metadata": {},
     "output_type": "execute_result"
    },
    {
     "data": {
      "image/png": "[encoded data removed]",
      "text/plain": [
       "<Figure size 432x288 with 1 Axes>"
      ]
     },
     "metadata": {
      "needs_background": "light"
     },
     "output_type": "display_data"
    }
   ],
   "source": [
    "sns.lineplot(x='timestamp',y='meter_reading',data=df_one_building[dataset[\"meter\"] == 2])"
   ]
  },
  {
   "cell_type": "code",
   "execution_count": 21,
   "metadata": {},
   "outputs": [
    {
     "name": "stderr",
     "output_type": "stream",
     "text": [
      "/home/lwlw/anaconda3/lib/python3.7/site-packages/ipykernel_launcher.py:1: UserWarning:\n",
      "\n",
      "Boolean Series key will be reindexed to match DataFrame index.\n",
      "\n"
     ]
    },
    {
     "data": {
      "text/plain": [
       "<matplotlib.axes._subplots.AxesSubplot at 0x2aab1ed466d8>"
      ]
     },
     "execution_count": 21,
     "metadata": {},
     "output_type": "execute_result"
    },
    {
     "data": {
      "image/png": "[encoded data removed]",
      "text/plain": [
       "<Figure size 432x288 with 1 Axes>"
      ]
     },
     "metadata": {
      "needs_background": "light"
     },
     "output_type": "display_data"
    }
   ],
   "source": [
    "sns.lineplot(x='timestamp',y='meter_reading',data=df_one_building[dataset[\"meter\"] == 3])"
   ]
  },
  {
   "cell_type": "code",
   "execution_count": 22,
   "metadata": {},
   "outputs": [],
   "source": [
    "df_one_building_test = test[test.building_id == 1258]"
   ]
  },
  {
   "cell_type": "code",
   "execution_count": 24,
   "metadata": {},
   "outputs": [
    {
     "data": {
      "text/html": [
       "<div>\n",
       "<style scoped>\n",
       "    .dataframe tbody tr th:only-of-type {\n",
       "        vertical-align: middle;\n",
       "    }\n",
       "\n",
       "    .dataframe tbody tr th {\n",
       "        vertical-align: top;\n",
       "    }\n",
       "\n",
       "    .dataframe thead th {\n",
       "        text-align: right;\n",
       "    }\n",
       "</style>\n",
       "<table border=\"1\" class=\"dataframe\">\n",
       "  <thead>\n",
       "    <tr style=\"text-align: right;\">\n",
       "      <th></th>\n",
       "      <th>row_id</th>\n",
       "      <th>building_id</th>\n",
       "      <th>meter</th>\n",
       "      <th>timestamp</th>\n",
       "      <th>site_id</th>\n",
       "      <th>primary_use</th>\n",
       "      <th>square_feet</th>\n",
       "      <th>year_built</th>\n",
       "      <th>floor_count</th>\n",
       "      <th>air_temperature</th>\n",
       "      <th>cloud_coverage</th>\n",
       "      <th>dew_temperature</th>\n",
       "      <th>precip_depth_1_hr</th>\n",
       "      <th>sea_level_pressure</th>\n",
       "      <th>wind_direction</th>\n",
       "      <th>wind_speed</th>\n",
       "    </tr>\n",
       "  </thead>\n",
       "  <tbody>\n",
       "    <tr>\n",
       "      <th>32153817</th>\n",
       "      <td>32153817</td>\n",
       "      <td>1258</td>\n",
       "      <td>0</td>\n",
       "      <td>2017-01-01 01:00:00</td>\n",
       "      <td>14</td>\n",
       "      <td>Education</td>\n",
       "      <td>273234</td>\n",
       "      <td>NaN</td>\n",
       "      <td>NaN</td>\n",
       "      <td>5.6</td>\n",
       "      <td>NaN</td>\n",
       "      <td>-5.6</td>\n",
       "      <td>0.0</td>\n",
       "      <td>1013.099976</td>\n",
       "      <td>230.0</td>\n",
       "      <td>4.1</td>\n",
       "    </tr>\n",
       "    <tr>\n",
       "      <th>32153818</th>\n",
       "      <td>32153818</td>\n",
       "      <td>1258</td>\n",
       "      <td>1</td>\n",
       "      <td>2017-01-01 01:00:00</td>\n",
       "      <td>14</td>\n",
       "      <td>Education</td>\n",
       "      <td>273234</td>\n",
       "      <td>NaN</td>\n",
       "      <td>NaN</td>\n",
       "      <td>5.6</td>\n",
       "      <td>NaN</td>\n",
       "      <td>-5.6</td>\n",
       "      <td>0.0</td>\n",
       "      <td>1013.099976</td>\n",
       "      <td>230.0</td>\n",
       "      <td>4.1</td>\n",
       "    </tr>\n",
       "    <tr>\n",
       "      <th>32153819</th>\n",
       "      <td>32153819</td>\n",
       "      <td>1258</td>\n",
       "      <td>2</td>\n",
       "      <td>2017-01-01 01:00:00</td>\n",
       "      <td>14</td>\n",
       "      <td>Education</td>\n",
       "      <td>273234</td>\n",
       "      <td>NaN</td>\n",
       "      <td>NaN</td>\n",
       "      <td>5.6</td>\n",
       "      <td>NaN</td>\n",
       "      <td>-5.6</td>\n",
       "      <td>0.0</td>\n",
       "      <td>1013.099976</td>\n",
       "      <td>230.0</td>\n",
       "      <td>4.1</td>\n",
       "    </tr>\n",
       "    <tr>\n",
       "      <th>32153820</th>\n",
       "      <td>32153820</td>\n",
       "      <td>1258</td>\n",
       "      <td>3</td>\n",
       "      <td>2017-01-01 01:00:00</td>\n",
       "      <td>14</td>\n",
       "      <td>Education</td>\n",
       "      <td>273234</td>\n",
       "      <td>NaN</td>\n",
       "      <td>NaN</td>\n",
       "      <td>5.6</td>\n",
       "      <td>NaN</td>\n",
       "      <td>-5.6</td>\n",
       "      <td>0.0</td>\n",
       "      <td>1013.099976</td>\n",
       "      <td>230.0</td>\n",
       "      <td>4.1</td>\n",
       "    </tr>\n",
       "    <tr>\n",
       "      <th>32154105</th>\n",
       "      <td>32154105</td>\n",
       "      <td>1258</td>\n",
       "      <td>0</td>\n",
       "      <td>2017-01-01 02:00:00</td>\n",
       "      <td>14</td>\n",
       "      <td>Education</td>\n",
       "      <td>273234</td>\n",
       "      <td>NaN</td>\n",
       "      <td>NaN</td>\n",
       "      <td>5.6</td>\n",
       "      <td>NaN</td>\n",
       "      <td>-5.0</td>\n",
       "      <td>0.0</td>\n",
       "      <td>1012.299988</td>\n",
       "      <td>220.0</td>\n",
       "      <td>5.7</td>\n",
       "    </tr>\n",
       "    <tr>\n",
       "      <th>32154106</th>\n",
       "      <td>32154106</td>\n",
       "      <td>1258</td>\n",
       "      <td>1</td>\n",
       "      <td>2017-01-01 02:00:00</td>\n",
       "      <td>14</td>\n",
       "      <td>Education</td>\n",
       "      <td>273234</td>\n",
       "      <td>NaN</td>\n",
       "      <td>NaN</td>\n",
       "      <td>5.6</td>\n",
       "      <td>NaN</td>\n",
       "      <td>-5.0</td>\n",
       "      <td>0.0</td>\n",
       "      <td>1012.299988</td>\n",
       "      <td>220.0</td>\n",
       "      <td>5.7</td>\n",
       "    </tr>\n",
       "    <tr>\n",
       "      <th>32154107</th>\n",
       "      <td>32154107</td>\n",
       "      <td>1258</td>\n",
       "      <td>2</td>\n",
       "      <td>2017-01-01 02:00:00</td>\n",
       "      <td>14</td>\n",
       "      <td>Education</td>\n",
       "      <td>273234</td>\n",
       "      <td>NaN</td>\n",
       "      <td>NaN</td>\n",
       "      <td>5.6</td>\n",
       "      <td>NaN</td>\n",
       "      <td>-5.0</td>\n",
       "      <td>0.0</td>\n",
       "      <td>1012.299988</td>\n",
       "      <td>220.0</td>\n",
       "      <td>5.7</td>\n",
       "    </tr>\n",
       "    <tr>\n",
       "      <th>32154108</th>\n",
       "      <td>32154108</td>\n",
       "      <td>1258</td>\n",
       "      <td>3</td>\n",
       "      <td>2017-01-01 02:00:00</td>\n",
       "      <td>14</td>\n",
       "      <td>Education</td>\n",
       "      <td>273234</td>\n",
       "      <td>NaN</td>\n",
       "      <td>NaN</td>\n",
       "      <td>5.6</td>\n",
       "      <td>NaN</td>\n",
       "      <td>-5.0</td>\n",
       "      <td>0.0</td>\n",
       "      <td>1012.299988</td>\n",
       "      <td>220.0</td>\n",
       "      <td>5.7</td>\n",
       "    </tr>\n",
       "    <tr>\n",
       "      <th>32154393</th>\n",
       "      <td>32154393</td>\n",
       "      <td>1258</td>\n",
       "      <td>0</td>\n",
       "      <td>2017-01-01 03:00:00</td>\n",
       "      <td>14</td>\n",
       "      <td>Education</td>\n",
       "      <td>273234</td>\n",
       "      <td>NaN</td>\n",
       "      <td>NaN</td>\n",
       "      <td>5.6</td>\n",
       "      <td>NaN</td>\n",
       "      <td>-3.9</td>\n",
       "      <td>0.0</td>\n",
       "      <td>1011.900024</td>\n",
       "      <td>210.0</td>\n",
       "      <td>4.6</td>\n",
       "    </tr>\n",
       "    <tr>\n",
       "      <th>32154394</th>\n",
       "      <td>32154394</td>\n",
       "      <td>1258</td>\n",
       "      <td>1</td>\n",
       "      <td>2017-01-01 03:00:00</td>\n",
       "      <td>14</td>\n",
       "      <td>Education</td>\n",
       "      <td>273234</td>\n",
       "      <td>NaN</td>\n",
       "      <td>NaN</td>\n",
       "      <td>5.6</td>\n",
       "      <td>NaN</td>\n",
       "      <td>-3.9</td>\n",
       "      <td>0.0</td>\n",
       "      <td>1011.900024</td>\n",
       "      <td>210.0</td>\n",
       "      <td>4.6</td>\n",
       "    </tr>\n",
       "  </tbody>\n",
       "</table>\n",
       "</div>"
      ],
      "text/plain": [
       "            row_id  building_id  meter           timestamp  site_id  \\\n",
       "32153817  32153817         1258      0 2017-01-01 01:00:00       14   \n",
       "32153818  32153818         1258      1 2017-01-01 01:00:00       14   \n",
       "32153819  32153819         1258      2 2017-01-01 01:00:00       14   \n",
       "32153820  32153820         1258      3 2017-01-01 01:00:00       14   \n",
       "32154105  32154105         1258      0 2017-01-01 02:00:00       14   \n",
       "32154106  32154106         1258      1 2017-01-01 02:00:00       14   \n",
       "32154107  32154107         1258      2 2017-01-01 02:00:00       14   \n",
       "32154108  32154108         1258      3 2017-01-01 02:00:00       14   \n",
       "32154393  32154393         1258      0 2017-01-01 03:00:00       14   \n",
       "32154394  32154394         1258      1 2017-01-01 03:00:00       14   \n",
       "\n",
       "         primary_use  square_feet  year_built  floor_count  air_temperature  \\\n",
       "32153817   Education       273234         NaN          NaN              5.6   \n",
       "32153818   Education       273234         NaN          NaN              5.6   \n",
       "32153819   Education       273234         NaN          NaN              5.6   \n",
       "32153820   Education       273234         NaN          NaN              5.6   \n",
       "32154105   Education       273234         NaN          NaN              5.6   \n",
       "32154106   Education       273234         NaN          NaN              5.6   \n",
       "32154107   Education       273234         NaN          NaN              5.6   \n",
       "32154108   Education       273234         NaN          NaN              5.6   \n",
       "32154393   Education       273234         NaN          NaN              5.6   \n",
       "32154394   Education       273234         NaN          NaN              5.6   \n",
       "\n",
       "          cloud_coverage  dew_temperature  precip_depth_1_hr  \\\n",
       "32153817             NaN             -5.6                0.0   \n",
       "32153818             NaN             -5.6                0.0   \n",
       "32153819             NaN             -5.6                0.0   \n",
       "32153820             NaN             -5.6                0.0   \n",
       "32154105             NaN             -5.0                0.0   \n",
       "32154106             NaN             -5.0                0.0   \n",
       "32154107             NaN             -5.0                0.0   \n",
       "32154108             NaN             -5.0                0.0   \n",
       "32154393             NaN             -3.9                0.0   \n",
       "32154394             NaN             -3.9                0.0   \n",
       "\n",
       "          sea_level_pressure  wind_direction  wind_speed  \n",
       "32153817         1013.099976           230.0         4.1  \n",
       "32153818         1013.099976           230.0         4.1  \n",
       "32153819         1013.099976           230.0         4.1  \n",
       "32153820         1013.099976           230.0         4.1  \n",
       "32154105         1012.299988           220.0         5.7  \n",
       "32154106         1012.299988           220.0         5.7  \n",
       "32154107         1012.299988           220.0         5.7  \n",
       "32154108         1012.299988           220.0         5.7  \n",
       "32154393         1011.900024           210.0         4.6  \n",
       "32154394         1011.900024           210.0         4.6  "
      ]
     },
     "execution_count": 24,
     "metadata": {},
     "output_type": "execute_result"
    }
   ],
   "source": [
    "df_one_building_test.head(10)"
   ]
  },
  {
   "cell_type": "code",
   "execution_count": 25,
   "metadata": {},
   "outputs": [
    {
     "data": {
      "text/plain": [
       "[<matplotlib.lines.Line2D at 0x2aab1e711780>]"
      ]
     },
     "execution_count": 25,
     "metadata": {},
     "output_type": "execute_result"
    },
    {
     "data": {
      "image/png": "[encoded data removed]",
      "text/plain": [
       "<Figure size 432x288 with 1 Axes>"
      ]
     },
     "metadata": {
      "needs_background": "light"
     },
     "output_type": "display_data"
    }
   ],
   "source": [
    "ave = []\n",
    "for i in range(4):\n",
    "    ave.append(dataset[(dataset.meter==i)].meter_reading.mean())\n",
    "plt.plot(ave)"
   ]
  },
  {
   "cell_type": "code",
   "execution_count": 31,
   "metadata": {},
   "outputs": [
    {
     "data": {
      "image/png": "[encoded data removed]",
      "text/plain": [
       "<Figure size 432x288 with 1 Axes>"
      ]
     },
     "metadata": {
      "needs_background": "light"
     },
     "output_type": "display_data"
    }
   ],
   "source": [
    "g = sns.distplot(dataset[\"site_id\"])"
   ]
  },
  {
   "cell_type": "code",
   "execution_count": 27,
   "metadata": {},
   "outputs": [
    {
     "data": {
      "text/plain": [
       "[<matplotlib.lines.Line2D at 0x2aab1e82ee48>]"
      ]
     },
     "execution_count": 27,
     "metadata": {},
     "output_type": "execute_result"
    },
    {
     "data": {
      "image/png": "[encoded data removed]",
      "text/plain": [
       "<Figure size 432x288 with 1 Axes>"
      ]
     },
     "metadata": {
      "needs_background": "light"
     },
     "output_type": "display_data"
    }
   ],
   "source": [
    "ave = []\n",
    "for i in range(14):\n",
    "    ave.append(dataset.loc[(dataset.site_id==i)].meter_reading.mean())\n",
    "plt.plot(ave)"
   ]
  },
  {
   "cell_type": "code",
   "execution_count": 29,
   "metadata": {},
   "outputs": [
    {
     "data": {
      "image/png": "[encoded data removed]",
      "text/plain": [
       "<Figure size 432x288 with 1 Axes>"
      ]
     },
     "metadata": {
      "needs_background": "light"
     },
     "output_type": "display_data"
    }
   ],
   "source": [
    "# dataset[\"square_feet\"].value_counts()\n",
    "g = sns.distplot(dataset[\"square_feet\"])"
   ]
  },
  {
   "cell_type": "code",
   "execution_count": 30,
   "metadata": {},
   "outputs": [
    {
     "data": {
      "text/plain": [
       "[<matplotlib.lines.Line2D at 0x2aab1e58ec50>]"
      ]
     },
     "execution_count": 30,
     "metadata": {},
     "output_type": "execute_result"
    },
    {
     "data": {
      "image/png": "[encoded data removed]",
      "text/plain": [
       "<Figure size 432x288 with 1 Axes>"
      ]
     },
     "metadata": {
      "needs_background": "light"
     },
     "output_type": "display_data"
    }
   ],
   "source": [
    "ave = []\n",
    "for i in range(8):\n",
    "    ave.append(dataset.loc[(dataset.square_feet/100000<i+1) & (dataset.square_feet/100000>=i)].meter_reading.mean())\n",
    "plt.subplot(1,2,2)\n",
    "plt.plot(ave)"
   ]
  },
  {
   "cell_type": "code",
   "execution_count": 40,
   "metadata": {},
   "outputs": [
    {
     "data": {
      "text/plain": [
       "[<matplotlib.lines.Line2D at 0x2aab1ea210f0>]"
      ]
     },
     "execution_count": 40,
     "metadata": {},
     "output_type": "execute_result"
    },
    {
     "data": {
      "image/png": "[encoded data removed]",
      "text/plain": [
       "<Figure size 432x288 with 2 Axes>"
      ]
     },
     "metadata": {
      "needs_background": "light"
     },
     "output_type": "display_data"
    }
   ],
   "source": [
    "plt.subplot(1,2,1)\n",
    "g = sns.distplot(train[\"air_temperature\"].astype('int'))\n",
    "for i in range(10):\n",
    "    ave.append(train.loc[(dataset[feature]>-30+i*10) & (train[feature]<-20+i*10)].meter_reading.mean())\n",
    "plt.subplot(1,2,2)\n",
    "plt.plot(ave)"
   ]
  },
  {
   "cell_type": "code",
   "execution_count": 41,
   "metadata": {},
   "outputs": [
    {
     "data": {
      "text/plain": [
       "[<matplotlib.lines.Line2D at 0x2aab1e57ca20>]"
      ]
     },
     "execution_count": 41,
     "metadata": {},
     "output_type": "execute_result"
    },
    {
     "data": {
      "image/png": "[encoded data removed]",
      "text/plain": [
       "<Figure size 432x288 with 2 Axes>"
      ]
     },
     "metadata": {
      "needs_background": "light"
     },
     "output_type": "display_data"
    }
   ],
   "source": [
    "plt.subplot(1,2,1)\n",
    "g = sns.distplot(train[\"cloud_coverage\"].astype('int'))\n",
    "ave = []\n",
    "for i in [0,2,4,6,8]:\n",
    "    ave.append(train.loc[(train[\"cloud_coverage\"]==i)].meter_reading.mean())\n",
    "plt.subplot(1,2,2)\n",
    "plt.plot(ave)"
   ]
  },
  {
   "cell_type": "code",
   "execution_count": 43,
   "metadata": {},
   "outputs": [
    {
     "data": {
      "text/plain": [
       "[<matplotlib.lines.Line2D at 0x2aab1e533278>]"
      ]
     },
     "execution_count": 43,
     "metadata": {},
     "output_type": "execute_result"
    },
    {
     "data": {
      "image/png": "[encoded data removed]",
      "text/plain": [
       "<Figure size 432x288 with 2 Axes>"
      ]
     },
     "metadata": {
      "needs_background": "light"
     },
     "output_type": "display_data"
    }
   ],
   "source": [
    "plt.subplot(1,2,1)\n",
    "g = sns.distplot(train[\"primary_use\"])\n",
    "ave = []\n",
    "for i in range(16):\n",
    "    ave.append(train.loc[(train[\"primary_use\"]==i)].meter_reading.mean())\n",
    "plt.subplot(1,2,2)\n",
    "plt.plot(ave)"
   ]
  },
  {
   "cell_type": "code",
   "execution_count": 44,
   "metadata": {},
   "outputs": [
    {
     "data": {
      "text/plain": [
       "[<matplotlib.lines.Line2D at 0x2aab1ed84f98>]"
      ]
     },
     "execution_count": 44,
     "metadata": {},
     "output_type": "execute_result"
    },
    {
     "data": {
      "image/png": "[encoded data removed]",
      "text/plain": [
       "<Figure size 432x288 with 2 Axes>"
      ]
     },
     "metadata": {
      "needs_background": "light"
     },
     "output_type": "display_data"
    }
   ],
   "source": [
    "plt.subplot(1,2,1)\n",
    "g = sns.distplot(train[\"dew_temperature\"])\n",
    "ave = []\n",
    "for i in range(10):\n",
    "    ave.append(train.loc[(train[\"dew_temperature\"]==i)].meter_reading.mean())\n",
    "plt.subplot(1,2,2)\n",
    "plt.plot(ave)"
   ]
  },
  {
   "cell_type": "code",
   "execution_count": null,
   "metadata": {},
   "outputs": [],
   "source": []
  }
 ],
 "metadata": {
  "kernelspec": {
   "display_name": "Python 3",
   "language": "python",
   "name": "python3"
  },
  "language_info": {
   "codemirror_mode": {
    "name": "ipython",
    "version": 3
   },
   "file_extension": ".py",
   "mimetype": "text/x-python",
   "name": "python",
   "nbconvert_exporter": "python",
   "pygments_lexer": "ipython3",
   "version": "3.7.3"
  }
 },
 "nbformat": 4,
 "nbformat_minor": 2
}
