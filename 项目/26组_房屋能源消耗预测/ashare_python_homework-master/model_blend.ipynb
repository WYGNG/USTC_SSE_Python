{
 "cells": [
  {
   "cell_type": "code",
   "execution_count": 1,
   "metadata": {},
   "outputs": [],
   "source": [
    "import os\n",
    "import numpy as np \n",
    "import pandas as pd \n",
    "import matplotlib.pyplot as plt\n",
    "from scipy.stats.mstats import gmean\n",
    "import seaborn as sns\n",
    "%matplotlib inline\n",
    "from subprocess import check_output"
   ]
  },
  {
   "cell_type": "code",
   "execution_count": 2,
   "metadata": {},
   "outputs": [
    {
     "data": {
      "text/plain": [
       "['submission_03.csv',\n",
       " 'submission_02.csv',\n",
       " 'submission_01.csv',\n",
       " 'submission_04.csv']"
      ]
     },
     "execution_count": 2,
     "metadata": {},
     "output_type": "execute_result"
    }
   ],
   "source": [
    "sub_path = \"./sub_path\"\n",
    "all_files = os.listdir(sub_path)\n",
    "all_files"
   ]
  },
  {
   "cell_type": "code",
   "execution_count": 7,
   "metadata": {},
   "outputs": [],
   "source": [
    "import warnings\n",
    "warnings.filterwarnings(\"ignore\")\n",
    "outs = [pd.read_csv(os.path.join(sub_path, f), index_col=0) for f in all_files]\n",
    "concat_sub = pd.concat(outs, axis=1)\n",
    "cols = list(map(lambda x: \"mol\" + str(x), range(len(concat_sub.columns))))\n",
    "concat_sub.columns = cols\n",
    "concat_sub.reset_index(inplace=True)\n",
    "concat_sub.head()\n",
    "ncol = concat_sub.shape[1]"
   ]
  },
  {
   "cell_type": "code",
   "execution_count": 8,
   "metadata": {},
   "outputs": [
    {
     "data": {
      "text/html": [
       "<div>\n",
       "<style scoped>\n",
       "    .dataframe tbody tr th:only-of-type {\n",
       "        vertical-align: middle;\n",
       "    }\n",
       "\n",
       "    .dataframe tbody tr th {\n",
       "        vertical-align: top;\n",
       "    }\n",
       "\n",
       "    .dataframe thead th {\n",
       "        text-align: right;\n",
       "    }\n",
       "</style>\n",
       "<table border=\"1\" class=\"dataframe\">\n",
       "  <thead>\n",
       "    <tr style=\"text-align: right;\">\n",
       "      <th></th>\n",
       "      <th>mol0</th>\n",
       "      <th>mol1</th>\n",
       "      <th>mol2</th>\n",
       "      <th>mol3</th>\n",
       "    </tr>\n",
       "  </thead>\n",
       "  <tbody>\n",
       "    <tr>\n",
       "      <th>mol0</th>\n",
       "      <td>1.000000</td>\n",
       "      <td>0.282473</td>\n",
       "      <td>0.115824</td>\n",
       "      <td>0.214049</td>\n",
       "    </tr>\n",
       "    <tr>\n",
       "      <th>mol1</th>\n",
       "      <td>0.282473</td>\n",
       "      <td>1.000000</td>\n",
       "      <td>0.332689</td>\n",
       "      <td>0.950158</td>\n",
       "    </tr>\n",
       "    <tr>\n",
       "      <th>mol2</th>\n",
       "      <td>0.115824</td>\n",
       "      <td>0.332689</td>\n",
       "      <td>1.000000</td>\n",
       "      <td>0.312220</td>\n",
       "    </tr>\n",
       "    <tr>\n",
       "      <th>mol3</th>\n",
       "      <td>0.214049</td>\n",
       "      <td>0.950158</td>\n",
       "      <td>0.312220</td>\n",
       "      <td>1.000000</td>\n",
       "    </tr>\n",
       "  </tbody>\n",
       "</table>\n",
       "</div>"
      ],
      "text/plain": [
       "          mol0      mol1      mol2      mol3\n",
       "mol0  1.000000  0.282473  0.115824  0.214049\n",
       "mol1  0.282473  1.000000  0.332689  0.950158\n",
       "mol2  0.115824  0.332689  1.000000  0.312220\n",
       "mol3  0.214049  0.950158  0.312220  1.000000"
      ]
     },
     "execution_count": 8,
     "metadata": {},
     "output_type": "execute_result"
    }
   ],
   "source": [
    "concat_sub.iloc[:,1:].corr()"
   ]
  },
  {
   "cell_type": "code",
   "execution_count": 9,
   "metadata": {},
   "outputs": [
    {
     "data": {
      "text/plain": [
       "<matplotlib.axes._subplots.AxesSubplot at 0x2aaea44f1f98>"
      ]
     },
     "execution_count": 9,
     "metadata": {},
     "output_type": "execute_result"
    },
    {
     "data": {
      "image/png": "[encoded data removed]",
      "text/plain": [
       "<Figure size 792x648 with 2 Axes>"
      ]
     },
     "metadata": {
      "needs_background": "light"
     },
     "output_type": "display_data"
    }
   ],
   "source": [
    "corr = concat_sub.iloc[:,1:].corr()\n",
    "mask = np.zeros_like(corr, dtype=np.bool)\n",
    "mask[np.triu_indices_from(mask)] = True\n",
    "\n",
    "# Set up the matplotlib figure\n",
    "f, ax = plt.subplots(figsize=(11, 9))\n",
    "\n",
    "# Draw the heatmap with the mask and correct aspect ratio\n",
    "sns.heatmap(corr, mask=mask, cmap='prism', vmin=0.96, center=0, square=True, linewidths=1, annot=True, fmt='.4f')"
   ]
  },
  {
   "cell_type": "code",
   "execution_count": 10,
   "metadata": {},
   "outputs": [],
   "source": [
    "concat_sub['m_max'] = concat_sub.iloc[:, 1:].max(axis=1)\n",
    "concat_sub['m_min'] = concat_sub.iloc[:, 1:].min(axis=1)\n",
    "concat_sub['m_median'] = concat_sub.iloc[:, 1:].median(axis=1)"
   ]
  },
  {
   "cell_type": "code",
   "execution_count": 11,
   "metadata": {},
   "outputs": [
    {
     "data": {
      "text/html": [
       "<div>\n",
       "<style scoped>\n",
       "    .dataframe tbody tr th:only-of-type {\n",
       "        vertical-align: middle;\n",
       "    }\n",
       "\n",
       "    .dataframe tbody tr th {\n",
       "        vertical-align: top;\n",
       "    }\n",
       "\n",
       "    .dataframe thead th {\n",
       "        text-align: right;\n",
       "    }\n",
       "</style>\n",
       "<table border=\"1\" class=\"dataframe\">\n",
       "  <thead>\n",
       "    <tr style=\"text-align: right;\">\n",
       "      <th></th>\n",
       "      <th>row_id</th>\n",
       "      <th>mol0</th>\n",
       "      <th>mol1</th>\n",
       "      <th>mol2</th>\n",
       "      <th>mol3</th>\n",
       "      <th>m_max</th>\n",
       "      <th>m_min</th>\n",
       "      <th>m_median</th>\n",
       "    </tr>\n",
       "  </thead>\n",
       "  <tbody>\n",
       "    <tr>\n",
       "      <th>count</th>\n",
       "      <td>4.169760e+07</td>\n",
       "      <td>4.169760e+07</td>\n",
       "      <td>4.169760e+07</td>\n",
       "      <td>4.169760e+07</td>\n",
       "      <td>4.169760e+07</td>\n",
       "      <td>4.169760e+07</td>\n",
       "      <td>4.169760e+07</td>\n",
       "      <td>4.169760e+07</td>\n",
       "    </tr>\n",
       "    <tr>\n",
       "      <th>mean</th>\n",
       "      <td>2.084880e+07</td>\n",
       "      <td>1.866454e+02</td>\n",
       "      <td>5.554121e+02</td>\n",
       "      <td>2.619740e+02</td>\n",
       "      <td>6.737280e+02</td>\n",
       "      <td>7.351698e+02</td>\n",
       "      <td>1.438172e+02</td>\n",
       "      <td>3.993863e+02</td>\n",
       "    </tr>\n",
       "    <tr>\n",
       "      <th>std</th>\n",
       "      <td>1.203706e+07</td>\n",
       "      <td>8.601680e+02</td>\n",
       "      <td>1.312309e+04</td>\n",
       "      <td>9.895196e+03</td>\n",
       "      <td>2.121556e+04</td>\n",
       "      <td>2.306644e+04</td>\n",
       "      <td>6.681301e+02</td>\n",
       "      <td>7.996652e+03</td>\n",
       "    </tr>\n",
       "    <tr>\n",
       "      <th>min</th>\n",
       "      <td>0.000000e+00</td>\n",
       "      <td>0.000000e+00</td>\n",
       "      <td>0.000000e+00</td>\n",
       "      <td>0.000000e+00</td>\n",
       "      <td>0.000000e+00</td>\n",
       "      <td>0.000000e+00</td>\n",
       "      <td>0.000000e+00</td>\n",
       "      <td>0.000000e+00</td>\n",
       "    </tr>\n",
       "    <tr>\n",
       "      <th>25%</th>\n",
       "      <td>1.042440e+07</td>\n",
       "      <td>1.525497e+01</td>\n",
       "      <td>2.171503e+01</td>\n",
       "      <td>1.428801e+01</td>\n",
       "      <td>2.150517e+01</td>\n",
       "      <td>2.887192e+01</td>\n",
       "      <td>1.006115e+01</td>\n",
       "      <td>2.041877e+01</td>\n",
       "    </tr>\n",
       "    <tr>\n",
       "      <th>50%</th>\n",
       "      <td>2.084880e+07</td>\n",
       "      <td>5.203028e+01</td>\n",
       "      <td>7.496372e+01</td>\n",
       "      <td>5.412424e+01</td>\n",
       "      <td>7.563206e+01</td>\n",
       "      <td>9.034129e+01</td>\n",
       "      <td>3.937232e+01</td>\n",
       "      <td>6.738380e+01</td>\n",
       "    </tr>\n",
       "    <tr>\n",
       "      <th>75%</th>\n",
       "      <td>3.127320e+07</td>\n",
       "      <td>1.335783e+02</td>\n",
       "      <td>2.266051e+02</td>\n",
       "      <td>1.526150e+02</td>\n",
       "      <td>2.324566e+02</td>\n",
       "      <td>2.611899e+02</td>\n",
       "      <td>1.079328e+02</td>\n",
       "      <td>1.920782e+02</td>\n",
       "    </tr>\n",
       "    <tr>\n",
       "      <th>max</th>\n",
       "      <td>4.169760e+07</td>\n",
       "      <td>5.412435e+04</td>\n",
       "      <td>1.473253e+06</td>\n",
       "      <td>1.518182e+07</td>\n",
       "      <td>3.334068e+06</td>\n",
       "      <td>1.518182e+07</td>\n",
       "      <td>5.402504e+04</td>\n",
       "      <td>1.925436e+06</td>\n",
       "    </tr>\n",
       "  </tbody>\n",
       "</table>\n",
       "</div>"
      ],
      "text/plain": [
       "             row_id          mol0          mol1          mol2          mol3  \\\n",
       "count  4.169760e+07  4.169760e+07  4.169760e+07  4.169760e+07  4.169760e+07   \n",
       "mean   2.084880e+07  1.866454e+02  5.554121e+02  2.619740e+02  6.737280e+02   \n",
       "std    1.203706e+07  8.601680e+02  1.312309e+04  9.895196e+03  2.121556e+04   \n",
       "min    0.000000e+00  0.000000e+00  0.000000e+00  0.000000e+00  0.000000e+00   \n",
       "25%    1.042440e+07  1.525497e+01  2.171503e+01  1.428801e+01  2.150517e+01   \n",
       "50%    2.084880e+07  5.203028e+01  7.496372e+01  5.412424e+01  7.563206e+01   \n",
       "75%    3.127320e+07  1.335783e+02  2.266051e+02  1.526150e+02  2.324566e+02   \n",
       "max    4.169760e+07  5.412435e+04  1.473253e+06  1.518182e+07  3.334068e+06   \n",
       "\n",
       "              m_max         m_min      m_median  \n",
       "count  4.169760e+07  4.169760e+07  4.169760e+07  \n",
       "mean   7.351698e+02  1.438172e+02  3.993863e+02  \n",
       "std    2.306644e+04  6.681301e+02  7.996652e+03  \n",
       "min    0.000000e+00  0.000000e+00  0.000000e+00  \n",
       "25%    2.887192e+01  1.006115e+01  2.041877e+01  \n",
       "50%    9.034129e+01  3.937232e+01  6.738380e+01  \n",
       "75%    2.611899e+02  1.079328e+02  1.920782e+02  \n",
       "max    1.518182e+07  5.402504e+04  1.925436e+06  "
      ]
     },
     "execution_count": 11,
     "metadata": {},
     "output_type": "execute_result"
    }
   ],
   "source": [
    "concat_sub.describe()"
   ]
  },
  {
   "cell_type": "code",
   "execution_count": 12,
   "metadata": {},
   "outputs": [],
   "source": [
    "cutoff_lo = 0.8\n",
    "cutoff_hi = 0.2"
   ]
  },
  {
   "cell_type": "code",
   "execution_count": 13,
   "metadata": {},
   "outputs": [],
   "source": [
    "rank = np.tril(concat_sub.iloc[:,1:ncol].corr().values,-1)\n",
    "m_gmean = 0\n",
    "n = 8\n",
    "while rank.max()>0:\n",
    "    mx = np.unravel_index(rank.argmax(), rank.shape)\n",
    "    m_gmean += n*(np.log(concat_sub.iloc[:, mx[0]+1]) + np.log(concat_sub.iloc[:, mx[1]+1]))/2\n",
    "    rank[mx] = 0\n",
    "    n += 1"
   ]
  },
  {
   "cell_type": "code",
   "execution_count": 14,
   "metadata": {},
   "outputs": [],
   "source": [
    "concat_sub['m_mean'] = np.exp(m_gmean/(n-1)**2)"
   ]
  },
  {
   "cell_type": "code",
   "execution_count": 15,
   "metadata": {},
   "outputs": [],
   "source": [
    "concat_sub['meter_reading'] = concat_sub['m_mean']\n",
    "concat_sub[['row_id', 'meter_reading']].to_csv('stack_mean.csv', \n",
    "                                        index=False, float_format='%.6f')"
   ]
  },
  {
   "cell_type": "code",
   "execution_count": 16,
   "metadata": {},
   "outputs": [],
   "source": [
    "concat_sub['meter_reading'] = concat_sub['m_median']\n",
    "concat_sub[['row_id', 'meter_reading']].to_csv('stack_median.csv', \n",
    "                                        index=False, float_format='%.6f')"
   ]
  },
  {
   "cell_type": "code",
   "execution_count": 17,
   "metadata": {},
   "outputs": [],
   "source": [
    "concat_sub['meter_reading'] = np.where(np.all(concat_sub.iloc[:,1:7] > cutoff_lo, axis=1), 1, \n",
    "                                    np.where(np.all(concat_sub.iloc[:,1:7] < cutoff_hi, axis=1),\n",
    "                                             0, concat_sub['m_median']))\n",
    "concat_sub[['row_id', 'meter_reading']].to_csv('stack_pushout_median.csv', \n",
    "                                        index=False, float_format='%.6f')"
   ]
  },
  {
   "cell_type": "code",
   "execution_count": 18,
   "metadata": {},
   "outputs": [],
   "source": [
    "concat_sub['meter_reading'] = np.where(np.all(concat_sub.iloc[:,1:7] > cutoff_lo, axis=1), \n",
    "                                    concat_sub['m_max'], \n",
    "                                    np.where(np.all(concat_sub.iloc[:,1:7] < cutoff_hi, axis=1),\n",
    "                                             concat_sub['m_min'], \n",
    "                                             concat_sub['m_mean']))\n",
    "concat_sub[['row_id', 'meter_reading']].to_csv('stack_minmax_mean.csv', \n",
    "                                        index=False, float_format='%.6f')"
   ]
  },
  {
   "cell_type": "code",
   "execution_count": 19,
   "metadata": {},
   "outputs": [],
   "source": [
    "concat_sub['meter_reading'] = np.where(np.all(concat_sub.iloc[:,1:7] > cutoff_lo, axis=1), \n",
    "                                    concat_sub['m_max'], \n",
    "                                    np.where(np.all(concat_sub.iloc[:,1:7] < cutoff_hi, axis=1),\n",
    "                                             concat_sub['m_min'], \n",
    "                                             concat_sub['m_median']))\n",
    "concat_sub[['row_id', 'meter_reading']].to_csv('stack_minmax_median.csv', \n",
    "                                        index=False, float_format='%.6f')"
   ]
  },
  {
   "cell_type": "code",
   "execution_count": null,
   "metadata": {},
   "outputs": [],
   "source": []
  }
 ],
 "metadata": {
  "kernelspec": {
   "display_name": "Python 3",
   "language": "python",
   "name": "python3"
  },
  "language_info": {
   "codemirror_mode": {
    "name": "ipython",
    "version": 3
   },
   "file_extension": ".py",
   "mimetype": "text/x-python",
   "name": "python",
   "nbconvert_exporter": "python",
   "pygments_lexer": "ipython3",
   "version": "3.7.3"
  }
 },
 "nbformat": 4,
 "nbformat_minor": 2
}
